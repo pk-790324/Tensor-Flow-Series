{
 "cells": [
  {
   "cell_type": "code",
   "execution_count": 1,
   "id": "d9dbc937",
   "metadata": {
    "_cell_guid": "b1076dfc-b9ad-4769-8c92-a6c4dae69d19",
    "_uuid": "8f2839f25d086af736a60e9eeb907d3b93b6e0e5",
    "execution": {
     "iopub.execute_input": "2025-10-17T14:39:07.922341Z",
     "iopub.status.busy": "2025-10-17T14:39:07.922117Z",
     "iopub.status.idle": "2025-10-17T14:39:09.348962Z",
     "shell.execute_reply": "2025-10-17T14:39:09.348146Z"
    },
    "papermill": {
     "duration": 1.433285,
     "end_time": "2025-10-17T14:39:09.350135",
     "exception": false,
     "start_time": "2025-10-17T14:39:07.916850",
     "status": "completed"
    },
    "tags": []
   },
   "outputs": [
    {
     "name": "stdout",
     "output_type": "stream",
     "text": [
      "/kaggle/input/pima-indians-diabetes-database/diabetes.csv\n"
     ]
    }
   ],
   "source": [
    "# This Python 3 environment comes with many helpful analytics libraries installed\n",
    "# It is defined by the kaggle/python Docker image: https://github.com/kaggle/docker-python\n",
    "# For example, here's several helpful packages to load\n",
    "\n",
    "import numpy as np # linear algebra\n",
    "import pandas as pd # data processing, CSV file I/O (e.g. pd.read_csv)\n",
    "\n",
    "# Input data files are available in the read-only \"../input/\" directory\n",
    "# For example, running this (by clicking run or pressing Shift+Enter) will list all files under the input directory\n",
    "\n",
    "import os\n",
    "for dirname, _, filenames in os.walk('/kaggle/input'):\n",
    "    for filename in filenames:\n",
    "        print(os.path.join(dirname, filename))\n",
    "\n",
    "# You can write up to 20GB to the current directory (/kaggle/working/) that gets preserved as output when you create a version using \"Save & Run All\" \n",
    "# You can also write temporary files to /kaggle/temp/, but they won't be saved outside of the current session"
   ]
  },
  {
   "cell_type": "code",
   "execution_count": 2,
   "id": "a6dddb47",
   "metadata": {
    "execution": {
     "iopub.execute_input": "2025-10-17T14:39:09.359031Z",
     "iopub.status.busy": "2025-10-17T14:39:09.358767Z",
     "iopub.status.idle": "2025-10-17T14:39:09.374637Z",
     "shell.execute_reply": "2025-10-17T14:39:09.374131Z"
    },
    "papermill": {
     "duration": 0.021324,
     "end_time": "2025-10-17T14:39:09.375630",
     "exception": false,
     "start_time": "2025-10-17T14:39:09.354306",
     "status": "completed"
    },
    "tags": []
   },
   "outputs": [],
   "source": [
    "df=pd.read_csv('/kaggle/input/pima-indians-diabetes-database/diabetes.csv')"
   ]
  },
  {
   "cell_type": "code",
   "execution_count": 3,
   "id": "df41d6d9",
   "metadata": {
    "execution": {
     "iopub.execute_input": "2025-10-17T14:39:09.383477Z",
     "iopub.status.busy": "2025-10-17T14:39:09.383304Z",
     "iopub.status.idle": "2025-10-17T14:39:09.402257Z",
     "shell.execute_reply": "2025-10-17T14:39:09.401486Z"
    },
    "papermill": {
     "duration": 0.024181,
     "end_time": "2025-10-17T14:39:09.403465",
     "exception": false,
     "start_time": "2025-10-17T14:39:09.379284",
     "status": "completed"
    },
    "tags": []
   },
   "outputs": [
    {
     "data": {
      "text/html": [
       "<div>\n",
       "<style scoped>\n",
       "    .dataframe tbody tr th:only-of-type {\n",
       "        vertical-align: middle;\n",
       "    }\n",
       "\n",
       "    .dataframe tbody tr th {\n",
       "        vertical-align: top;\n",
       "    }\n",
       "\n",
       "    .dataframe thead th {\n",
       "        text-align: right;\n",
       "    }\n",
       "</style>\n",
       "<table border=\"1\" class=\"dataframe\">\n",
       "  <thead>\n",
       "    <tr style=\"text-align: right;\">\n",
       "      <th></th>\n",
       "      <th>Pregnancies</th>\n",
       "      <th>Glucose</th>\n",
       "      <th>BloodPressure</th>\n",
       "      <th>SkinThickness</th>\n",
       "      <th>Insulin</th>\n",
       "      <th>BMI</th>\n",
       "      <th>DiabetesPedigreeFunction</th>\n",
       "      <th>Age</th>\n",
       "      <th>Outcome</th>\n",
       "    </tr>\n",
       "  </thead>\n",
       "  <tbody>\n",
       "    <tr>\n",
       "      <th>0</th>\n",
       "      <td>6</td>\n",
       "      <td>148</td>\n",
       "      <td>72</td>\n",
       "      <td>35</td>\n",
       "      <td>0</td>\n",
       "      <td>33.6</td>\n",
       "      <td>0.627</td>\n",
       "      <td>50</td>\n",
       "      <td>1</td>\n",
       "    </tr>\n",
       "    <tr>\n",
       "      <th>1</th>\n",
       "      <td>1</td>\n",
       "      <td>85</td>\n",
       "      <td>66</td>\n",
       "      <td>29</td>\n",
       "      <td>0</td>\n",
       "      <td>26.6</td>\n",
       "      <td>0.351</td>\n",
       "      <td>31</td>\n",
       "      <td>0</td>\n",
       "    </tr>\n",
       "    <tr>\n",
       "      <th>2</th>\n",
       "      <td>8</td>\n",
       "      <td>183</td>\n",
       "      <td>64</td>\n",
       "      <td>0</td>\n",
       "      <td>0</td>\n",
       "      <td>23.3</td>\n",
       "      <td>0.672</td>\n",
       "      <td>32</td>\n",
       "      <td>1</td>\n",
       "    </tr>\n",
       "    <tr>\n",
       "      <th>3</th>\n",
       "      <td>1</td>\n",
       "      <td>89</td>\n",
       "      <td>66</td>\n",
       "      <td>23</td>\n",
       "      <td>94</td>\n",
       "      <td>28.1</td>\n",
       "      <td>0.167</td>\n",
       "      <td>21</td>\n",
       "      <td>0</td>\n",
       "    </tr>\n",
       "    <tr>\n",
       "      <th>4</th>\n",
       "      <td>0</td>\n",
       "      <td>137</td>\n",
       "      <td>40</td>\n",
       "      <td>35</td>\n",
       "      <td>168</td>\n",
       "      <td>43.1</td>\n",
       "      <td>2.288</td>\n",
       "      <td>33</td>\n",
       "      <td>1</td>\n",
       "    </tr>\n",
       "  </tbody>\n",
       "</table>\n",
       "</div>"
      ],
      "text/plain": [
       "   Pregnancies  Glucose  BloodPressure  SkinThickness  Insulin   BMI  \\\n",
       "0            6      148             72             35        0  33.6   \n",
       "1            1       85             66             29        0  26.6   \n",
       "2            8      183             64              0        0  23.3   \n",
       "3            1       89             66             23       94  28.1   \n",
       "4            0      137             40             35      168  43.1   \n",
       "\n",
       "   DiabetesPedigreeFunction  Age  Outcome  \n",
       "0                     0.627   50        1  \n",
       "1                     0.351   31        0  \n",
       "2                     0.672   32        1  \n",
       "3                     0.167   21        0  \n",
       "4                     2.288   33        1  "
      ]
     },
     "execution_count": 3,
     "metadata": {},
     "output_type": "execute_result"
    }
   ],
   "source": [
    "df.head()"
   ]
  },
  {
   "cell_type": "code",
   "execution_count": 4,
   "id": "dc73afa8",
   "metadata": {
    "execution": {
     "iopub.execute_input": "2025-10-17T14:39:09.412113Z",
     "iopub.status.busy": "2025-10-17T14:39:09.411645Z",
     "iopub.status.idle": "2025-10-17T14:39:09.415900Z",
     "shell.execute_reply": "2025-10-17T14:39:09.415167Z"
    },
    "papermill": {
     "duration": 0.009675,
     "end_time": "2025-10-17T14:39:09.417015",
     "exception": false,
     "start_time": "2025-10-17T14:39:09.407340",
     "status": "completed"
    },
    "tags": []
   },
   "outputs": [
    {
     "data": {
      "text/plain": [
       "(768, 9)"
      ]
     },
     "execution_count": 4,
     "metadata": {},
     "output_type": "execute_result"
    }
   ],
   "source": [
    "df.shape"
   ]
  },
  {
   "cell_type": "code",
   "execution_count": 5,
   "id": "06b63316",
   "metadata": {
    "execution": {
     "iopub.execute_input": "2025-10-17T14:39:09.425510Z",
     "iopub.status.busy": "2025-10-17T14:39:09.425341Z",
     "iopub.status.idle": "2025-10-17T14:39:09.434431Z",
     "shell.execute_reply": "2025-10-17T14:39:09.433665Z"
    },
    "papermill": {
     "duration": 0.015144,
     "end_time": "2025-10-17T14:39:09.436059",
     "exception": false,
     "start_time": "2025-10-17T14:39:09.420915",
     "status": "completed"
    },
    "tags": []
   },
   "outputs": [
    {
     "data": {
      "text/plain": [
       "Pregnancies                 0.221898\n",
       "Glucose                     0.466581\n",
       "BloodPressure               0.065068\n",
       "SkinThickness               0.074752\n",
       "Insulin                     0.130548\n",
       "BMI                         0.292695\n",
       "DiabetesPedigreeFunction    0.173844\n",
       "Age                         0.238356\n",
       "Outcome                     1.000000\n",
       "Name: Outcome, dtype: float64"
      ]
     },
     "execution_count": 5,
     "metadata": {},
     "output_type": "execute_result"
    }
   ],
   "source": [
    "# correlation of Outcome columns with respects to other colmns\n",
    "df.corr()['Outcome']"
   ]
  },
  {
   "cell_type": "code",
   "execution_count": 6,
   "id": "a7e46753",
   "metadata": {
    "execution": {
     "iopub.execute_input": "2025-10-17T14:39:09.447955Z",
     "iopub.status.busy": "2025-10-17T14:39:09.447530Z",
     "iopub.status.idle": "2025-10-17T14:39:09.461607Z",
     "shell.execute_reply": "2025-10-17T14:39:09.460855Z"
    },
    "papermill": {
     "duration": 0.020352,
     "end_time": "2025-10-17T14:39:09.463156",
     "exception": false,
     "start_time": "2025-10-17T14:39:09.442804",
     "status": "completed"
    },
    "tags": []
   },
   "outputs": [
    {
     "data": {
      "text/plain": [
       "(Pregnancies                 0\n",
       " Glucose                     0\n",
       " BloodPressure               0\n",
       " SkinThickness               0\n",
       " Insulin                     0\n",
       " BMI                         0\n",
       " DiabetesPedigreeFunction    0\n",
       " Age                         0\n",
       " Outcome                     0\n",
       " dtype: int64,\n",
       " 0,\n",
       " Pregnancies                 0\n",
       " Glucose                     0\n",
       " BloodPressure               0\n",
       " SkinThickness               0\n",
       " Insulin                     0\n",
       " BMI                         0\n",
       " DiabetesPedigreeFunction    0\n",
       " Age                         0\n",
       " Outcome                     0\n",
       " dtype: int64)"
      ]
     },
     "execution_count": 6,
     "metadata": {},
     "output_type": "execute_result"
    }
   ],
   "source": [
    "#check for null,duplicated and nan value\n",
    "df.isnull().sum(),df.duplicated().sum(),df.isna().sum()"
   ]
  },
  {
   "cell_type": "code",
   "execution_count": 7,
   "id": "cde212e8",
   "metadata": {
    "execution": {
     "iopub.execute_input": "2025-10-17T14:39:09.476498Z",
     "iopub.status.busy": "2025-10-17T14:39:09.476197Z",
     "iopub.status.idle": "2025-10-17T14:39:09.483615Z",
     "shell.execute_reply": "2025-10-17T14:39:09.482378Z"
    },
    "papermill": {
     "duration": 0.015819,
     "end_time": "2025-10-17T14:39:09.485177",
     "exception": false,
     "start_time": "2025-10-17T14:39:09.469358",
     "status": "completed"
    },
    "tags": []
   },
   "outputs": [],
   "source": [
    "#separating dependent and independent value\n",
    "X=df.iloc[:,:-1]\n",
    "y=df.iloc[:,-1]"
   ]
  },
  {
   "cell_type": "code",
   "execution_count": 8,
   "id": "b69c7c72",
   "metadata": {
    "execution": {
     "iopub.execute_input": "2025-10-17T14:39:09.495014Z",
     "iopub.status.busy": "2025-10-17T14:39:09.494801Z",
     "iopub.status.idle": "2025-10-17T14:39:10.741688Z",
     "shell.execute_reply": "2025-10-17T14:39:10.741090Z"
    },
    "papermill": {
     "duration": 1.252905,
     "end_time": "2025-10-17T14:39:10.743156",
     "exception": false,
     "start_time": "2025-10-17T14:39:09.490251",
     "status": "completed"
    },
    "tags": []
   },
   "outputs": [],
   "source": [
    "#train_test_split\n",
    "from sklearn.model_selection import train_test_split\n",
    "X_train,X_test,y_train,y_test=train_test_split(X,y,test_size=0.25,random_state=42)"
   ]
  },
  {
   "cell_type": "code",
   "execution_count": 9,
   "id": "7f576b7a",
   "metadata": {
    "execution": {
     "iopub.execute_input": "2025-10-17T14:39:10.752480Z",
     "iopub.status.busy": "2025-10-17T14:39:10.752164Z",
     "iopub.status.idle": "2025-10-17T14:39:10.760111Z",
     "shell.execute_reply": "2025-10-17T14:39:10.759325Z"
    },
    "papermill": {
     "duration": 0.013901,
     "end_time": "2025-10-17T14:39:10.761391",
     "exception": false,
     "start_time": "2025-10-17T14:39:10.747490",
     "status": "completed"
    },
    "tags": []
   },
   "outputs": [],
   "source": [
    "#Scaling the train and test data \n",
    "from sklearn.preprocessing import MinMaxScaler\n",
    "scaler=MinMaxScaler()\n",
    "X_train_scaled=scaler.fit_transform(X_train)\n",
    "X_test_scaled=scaler.transform(X_test)"
   ]
  },
  {
   "cell_type": "code",
   "execution_count": 10,
   "id": "83a39eb1",
   "metadata": {
    "execution": {
     "iopub.execute_input": "2025-10-17T14:39:10.771253Z",
     "iopub.status.busy": "2025-10-17T14:39:10.770621Z",
     "iopub.status.idle": "2025-10-17T14:39:22.996051Z",
     "shell.execute_reply": "2025-10-17T14:39:22.995463Z"
    },
    "papermill": {
     "duration": 12.231237,
     "end_time": "2025-10-17T14:39:22.997389",
     "exception": false,
     "start_time": "2025-10-17T14:39:10.766152",
     "status": "completed"
    },
    "tags": []
   },
   "outputs": [
    {
     "name": "stderr",
     "output_type": "stream",
     "text": [
      "2025-10-17 14:39:12.302858: E external/local_xla/xla/stream_executor/cuda/cuda_fft.cc:477] Unable to register cuFFT factory: Attempting to register factory for plugin cuFFT when one has already been registered\n",
      "WARNING: All log messages before absl::InitializeLog() is called are written to STDERR\n",
      "E0000 00:00:1760711952.517407      19 cuda_dnn.cc:8310] Unable to register cuDNN factory: Attempting to register factory for plugin cuDNN when one has already been registered\n",
      "E0000 00:00:1760711952.575703      19 cuda_blas.cc:1418] Unable to register cuBLAS factory: Attempting to register factory for plugin cuBLAS when one has already been registered\n"
     ]
    }
   ],
   "source": [
    "import tensorflow as tf\n",
    "from tensorflow import keras\n",
    "from keras import Sequential\n",
    "from keras.layers import Dense"
   ]
  },
  {
   "cell_type": "code",
   "execution_count": 11,
   "id": "665e316d",
   "metadata": {
    "execution": {
     "iopub.execute_input": "2025-10-17T14:39:23.007291Z",
     "iopub.status.busy": "2025-10-17T14:39:23.006686Z",
     "iopub.status.idle": "2025-10-17T14:39:28.075553Z",
     "shell.execute_reply": "2025-10-17T14:39:28.074981Z"
    },
    "papermill": {
     "duration": 5.07485,
     "end_time": "2025-10-17T14:39:28.076660",
     "exception": false,
     "start_time": "2025-10-17T14:39:23.001810",
     "status": "completed"
    },
    "tags": []
   },
   "outputs": [
    {
     "name": "stderr",
     "output_type": "stream",
     "text": [
      "/usr/local/lib/python3.11/dist-packages/keras/src/layers/core/dense.py:87: UserWarning: Do not pass an `input_shape`/`input_dim` argument to a layer. When using Sequential models, prefer using an `Input(shape)` object as the first layer in the model instead.\n",
      "  super().__init__(activity_regularizer=activity_regularizer, **kwargs)\n",
      "I0000 00:00:1760711963.855842      19 gpu_device.cc:2022] Created device /job:localhost/replica:0/task:0/device:GPU:0 with 13942 MB memory:  -> device: 0, name: Tesla T4, pci bus id: 0000:00:04.0, compute capability: 7.5\n",
      "I0000 00:00:1760711963.856511      19 gpu_device.cc:2022] Created device /job:localhost/replica:0/task:0/device:GPU:1 with 13942 MB memory:  -> device: 1, name: Tesla T4, pci bus id: 0000:00:05.0, compute capability: 7.5\n"
     ]
    },
    {
     "name": "stdout",
     "output_type": "stream",
     "text": [
      "Epoch 1/100\n"
     ]
    },
    {
     "name": "stderr",
     "output_type": "stream",
     "text": [
      "WARNING: All log messages before absl::InitializeLog() is called are written to STDERR\n",
      "I0000 00:00:1760711966.289059      60 service.cc:148] XLA service 0x7bcb7c006cd0 initialized for platform CUDA (this does not guarantee that XLA will be used). Devices:\n",
      "I0000 00:00:1760711966.289388      60 service.cc:156]   StreamExecutor device (0): Tesla T4, Compute Capability 7.5\n",
      "I0000 00:00:1760711966.289434      60 service.cc:156]   StreamExecutor device (1): Tesla T4, Compute Capability 7.5\n",
      "I0000 00:00:1760711966.476911      60 cuda_dnn.cc:529] Loaded cuDNN version 90300\n"
     ]
    },
    {
     "name": "stdout",
     "output_type": "stream",
     "text": [
      "\u001b[1m 1/18\u001b[0m \u001b[32m━\u001b[0m\u001b[37m━━━━━━━━━━━━━━━━━━━\u001b[0m \u001b[1m31s\u001b[0m 2s/step - accuracy: 0.4375 - loss: 0.7004"
     ]
    },
    {
     "name": "stderr",
     "output_type": "stream",
     "text": [
      "I0000 00:00:1760711966.996906      60 device_compiler.h:188] Compiled cluster using XLA!  This line is logged at most once for the lifetime of the process.\n"
     ]
    },
    {
     "name": "stdout",
     "output_type": "stream",
     "text": [
      "\u001b[1m18/18\u001b[0m \u001b[32m━━━━━━━━━━━━━━━━━━━━\u001b[0m\u001b[37m\u001b[0m \u001b[1m2s\u001b[0m 24ms/step - accuracy: 0.4780 - loss: 0.6967 - val_accuracy: 0.6510 - val_loss: 0.6796\n",
      "Epoch 2/100\n",
      "\u001b[1m18/18\u001b[0m \u001b[32m━━━━━━━━━━━━━━━━━━━━\u001b[0m\u001b[37m\u001b[0m \u001b[1m0s\u001b[0m 5ms/step - accuracy: 0.6568 - loss: 0.6747 - val_accuracy: 0.6354 - val_loss: 0.6685\n",
      "Epoch 3/100\n",
      "\u001b[1m18/18\u001b[0m \u001b[32m━━━━━━━━━━━━━━━━━━━━\u001b[0m\u001b[37m\u001b[0m \u001b[1m0s\u001b[0m 5ms/step - accuracy: 0.6595 - loss: 0.6627 - val_accuracy: 0.6406 - val_loss: 0.6620\n",
      "Epoch 4/100\n",
      "\u001b[1m18/18\u001b[0m \u001b[32m━━━━━━━━━━━━━━━━━━━━\u001b[0m\u001b[37m\u001b[0m \u001b[1m0s\u001b[0m 5ms/step - accuracy: 0.6595 - loss: 0.6548 - val_accuracy: 0.6406 - val_loss: 0.6566\n",
      "Epoch 5/100\n",
      "\u001b[1m18/18\u001b[0m \u001b[32m━━━━━━━━━━━━━━━━━━━━\u001b[0m\u001b[37m\u001b[0m \u001b[1m0s\u001b[0m 5ms/step - accuracy: 0.6595 - loss: 0.6479 - val_accuracy: 0.6406 - val_loss: 0.6508\n",
      "Epoch 6/100\n",
      "\u001b[1m18/18\u001b[0m \u001b[32m━━━━━━━━━━━━━━━━━━━━\u001b[0m\u001b[37m\u001b[0m \u001b[1m0s\u001b[0m 5ms/step - accuracy: 0.6591 - loss: 0.6416 - val_accuracy: 0.6458 - val_loss: 0.6456\n",
      "Epoch 7/100\n",
      "\u001b[1m18/18\u001b[0m \u001b[32m━━━━━━━━━━━━━━━━━━━━\u001b[0m\u001b[37m\u001b[0m \u001b[1m0s\u001b[0m 5ms/step - accuracy: 0.6591 - loss: 0.6365 - val_accuracy: 0.6458 - val_loss: 0.6410\n"
     ]
    },
    {
     "data": {
      "text/plain": [
       "<keras.src.callbacks.history.History at 0x7bcc2e3245d0>"
      ]
     },
     "execution_count": 11,
     "metadata": {},
     "output_type": "execute_result"
    }
   ],
   "source": [
    "#creating the neural network model\n",
    "tf.random.set_seed(43)\n",
    "model=Sequential()\n",
    "model.add(Dense(32,activation='relu',input_dim=(X.shape[1])))\n",
    "model.add(Dense(1,activation='sigmoid'))\n",
    "#compile the model\n",
    "loss=tf.keras.losses.BinaryCrossentropy()\n",
    "optimizer=tf.keras.optimizers.Adam(learning_rate=0.001)\n",
    "metrics=['accuracy']\n",
    "model.compile(loss=loss,optimizer=optimizer,metrics=metrics)\n",
    "#callbacks \n",
    "early_stopping=tf.keras.callbacks.EarlyStopping(monitor='accuracy',patience=5,restore_best_weights=True)\n",
    "#fit the model\n",
    "model.fit(X_train_scaled,y_train,epochs=100,callbacks=[early_stopping],validation_data=(X_test_scaled,y_test))"
   ]
  },
  {
   "cell_type": "markdown",
   "id": "65d9c8ad",
   "metadata": {
    "papermill": {
     "duration": 0.005232,
     "end_time": "2025-10-17T14:39:28.087514",
     "exception": false,
     "start_time": "2025-10-17T14:39:28.082282",
     "status": "completed"
    },
    "tags": []
   },
   "source": [
    "# hyperparameter tuning for optimizers"
   ]
  },
  {
   "cell_type": "code",
   "execution_count": 12,
   "id": "6de00c44",
   "metadata": {
    "execution": {
     "iopub.execute_input": "2025-10-17T14:39:28.098454Z",
     "iopub.status.busy": "2025-10-17T14:39:28.098230Z",
     "iopub.status.idle": "2025-10-17T14:39:28.353225Z",
     "shell.execute_reply": "2025-10-17T14:39:28.352565Z"
    },
    "papermill": {
     "duration": 0.262107,
     "end_time": "2025-10-17T14:39:28.354540",
     "exception": false,
     "start_time": "2025-10-17T14:39:28.092433",
     "status": "completed"
    },
    "tags": []
   },
   "outputs": [],
   "source": [
    "import keras_tuner as kt\n",
    "def build_model(hp):\n",
    "    model1=Sequential()\n",
    "    model1.add(Dense(32,activation='relu',input_dim=(X.shape[1])))\n",
    "    model1.add(Dense(1,activation='sigmoid'))\n",
    "    #compile the model\n",
    "    optimizer=hp.Choice('otimizers',values=['adam','sgd','rmsprop','adadelta'])\n",
    "    loss=tf.keras.losses.BinaryCrossentropy()\n",
    "    metrics=['accuracy']\n",
    "    model1.compile(optimizer=optimizer,loss=loss,metrics=metrics)\n",
    "    return model1"
   ]
  },
  {
   "cell_type": "code",
   "execution_count": 13,
   "id": "0ea6cb0a",
   "metadata": {
    "execution": {
     "iopub.execute_input": "2025-10-17T14:39:28.366538Z",
     "iopub.status.busy": "2025-10-17T14:39:28.365980Z",
     "iopub.status.idle": "2025-10-17T14:39:28.393242Z",
     "shell.execute_reply": "2025-10-17T14:39:28.392655Z"
    },
    "papermill": {
     "duration": 0.03402,
     "end_time": "2025-10-17T14:39:28.394289",
     "exception": false,
     "start_time": "2025-10-17T14:39:28.360269",
     "status": "completed"
    },
    "tags": []
   },
   "outputs": [],
   "source": [
    "tuner1=kt.RandomSearch(build_model,objective='val_accuracy',max_trials=5)"
   ]
  },
  {
   "cell_type": "code",
   "execution_count": 14,
   "id": "07886a6b",
   "metadata": {
    "execution": {
     "iopub.execute_input": "2025-10-17T14:39:28.406320Z",
     "iopub.status.busy": "2025-10-17T14:39:28.405801Z",
     "iopub.status.idle": "2025-10-17T14:39:48.520048Z",
     "shell.execute_reply": "2025-10-17T14:39:48.519404Z"
    },
    "papermill": {
     "duration": 20.120903,
     "end_time": "2025-10-17T14:39:48.521168",
     "exception": false,
     "start_time": "2025-10-17T14:39:28.400265",
     "status": "completed"
    },
    "tags": []
   },
   "outputs": [
    {
     "name": "stdout",
     "output_type": "stream",
     "text": [
      "Trial 4 Complete [00h 00m 07s]\n",
      "val_accuracy: 0.703125\n",
      "\n",
      "Best val_accuracy So Far: 0.703125\n",
      "Total elapsed time: 00h 00m 20s\n"
     ]
    }
   ],
   "source": [
    "tuner1.search(X_train_scaled,y_train,epochs=100,callbacks=[early_stopping],validation_data=(X_test_scaled,y_test))"
   ]
  },
  {
   "cell_type": "code",
   "execution_count": 15,
   "id": "017b95a6",
   "metadata": {
    "execution": {
     "iopub.execute_input": "2025-10-17T14:39:48.532623Z",
     "iopub.status.busy": "2025-10-17T14:39:48.532414Z",
     "iopub.status.idle": "2025-10-17T14:39:48.536895Z",
     "shell.execute_reply": "2025-10-17T14:39:48.536190Z"
    },
    "papermill": {
     "duration": 0.011307,
     "end_time": "2025-10-17T14:39:48.537995",
     "exception": false,
     "start_time": "2025-10-17T14:39:48.526688",
     "status": "completed"
    },
    "tags": []
   },
   "outputs": [
    {
     "data": {
      "text/plain": [
       "{'otimizers': 'adam'}"
      ]
     },
     "execution_count": 15,
     "metadata": {},
     "output_type": "execute_result"
    }
   ],
   "source": [
    "tuner1.get_best_hyperparameters()[0].values"
   ]
  },
  {
   "cell_type": "code",
   "execution_count": 16,
   "id": "f4165a8a",
   "metadata": {
    "execution": {
     "iopub.execute_input": "2025-10-17T14:39:48.548949Z",
     "iopub.status.busy": "2025-10-17T14:39:48.548747Z",
     "iopub.status.idle": "2025-10-17T14:39:49.095975Z",
     "shell.execute_reply": "2025-10-17T14:39:49.095119Z"
    },
    "papermill": {
     "duration": 0.554037,
     "end_time": "2025-10-17T14:39:49.097114",
     "exception": false,
     "start_time": "2025-10-17T14:39:48.543077",
     "status": "completed"
    },
    "tags": []
   },
   "outputs": [
    {
     "name": "stderr",
     "output_type": "stream",
     "text": [
      "/usr/local/lib/python3.11/dist-packages/keras/src/saving/saving_lib.py:757: UserWarning: Skipping variable loading for optimizer 'adam', because it has 2 variables whereas the saved optimizer has 10 variables. \n",
      "  saveable.load_own_variables(weights_store.get(inner_path))\n"
     ]
    }
   ],
   "source": [
    "#get best model\n",
    "model2=tuner1.get_best_models(num_models=1)[0]"
   ]
  },
  {
   "cell_type": "code",
   "execution_count": 17,
   "id": "2d7ff46d",
   "metadata": {
    "execution": {
     "iopub.execute_input": "2025-10-17T14:39:49.108704Z",
     "iopub.status.busy": "2025-10-17T14:39:49.108464Z",
     "iopub.status.idle": "2025-10-17T14:39:49.120090Z",
     "shell.execute_reply": "2025-10-17T14:39:49.119362Z"
    },
    "papermill": {
     "duration": 0.018516,
     "end_time": "2025-10-17T14:39:49.121162",
     "exception": false,
     "start_time": "2025-10-17T14:39:49.102646",
     "status": "completed"
    },
    "tags": []
   },
   "outputs": [
    {
     "data": {
      "text/html": [
       "<pre style=\"white-space:pre;overflow-x:auto;line-height:normal;font-family:Menlo,'DejaVu Sans Mono',consolas,'Courier New',monospace\"><span style=\"font-weight: bold\">Model: \"sequential\"</span>\n",
       "</pre>\n"
      ],
      "text/plain": [
       "\u001b[1mModel: \"sequential\"\u001b[0m\n"
      ]
     },
     "metadata": {},
     "output_type": "display_data"
    },
    {
     "data": {
      "text/html": [
       "<pre style=\"white-space:pre;overflow-x:auto;line-height:normal;font-family:Menlo,'DejaVu Sans Mono',consolas,'Courier New',monospace\">┏━━━━━━━━━━━━━━━━━━━━━━━━━━━━━━━━━┳━━━━━━━━━━━━━━━━━━━━━━━━┳━━━━━━━━━━━━━━━┓\n",
       "┃<span style=\"font-weight: bold\"> Layer (type)                    </span>┃<span style=\"font-weight: bold\"> Output Shape           </span>┃<span style=\"font-weight: bold\">       Param # </span>┃\n",
       "┡━━━━━━━━━━━━━━━━━━━━━━━━━━━━━━━━━╇━━━━━━━━━━━━━━━━━━━━━━━━╇━━━━━━━━━━━━━━━┩\n",
       "│ dense (<span style=\"color: #0087ff; text-decoration-color: #0087ff\">Dense</span>)                   │ (<span style=\"color: #00d7ff; text-decoration-color: #00d7ff\">None</span>, <span style=\"color: #00af00; text-decoration-color: #00af00\">32</span>)             │           <span style=\"color: #00af00; text-decoration-color: #00af00\">288</span> │\n",
       "├─────────────────────────────────┼────────────────────────┼───────────────┤\n",
       "│ dense_1 (<span style=\"color: #0087ff; text-decoration-color: #0087ff\">Dense</span>)                 │ (<span style=\"color: #00d7ff; text-decoration-color: #00d7ff\">None</span>, <span style=\"color: #00af00; text-decoration-color: #00af00\">1</span>)              │            <span style=\"color: #00af00; text-decoration-color: #00af00\">33</span> │\n",
       "└─────────────────────────────────┴────────────────────────┴───────────────┘\n",
       "</pre>\n"
      ],
      "text/plain": [
       "┏━━━━━━━━━━━━━━━━━━━━━━━━━━━━━━━━━┳━━━━━━━━━━━━━━━━━━━━━━━━┳━━━━━━━━━━━━━━━┓\n",
       "┃\u001b[1m \u001b[0m\u001b[1mLayer (type)                   \u001b[0m\u001b[1m \u001b[0m┃\u001b[1m \u001b[0m\u001b[1mOutput Shape          \u001b[0m\u001b[1m \u001b[0m┃\u001b[1m \u001b[0m\u001b[1m      Param #\u001b[0m\u001b[1m \u001b[0m┃\n",
       "┡━━━━━━━━━━━━━━━━━━━━━━━━━━━━━━━━━╇━━━━━━━━━━━━━━━━━━━━━━━━╇━━━━━━━━━━━━━━━┩\n",
       "│ dense (\u001b[38;5;33mDense\u001b[0m)                   │ (\u001b[38;5;45mNone\u001b[0m, \u001b[38;5;34m32\u001b[0m)             │           \u001b[38;5;34m288\u001b[0m │\n",
       "├─────────────────────────────────┼────────────────────────┼───────────────┤\n",
       "│ dense_1 (\u001b[38;5;33mDense\u001b[0m)                 │ (\u001b[38;5;45mNone\u001b[0m, \u001b[38;5;34m1\u001b[0m)              │            \u001b[38;5;34m33\u001b[0m │\n",
       "└─────────────────────────────────┴────────────────────────┴───────────────┘\n"
      ]
     },
     "metadata": {},
     "output_type": "display_data"
    },
    {
     "data": {
      "text/html": [
       "<pre style=\"white-space:pre;overflow-x:auto;line-height:normal;font-family:Menlo,'DejaVu Sans Mono',consolas,'Courier New',monospace\"><span style=\"font-weight: bold\"> Total params: </span><span style=\"color: #00af00; text-decoration-color: #00af00\">321</span> (1.25 KB)\n",
       "</pre>\n"
      ],
      "text/plain": [
       "\u001b[1m Total params: \u001b[0m\u001b[38;5;34m321\u001b[0m (1.25 KB)\n"
      ]
     },
     "metadata": {},
     "output_type": "display_data"
    },
    {
     "data": {
      "text/html": [
       "<pre style=\"white-space:pre;overflow-x:auto;line-height:normal;font-family:Menlo,'DejaVu Sans Mono',consolas,'Courier New',monospace\"><span style=\"font-weight: bold\"> Trainable params: </span><span style=\"color: #00af00; text-decoration-color: #00af00\">321</span> (1.25 KB)\n",
       "</pre>\n"
      ],
      "text/plain": [
       "\u001b[1m Trainable params: \u001b[0m\u001b[38;5;34m321\u001b[0m (1.25 KB)\n"
      ]
     },
     "metadata": {},
     "output_type": "display_data"
    },
    {
     "data": {
      "text/html": [
       "<pre style=\"white-space:pre;overflow-x:auto;line-height:normal;font-family:Menlo,'DejaVu Sans Mono',consolas,'Courier New',monospace\"><span style=\"font-weight: bold\"> Non-trainable params: </span><span style=\"color: #00af00; text-decoration-color: #00af00\">0</span> (0.00 B)\n",
       "</pre>\n"
      ],
      "text/plain": [
       "\u001b[1m Non-trainable params: \u001b[0m\u001b[38;5;34m0\u001b[0m (0.00 B)\n"
      ]
     },
     "metadata": {},
     "output_type": "display_data"
    }
   ],
   "source": [
    "model2.summary()"
   ]
  },
  {
   "cell_type": "code",
   "execution_count": 18,
   "id": "d054702b",
   "metadata": {
    "execution": {
     "iopub.execute_input": "2025-10-17T14:39:49.133338Z",
     "iopub.status.busy": "2025-10-17T14:39:49.133023Z",
     "iopub.status.idle": "2025-10-17T14:39:53.491587Z",
     "shell.execute_reply": "2025-10-17T14:39:53.490986Z"
    },
    "papermill": {
     "duration": 4.365899,
     "end_time": "2025-10-17T14:39:53.492720",
     "exception": false,
     "start_time": "2025-10-17T14:39:49.126821",
     "status": "completed"
    },
    "tags": []
   },
   "outputs": [
    {
     "name": "stdout",
     "output_type": "stream",
     "text": [
      "Epoch 1/100\n",
      "\u001b[1m18/18\u001b[0m \u001b[32m━━━━━━━━━━━━━━━━━━━━\u001b[0m\u001b[37m\u001b[0m \u001b[1m2s\u001b[0m 22ms/step - accuracy: 0.7661 - loss: 0.4982 - val_accuracy: 0.7031 - val_loss: 0.5506\n",
      "Epoch 2/100\n",
      "\u001b[1m18/18\u001b[0m \u001b[32m━━━━━━━━━━━━━━━━━━━━\u001b[0m\u001b[37m\u001b[0m \u001b[1m0s\u001b[0m 5ms/step - accuracy: 0.7686 - loss: 0.4952 - val_accuracy: 0.7031 - val_loss: 0.5493\n",
      "Epoch 3/100\n",
      "\u001b[1m18/18\u001b[0m \u001b[32m━━━━━━━━━━━━━━━━━━━━\u001b[0m\u001b[37m\u001b[0m \u001b[1m0s\u001b[0m 5ms/step - accuracy: 0.7686 - loss: 0.4935 - val_accuracy: 0.7031 - val_loss: 0.5483\n",
      "Epoch 4/100\n",
      "\u001b[1m18/18\u001b[0m \u001b[32m━━━━━━━━━━━━━━━━━━━━\u001b[0m\u001b[37m\u001b[0m \u001b[1m0s\u001b[0m 5ms/step - accuracy: 0.7689 - loss: 0.4919 - val_accuracy: 0.7031 - val_loss: 0.5473\n",
      "Epoch 5/100\n",
      "\u001b[1m18/18\u001b[0m \u001b[32m━━━━━━━━━━━━━━━━━━━━\u001b[0m\u001b[37m\u001b[0m \u001b[1m0s\u001b[0m 5ms/step - accuracy: 0.7669 - loss: 0.4903 - val_accuracy: 0.6979 - val_loss: 0.5463\n",
      "Epoch 6/100\n",
      "\u001b[1m18/18\u001b[0m \u001b[32m━━━━━━━━━━━━━━━━━━━━\u001b[0m\u001b[37m\u001b[0m \u001b[1m0s\u001b[0m 5ms/step - accuracy: 0.7684 - loss: 0.4887 - val_accuracy: 0.6979 - val_loss: 0.5454\n",
      "Epoch 7/100\n",
      "\u001b[1m18/18\u001b[0m \u001b[32m━━━━━━━━━━━━━━━━━━━━\u001b[0m\u001b[37m\u001b[0m \u001b[1m0s\u001b[0m 5ms/step - accuracy: 0.7773 - loss: 0.4871 - val_accuracy: 0.7031 - val_loss: 0.5445\n",
      "Epoch 8/100\n",
      "\u001b[1m18/18\u001b[0m \u001b[32m━━━━━━━━━━━━━━━━━━━━\u001b[0m\u001b[37m\u001b[0m \u001b[1m0s\u001b[0m 5ms/step - accuracy: 0.7797 - loss: 0.4856 - val_accuracy: 0.7083 - val_loss: 0.5435\n",
      "Epoch 9/100\n",
      "\u001b[1m18/18\u001b[0m \u001b[32m━━━━━━━━━━━━━━━━━━━━\u001b[0m\u001b[37m\u001b[0m \u001b[1m0s\u001b[0m 5ms/step - accuracy: 0.7807 - loss: 0.4841 - val_accuracy: 0.7083 - val_loss: 0.5427\n",
      "Epoch 10/100\n",
      "\u001b[1m18/18\u001b[0m \u001b[32m━━━━━━━━━━━━━━━━━━━━\u001b[0m\u001b[37m\u001b[0m \u001b[1m0s\u001b[0m 5ms/step - accuracy: 0.7793 - loss: 0.4825 - val_accuracy: 0.7135 - val_loss: 0.5418\n",
      "Epoch 11/100\n",
      "\u001b[1m18/18\u001b[0m \u001b[32m━━━━━━━━━━━━━━━━━━━━\u001b[0m\u001b[37m\u001b[0m \u001b[1m0s\u001b[0m 5ms/step - accuracy: 0.7751 - loss: 0.4811 - val_accuracy: 0.7135 - val_loss: 0.5410\n",
      "Epoch 12/100\n",
      "\u001b[1m18/18\u001b[0m \u001b[32m━━━━━━━━━━━━━━━━━━━━\u001b[0m\u001b[37m\u001b[0m \u001b[1m0s\u001b[0m 5ms/step - accuracy: 0.7772 - loss: 0.4796 - val_accuracy: 0.7135 - val_loss: 0.5402\n",
      "Epoch 13/100\n",
      "\u001b[1m18/18\u001b[0m \u001b[32m━━━━━━━━━━━━━━━━━━━━\u001b[0m\u001b[37m\u001b[0m \u001b[1m0s\u001b[0m 5ms/step - accuracy: 0.7774 - loss: 0.4782 - val_accuracy: 0.7135 - val_loss: 0.5393\n",
      "Epoch 14/100\n",
      "\u001b[1m18/18\u001b[0m \u001b[32m━━━━━━━━━━━━━━━━━━━━\u001b[0m\u001b[37m\u001b[0m \u001b[1m0s\u001b[0m 5ms/step - accuracy: 0.7795 - loss: 0.4768 - val_accuracy: 0.7135 - val_loss: 0.5384\n",
      "Epoch 15/100\n",
      "\u001b[1m18/18\u001b[0m \u001b[32m━━━━━━━━━━━━━━━━━━━━\u001b[0m\u001b[37m\u001b[0m \u001b[1m0s\u001b[0m 5ms/step - accuracy: 0.7791 - loss: 0.4754 - val_accuracy: 0.7135 - val_loss: 0.5376\n",
      "Epoch 16/100\n",
      "\u001b[1m18/18\u001b[0m \u001b[32m━━━━━━━━━━━━━━━━━━━━\u001b[0m\u001b[37m\u001b[0m \u001b[1m0s\u001b[0m 5ms/step - accuracy: 0.7876 - loss: 0.4740 - val_accuracy: 0.7135 - val_loss: 0.5367\n",
      "Epoch 17/100\n",
      "\u001b[1m18/18\u001b[0m \u001b[32m━━━━━━━━━━━━━━━━━━━━\u001b[0m\u001b[37m\u001b[0m \u001b[1m0s\u001b[0m 5ms/step - accuracy: 0.7876 - loss: 0.4727 - val_accuracy: 0.7188 - val_loss: 0.5359\n",
      "Epoch 18/100\n",
      "\u001b[1m18/18\u001b[0m \u001b[32m━━━━━━━━━━━━━━━━━━━━\u001b[0m\u001b[37m\u001b[0m \u001b[1m0s\u001b[0m 5ms/step - accuracy: 0.7873 - loss: 0.4713 - val_accuracy: 0.7188 - val_loss: 0.5351\n",
      "Epoch 19/100\n",
      "\u001b[1m18/18\u001b[0m \u001b[32m━━━━━━━━━━━━━━━━━━━━\u001b[0m\u001b[37m\u001b[0m \u001b[1m0s\u001b[0m 5ms/step - accuracy: 0.7942 - loss: 0.4700 - val_accuracy: 0.7188 - val_loss: 0.5343\n",
      "Epoch 20/100\n",
      "\u001b[1m18/18\u001b[0m \u001b[32m━━━━━━━━━━━━━━━━━━━━\u001b[0m\u001b[37m\u001b[0m \u001b[1m0s\u001b[0m 5ms/step - accuracy: 0.7966 - loss: 0.4687 - val_accuracy: 0.7188 - val_loss: 0.5334\n",
      "Epoch 21/100\n",
      "\u001b[1m18/18\u001b[0m \u001b[32m━━━━━━━━━━━━━━━━━━━━\u001b[0m\u001b[37m\u001b[0m \u001b[1m0s\u001b[0m 5ms/step - accuracy: 0.7968 - loss: 0.4674 - val_accuracy: 0.7240 - val_loss: 0.5326\n",
      "Epoch 22/100\n",
      "\u001b[1m18/18\u001b[0m \u001b[32m━━━━━━━━━━━━━━━━━━━━\u001b[0m\u001b[37m\u001b[0m \u001b[1m0s\u001b[0m 5ms/step - accuracy: 0.7987 - loss: 0.4662 - val_accuracy: 0.7240 - val_loss: 0.5319\n",
      "Epoch 23/100\n",
      "\u001b[1m18/18\u001b[0m \u001b[32m━━━━━━━━━━━━━━━━━━━━\u001b[0m\u001b[37m\u001b[0m \u001b[1m0s\u001b[0m 5ms/step - accuracy: 0.7987 - loss: 0.4649 - val_accuracy: 0.7240 - val_loss: 0.5312\n",
      "Epoch 24/100\n",
      "\u001b[1m18/18\u001b[0m \u001b[32m━━━━━━━━━━━━━━━━━━━━\u001b[0m\u001b[37m\u001b[0m \u001b[1m0s\u001b[0m 5ms/step - accuracy: 0.7987 - loss: 0.4637 - val_accuracy: 0.7240 - val_loss: 0.5304\n",
      "Epoch 25/100\n",
      "\u001b[1m18/18\u001b[0m \u001b[32m━━━━━━━━━━━━━━━━━━━━\u001b[0m\u001b[37m\u001b[0m \u001b[1m0s\u001b[0m 5ms/step - accuracy: 0.7987 - loss: 0.4625 - val_accuracy: 0.7292 - val_loss: 0.5296\n",
      "Epoch 26/100\n",
      "\u001b[1m18/18\u001b[0m \u001b[32m━━━━━━━━━━━━━━━━━━━━\u001b[0m\u001b[37m\u001b[0m \u001b[1m0s\u001b[0m 5ms/step - accuracy: 0.7987 - loss: 0.4613 - val_accuracy: 0.7344 - val_loss: 0.5289\n"
     ]
    },
    {
     "data": {
      "text/plain": [
       "<keras.src.callbacks.history.History at 0x7bcb9850b890>"
      ]
     },
     "execution_count": 18,
     "metadata": {},
     "output_type": "execute_result"
    }
   ],
   "source": [
    "#fit the model\n",
    "model2.fit(X_train_scaled,y_train,epochs=100,callbacks=[early_stopping],validation_data=(X_test_scaled,y_test))"
   ]
  },
  {
   "cell_type": "markdown",
   "id": "c9ddf8ba",
   "metadata": {
    "papermill": {
     "duration": 0.008511,
     "end_time": "2025-10-17T14:39:53.510535",
     "exception": false,
     "start_time": "2025-10-17T14:39:53.502024",
     "status": "completed"
    },
    "tags": []
   },
   "source": [
    "# Hyperparameters tuning for Neurons"
   ]
  },
  {
   "cell_type": "code",
   "execution_count": 19,
   "id": "0df5fc8c",
   "metadata": {
    "execution": {
     "iopub.execute_input": "2025-10-17T14:39:53.528993Z",
     "iopub.status.busy": "2025-10-17T14:39:53.528519Z",
     "iopub.status.idle": "2025-10-17T14:39:53.532935Z",
     "shell.execute_reply": "2025-10-17T14:39:53.532299Z"
    },
    "papermill": {
     "duration": 0.014809,
     "end_time": "2025-10-17T14:39:53.533947",
     "exception": false,
     "start_time": "2025-10-17T14:39:53.519138",
     "status": "completed"
    },
    "tags": []
   },
   "outputs": [],
   "source": [
    "def build_model1(hp):\n",
    "    model3=Sequential()\n",
    "    units=hp.Int('units',min_value=8,max_value=128,step=8)\n",
    "    model3.add(Dense(units=units,activation='relu',input_dim=(X_train.shape[1])))\n",
    "    model3.add(Dense(1,activation='sigmoid'))\n",
    "    #compile the model\n",
    "    optimizer=tf.keras.optimizers.Adam(learning_rate=0.001)\n",
    "    model3.compile(loss=loss,optimizer=optimizer,metrics=metrics)\n",
    "    return model3"
   ]
  },
  {
   "cell_type": "code",
   "execution_count": 20,
   "id": "b0c8049d",
   "metadata": {
    "execution": {
     "iopub.execute_input": "2025-10-17T14:39:53.551871Z",
     "iopub.status.busy": "2025-10-17T14:39:53.551431Z",
     "iopub.status.idle": "2025-10-17T14:39:53.579579Z",
     "shell.execute_reply": "2025-10-17T14:39:53.579070Z"
    },
    "papermill": {
     "duration": 0.038145,
     "end_time": "2025-10-17T14:39:53.580585",
     "exception": false,
     "start_time": "2025-10-17T14:39:53.542440",
     "status": "completed"
    },
    "tags": []
   },
   "outputs": [],
   "source": [
    "tuner3=kt.RandomSearch(build_model1,objective='val_accuracy',max_trials=5,directory='neuron_dir',project_name='neuron_1')"
   ]
  },
  {
   "cell_type": "code",
   "execution_count": 21,
   "id": "a7f2e2fd",
   "metadata": {
    "execution": {
     "iopub.execute_input": "2025-10-17T14:39:53.598801Z",
     "iopub.status.busy": "2025-10-17T14:39:53.598491Z",
     "iopub.status.idle": "2025-10-17T14:40:11.003383Z",
     "shell.execute_reply": "2025-10-17T14:40:11.002715Z"
    },
    "papermill": {
     "duration": 17.415366,
     "end_time": "2025-10-17T14:40:11.004533",
     "exception": false,
     "start_time": "2025-10-17T14:39:53.589167",
     "status": "completed"
    },
    "tags": []
   },
   "outputs": [
    {
     "name": "stdout",
     "output_type": "stream",
     "text": [
      "Trial 5 Complete [00h 00m 04s]\n",
      "val_accuracy: 0.6614583134651184\n",
      "\n",
      "Best val_accuracy So Far: 0.6666666865348816\n",
      "Total elapsed time: 00h 00m 17s\n"
     ]
    }
   ],
   "source": [
    "tuner3.search(X_train_scaled,y_train,epochs=10,validation_data=(X_test_scaled,y_test))"
   ]
  },
  {
   "cell_type": "code",
   "execution_count": 22,
   "id": "47e44eb6",
   "metadata": {
    "execution": {
     "iopub.execute_input": "2025-10-17T14:40:11.022934Z",
     "iopub.status.busy": "2025-10-17T14:40:11.022718Z",
     "iopub.status.idle": "2025-10-17T14:40:11.027321Z",
     "shell.execute_reply": "2025-10-17T14:40:11.026576Z"
    },
    "papermill": {
     "duration": 0.014857,
     "end_time": "2025-10-17T14:40:11.028459",
     "exception": false,
     "start_time": "2025-10-17T14:40:11.013602",
     "status": "completed"
    },
    "tags": []
   },
   "outputs": [
    {
     "data": {
      "text/plain": [
       "{'units': 64}"
      ]
     },
     "execution_count": 22,
     "metadata": {},
     "output_type": "execute_result"
    }
   ],
   "source": [
    "tuner3.get_best_hyperparameters()[0].values"
   ]
  },
  {
   "cell_type": "code",
   "execution_count": 23,
   "id": "815a5512",
   "metadata": {
    "execution": {
     "iopub.execute_input": "2025-10-17T14:40:11.046348Z",
     "iopub.status.busy": "2025-10-17T14:40:11.046142Z",
     "iopub.status.idle": "2025-10-17T14:40:11.641270Z",
     "shell.execute_reply": "2025-10-17T14:40:11.640702Z"
    },
    "papermill": {
     "duration": 0.605467,
     "end_time": "2025-10-17T14:40:11.642544",
     "exception": false,
     "start_time": "2025-10-17T14:40:11.037077",
     "status": "completed"
    },
    "tags": []
   },
   "outputs": [],
   "source": [
    "#get the best model\n",
    "model3_best=tuner3.get_best_models(num_models=1)[0]"
   ]
  },
  {
   "cell_type": "code",
   "execution_count": 24,
   "id": "b5398aa8",
   "metadata": {
    "execution": {
     "iopub.execute_input": "2025-10-17T14:40:11.662624Z",
     "iopub.status.busy": "2025-10-17T14:40:11.662050Z",
     "iopub.status.idle": "2025-10-17T14:40:11.673396Z",
     "shell.execute_reply": "2025-10-17T14:40:11.672910Z"
    },
    "papermill": {
     "duration": 0.021834,
     "end_time": "2025-10-17T14:40:11.674406",
     "exception": false,
     "start_time": "2025-10-17T14:40:11.652572",
     "status": "completed"
    },
    "tags": []
   },
   "outputs": [
    {
     "data": {
      "text/html": [
       "<pre style=\"white-space:pre;overflow-x:auto;line-height:normal;font-family:Menlo,'DejaVu Sans Mono',consolas,'Courier New',monospace\"><span style=\"font-weight: bold\">Model: \"sequential\"</span>\n",
       "</pre>\n"
      ],
      "text/plain": [
       "\u001b[1mModel: \"sequential\"\u001b[0m\n"
      ]
     },
     "metadata": {},
     "output_type": "display_data"
    },
    {
     "data": {
      "text/html": [
       "<pre style=\"white-space:pre;overflow-x:auto;line-height:normal;font-family:Menlo,'DejaVu Sans Mono',consolas,'Courier New',monospace\">┏━━━━━━━━━━━━━━━━━━━━━━━━━━━━━━━━━┳━━━━━━━━━━━━━━━━━━━━━━━━┳━━━━━━━━━━━━━━━┓\n",
       "┃<span style=\"font-weight: bold\"> Layer (type)                    </span>┃<span style=\"font-weight: bold\"> Output Shape           </span>┃<span style=\"font-weight: bold\">       Param # </span>┃\n",
       "┡━━━━━━━━━━━━━━━━━━━━━━━━━━━━━━━━━╇━━━━━━━━━━━━━━━━━━━━━━━━╇━━━━━━━━━━━━━━━┩\n",
       "│ dense (<span style=\"color: #0087ff; text-decoration-color: #0087ff\">Dense</span>)                   │ (<span style=\"color: #00d7ff; text-decoration-color: #00d7ff\">None</span>, <span style=\"color: #00af00; text-decoration-color: #00af00\">64</span>)             │           <span style=\"color: #00af00; text-decoration-color: #00af00\">576</span> │\n",
       "├─────────────────────────────────┼────────────────────────┼───────────────┤\n",
       "│ dense_1 (<span style=\"color: #0087ff; text-decoration-color: #0087ff\">Dense</span>)                 │ (<span style=\"color: #00d7ff; text-decoration-color: #00d7ff\">None</span>, <span style=\"color: #00af00; text-decoration-color: #00af00\">1</span>)              │            <span style=\"color: #00af00; text-decoration-color: #00af00\">65</span> │\n",
       "└─────────────────────────────────┴────────────────────────┴───────────────┘\n",
       "</pre>\n"
      ],
      "text/plain": [
       "┏━━━━━━━━━━━━━━━━━━━━━━━━━━━━━━━━━┳━━━━━━━━━━━━━━━━━━━━━━━━┳━━━━━━━━━━━━━━━┓\n",
       "┃\u001b[1m \u001b[0m\u001b[1mLayer (type)                   \u001b[0m\u001b[1m \u001b[0m┃\u001b[1m \u001b[0m\u001b[1mOutput Shape          \u001b[0m\u001b[1m \u001b[0m┃\u001b[1m \u001b[0m\u001b[1m      Param #\u001b[0m\u001b[1m \u001b[0m┃\n",
       "┡━━━━━━━━━━━━━━━━━━━━━━━━━━━━━━━━━╇━━━━━━━━━━━━━━━━━━━━━━━━╇━━━━━━━━━━━━━━━┩\n",
       "│ dense (\u001b[38;5;33mDense\u001b[0m)                   │ (\u001b[38;5;45mNone\u001b[0m, \u001b[38;5;34m64\u001b[0m)             │           \u001b[38;5;34m576\u001b[0m │\n",
       "├─────────────────────────────────┼────────────────────────┼───────────────┤\n",
       "│ dense_1 (\u001b[38;5;33mDense\u001b[0m)                 │ (\u001b[38;5;45mNone\u001b[0m, \u001b[38;5;34m1\u001b[0m)              │            \u001b[38;5;34m65\u001b[0m │\n",
       "└─────────────────────────────────┴────────────────────────┴───────────────┘\n"
      ]
     },
     "metadata": {},
     "output_type": "display_data"
    },
    {
     "data": {
      "text/html": [
       "<pre style=\"white-space:pre;overflow-x:auto;line-height:normal;font-family:Menlo,'DejaVu Sans Mono',consolas,'Courier New',monospace\"><span style=\"font-weight: bold\"> Total params: </span><span style=\"color: #00af00; text-decoration-color: #00af00\">641</span> (2.50 KB)\n",
       "</pre>\n"
      ],
      "text/plain": [
       "\u001b[1m Total params: \u001b[0m\u001b[38;5;34m641\u001b[0m (2.50 KB)\n"
      ]
     },
     "metadata": {},
     "output_type": "display_data"
    },
    {
     "data": {
      "text/html": [
       "<pre style=\"white-space:pre;overflow-x:auto;line-height:normal;font-family:Menlo,'DejaVu Sans Mono',consolas,'Courier New',monospace\"><span style=\"font-weight: bold\"> Trainable params: </span><span style=\"color: #00af00; text-decoration-color: #00af00\">641</span> (2.50 KB)\n",
       "</pre>\n"
      ],
      "text/plain": [
       "\u001b[1m Trainable params: \u001b[0m\u001b[38;5;34m641\u001b[0m (2.50 KB)\n"
      ]
     },
     "metadata": {},
     "output_type": "display_data"
    },
    {
     "data": {
      "text/html": [
       "<pre style=\"white-space:pre;overflow-x:auto;line-height:normal;font-family:Menlo,'DejaVu Sans Mono',consolas,'Courier New',monospace\"><span style=\"font-weight: bold\"> Non-trainable params: </span><span style=\"color: #00af00; text-decoration-color: #00af00\">0</span> (0.00 B)\n",
       "</pre>\n"
      ],
      "text/plain": [
       "\u001b[1m Non-trainable params: \u001b[0m\u001b[38;5;34m0\u001b[0m (0.00 B)\n"
      ]
     },
     "metadata": {},
     "output_type": "display_data"
    }
   ],
   "source": [
    "model3_best.summary()"
   ]
  },
  {
   "cell_type": "code",
   "execution_count": 25,
   "id": "c8103896",
   "metadata": {
    "execution": {
     "iopub.execute_input": "2025-10-17T14:40:11.693704Z",
     "iopub.status.busy": "2025-10-17T14:40:11.693483Z",
     "iopub.status.idle": "2025-10-17T14:40:17.951998Z",
     "shell.execute_reply": "2025-10-17T14:40:17.951325Z"
    },
    "papermill": {
     "duration": 6.269453,
     "end_time": "2025-10-17T14:40:17.953093",
     "exception": false,
     "start_time": "2025-10-17T14:40:11.683640",
     "status": "completed"
    },
    "tags": []
   },
   "outputs": [
    {
     "name": "stdout",
     "output_type": "stream",
     "text": [
      "Epoch 12/100\n",
      "\u001b[1m18/18\u001b[0m \u001b[32m━━━━━━━━━━━━━━━━━━━━\u001b[0m\u001b[37m\u001b[0m \u001b[1m2s\u001b[0m 21ms/step - accuracy: 0.6595 - loss: 0.6695 - val_accuracy: 0.6406 - val_loss: 0.6624\n",
      "Epoch 13/100\n",
      "\u001b[1m18/18\u001b[0m \u001b[32m━━━━━━━━━━━━━━━━━━━━\u001b[0m\u001b[37m\u001b[0m \u001b[1m0s\u001b[0m 5ms/step - accuracy: 0.6595 - loss: 0.6548 - val_accuracy: 0.6406 - val_loss: 0.6572\n",
      "Epoch 14/100\n",
      "\u001b[1m18/18\u001b[0m \u001b[32m━━━━━━━━━━━━━━━━━━━━\u001b[0m\u001b[37m\u001b[0m \u001b[1m0s\u001b[0m 5ms/step - accuracy: 0.6595 - loss: 0.6480 - val_accuracy: 0.6406 - val_loss: 0.6525\n",
      "Epoch 15/100\n",
      "\u001b[1m18/18\u001b[0m \u001b[32m━━━━━━━━━━━━━━━━━━━━\u001b[0m\u001b[37m\u001b[0m \u001b[1m0s\u001b[0m 5ms/step - accuracy: 0.6595 - loss: 0.6417 - val_accuracy: 0.6458 - val_loss: 0.6472\n",
      "Epoch 16/100\n",
      "\u001b[1m18/18\u001b[0m \u001b[32m━━━━━━━━━━━━━━━━━━━━\u001b[0m\u001b[37m\u001b[0m \u001b[1m0s\u001b[0m 5ms/step - accuracy: 0.6610 - loss: 0.6357 - val_accuracy: 0.6458 - val_loss: 0.6419\n",
      "Epoch 17/100\n",
      "\u001b[1m18/18\u001b[0m \u001b[32m━━━━━━━━━━━━━━━━━━━━\u001b[0m\u001b[37m\u001b[0m \u001b[1m0s\u001b[0m 6ms/step - accuracy: 0.6624 - loss: 0.6297 - val_accuracy: 0.6458 - val_loss: 0.6369\n",
      "Epoch 18/100\n",
      "\u001b[1m18/18\u001b[0m \u001b[32m━━━━━━━━━━━━━━━━━━━━\u001b[0m\u001b[37m\u001b[0m \u001b[1m0s\u001b[0m 5ms/step - accuracy: 0.6679 - loss: 0.6236 - val_accuracy: 0.6458 - val_loss: 0.6317\n",
      "Epoch 19/100\n",
      "\u001b[1m18/18\u001b[0m \u001b[32m━━━━━━━━━━━━━━━━━━━━\u001b[0m\u001b[37m\u001b[0m \u001b[1m0s\u001b[0m 5ms/step - accuracy: 0.6746 - loss: 0.6174 - val_accuracy: 0.6458 - val_loss: 0.6265\n",
      "Epoch 20/100\n",
      "\u001b[1m18/18\u001b[0m \u001b[32m━━━━━━━━━━━━━━━━━━━━\u001b[0m\u001b[37m\u001b[0m \u001b[1m0s\u001b[0m 5ms/step - accuracy: 0.6664 - loss: 0.6112 - val_accuracy: 0.6562 - val_loss: 0.6213\n",
      "Epoch 21/100\n",
      "\u001b[1m18/18\u001b[0m \u001b[32m━━━━━━━━━━━━━━━━━━━━\u001b[0m\u001b[37m\u001b[0m \u001b[1m0s\u001b[0m 5ms/step - accuracy: 0.6720 - loss: 0.6050 - val_accuracy: 0.6458 - val_loss: 0.6161\n",
      "Epoch 22/100\n",
      "\u001b[1m18/18\u001b[0m \u001b[32m━━━━━━━━━━━━━━━━━━━━\u001b[0m\u001b[37m\u001b[0m \u001b[1m0s\u001b[0m 5ms/step - accuracy: 0.6743 - loss: 0.5987 - val_accuracy: 0.6615 - val_loss: 0.6109\n",
      "Epoch 23/100\n",
      "\u001b[1m18/18\u001b[0m \u001b[32m━━━━━━━━━━━━━━━━━━━━\u001b[0m\u001b[37m\u001b[0m \u001b[1m0s\u001b[0m 5ms/step - accuracy: 0.6852 - loss: 0.5924 - val_accuracy: 0.6562 - val_loss: 0.6055\n",
      "Epoch 24/100\n",
      "\u001b[1m18/18\u001b[0m \u001b[32m━━━━━━━━━━━━━━━━━━━━\u001b[0m\u001b[37m\u001b[0m \u001b[1m0s\u001b[0m 5ms/step - accuracy: 0.6873 - loss: 0.5860 - val_accuracy: 0.6719 - val_loss: 0.6003\n",
      "Epoch 25/100\n",
      "\u001b[1m18/18\u001b[0m \u001b[32m━━━━━━━━━━━━━━━━━━━━\u001b[0m\u001b[37m\u001b[0m \u001b[1m0s\u001b[0m 5ms/step - accuracy: 0.6777 - loss: 0.5797 - val_accuracy: 0.6667 - val_loss: 0.5954\n",
      "Epoch 26/100\n",
      "\u001b[1m18/18\u001b[0m \u001b[32m━━━━━━━━━━━━━━━━━━━━\u001b[0m\u001b[37m\u001b[0m \u001b[1m0s\u001b[0m 5ms/step - accuracy: 0.6865 - loss: 0.5736 - val_accuracy: 0.6719 - val_loss: 0.5908\n",
      "Epoch 27/100\n",
      "\u001b[1m18/18\u001b[0m \u001b[32m━━━━━━━━━━━━━━━━━━━━\u001b[0m\u001b[37m\u001b[0m \u001b[1m0s\u001b[0m 5ms/step - accuracy: 0.6990 - loss: 0.5676 - val_accuracy: 0.6875 - val_loss: 0.5865\n",
      "Epoch 28/100\n",
      "\u001b[1m18/18\u001b[0m \u001b[32m━━━━━━━━━━━━━━━━━━━━\u001b[0m\u001b[37m\u001b[0m \u001b[1m0s\u001b[0m 5ms/step - accuracy: 0.7093 - loss: 0.5620 - val_accuracy: 0.6875 - val_loss: 0.5827\n",
      "Epoch 29/100\n",
      "\u001b[1m18/18\u001b[0m \u001b[32m━━━━━━━━━━━━━━━━━━━━\u001b[0m\u001b[37m\u001b[0m \u001b[1m0s\u001b[0m 5ms/step - accuracy: 0.7122 - loss: 0.5567 - val_accuracy: 0.6875 - val_loss: 0.5792\n",
      "Epoch 30/100\n",
      "\u001b[1m18/18\u001b[0m \u001b[32m━━━━━━━━━━━━━━━━━━━━\u001b[0m\u001b[37m\u001b[0m \u001b[1m0s\u001b[0m 5ms/step - accuracy: 0.7280 - loss: 0.5517 - val_accuracy: 0.6979 - val_loss: 0.5760\n",
      "Epoch 31/100\n",
      "\u001b[1m18/18\u001b[0m \u001b[32m━━━━━━━━━━━━━━━━━━━━\u001b[0m\u001b[37m\u001b[0m \u001b[1m0s\u001b[0m 5ms/step - accuracy: 0.7312 - loss: 0.5470 - val_accuracy: 0.6979 - val_loss: 0.5731\n",
      "Epoch 32/100\n",
      "\u001b[1m18/18\u001b[0m \u001b[32m━━━━━━━━━━━━━━━━━━━━\u001b[0m\u001b[37m\u001b[0m \u001b[1m0s\u001b[0m 5ms/step - accuracy: 0.7353 - loss: 0.5420 - val_accuracy: 0.6927 - val_loss: 0.5702\n",
      "Epoch 33/100\n",
      "\u001b[1m18/18\u001b[0m \u001b[32m━━━━━━━━━━━━━━━━━━━━\u001b[0m\u001b[37m\u001b[0m \u001b[1m0s\u001b[0m 5ms/step - accuracy: 0.7401 - loss: 0.5372 - val_accuracy: 0.6823 - val_loss: 0.5673\n",
      "Epoch 34/100\n",
      "\u001b[1m18/18\u001b[0m \u001b[32m━━━━━━━━━━━━━━━━━━━━\u001b[0m\u001b[37m\u001b[0m \u001b[1m0s\u001b[0m 5ms/step - accuracy: 0.7444 - loss: 0.5328 - val_accuracy: 0.6875 - val_loss: 0.5644\n",
      "Epoch 35/100\n",
      "\u001b[1m18/18\u001b[0m \u001b[32m━━━━━━━━━━━━━━━━━━━━\u001b[0m\u001b[37m\u001b[0m \u001b[1m0s\u001b[0m 5ms/step - accuracy: 0.7491 - loss: 0.5286 - val_accuracy: 0.6875 - val_loss: 0.5619\n",
      "Epoch 36/100\n",
      "\u001b[1m18/18\u001b[0m \u001b[32m━━━━━━━━━━━━━━━━━━━━\u001b[0m\u001b[37m\u001b[0m \u001b[1m0s\u001b[0m 5ms/step - accuracy: 0.7518 - loss: 0.5246 - val_accuracy: 0.6875 - val_loss: 0.5594\n",
      "Epoch 37/100\n",
      "\u001b[1m18/18\u001b[0m \u001b[32m━━━━━━━━━━━━━━━━━━━━\u001b[0m\u001b[37m\u001b[0m \u001b[1m0s\u001b[0m 5ms/step - accuracy: 0.7597 - loss: 0.5208 - val_accuracy: 0.6927 - val_loss: 0.5570\n",
      "Epoch 38/100\n",
      "\u001b[1m18/18\u001b[0m \u001b[32m━━━━━━━━━━━━━━━━━━━━\u001b[0m\u001b[37m\u001b[0m \u001b[1m0s\u001b[0m 6ms/step - accuracy: 0.7577 - loss: 0.5169 - val_accuracy: 0.6927 - val_loss: 0.5547\n",
      "Epoch 39/100\n",
      "\u001b[1m18/18\u001b[0m \u001b[32m━━━━━━━━━━━━━━━━━━━━\u001b[0m\u001b[37m\u001b[0m \u001b[1m0s\u001b[0m 6ms/step - accuracy: 0.7660 - loss: 0.5132 - val_accuracy: 0.6927 - val_loss: 0.5526\n",
      "Epoch 40/100\n",
      "\u001b[1m18/18\u001b[0m \u001b[32m━━━━━━━━━━━━━━━━━━━━\u001b[0m\u001b[37m\u001b[0m \u001b[1m0s\u001b[0m 5ms/step - accuracy: 0.7718 - loss: 0.5097 - val_accuracy: 0.6979 - val_loss: 0.5505\n",
      "Epoch 41/100\n",
      "\u001b[1m18/18\u001b[0m \u001b[32m━━━━━━━━━━━━━━━━━━━━\u001b[0m\u001b[37m\u001b[0m \u001b[1m0s\u001b[0m 5ms/step - accuracy: 0.7755 - loss: 0.5063 - val_accuracy: 0.7083 - val_loss: 0.5484\n",
      "Epoch 42/100\n",
      "\u001b[1m18/18\u001b[0m \u001b[32m━━━━━━━━━━━━━━━━━━━━\u001b[0m\u001b[37m\u001b[0m \u001b[1m0s\u001b[0m 5ms/step - accuracy: 0.7742 - loss: 0.5029 - val_accuracy: 0.7135 - val_loss: 0.5463\n",
      "Epoch 43/100\n",
      "\u001b[1m18/18\u001b[0m \u001b[32m━━━━━━━━━━━━━━━━━━━━\u001b[0m\u001b[37m\u001b[0m \u001b[1m0s\u001b[0m 5ms/step - accuracy: 0.7725 - loss: 0.4997 - val_accuracy: 0.7188 - val_loss: 0.5445\n",
      "Epoch 44/100\n",
      "\u001b[1m18/18\u001b[0m \u001b[32m━━━━━━━━━━━━━━━━━━━━\u001b[0m\u001b[37m\u001b[0m \u001b[1m0s\u001b[0m 5ms/step - accuracy: 0.7783 - loss: 0.4965 - val_accuracy: 0.7240 - val_loss: 0.5426\n",
      "Epoch 45/100\n",
      "\u001b[1m18/18\u001b[0m \u001b[32m━━━━━━━━━━━━━━━━━━━━\u001b[0m\u001b[37m\u001b[0m \u001b[1m0s\u001b[0m 5ms/step - accuracy: 0.7828 - loss: 0.4935 - val_accuracy: 0.7240 - val_loss: 0.5409\n",
      "Epoch 46/100\n",
      "\u001b[1m18/18\u001b[0m \u001b[32m━━━━━━━━━━━━━━━━━━━━\u001b[0m\u001b[37m\u001b[0m \u001b[1m0s\u001b[0m 5ms/step - accuracy: 0.7886 - loss: 0.4906 - val_accuracy: 0.7240 - val_loss: 0.5392\n",
      "Epoch 47/100\n",
      "\u001b[1m18/18\u001b[0m \u001b[32m━━━━━━━━━━━━━━━━━━━━\u001b[0m\u001b[37m\u001b[0m \u001b[1m0s\u001b[0m 5ms/step - accuracy: 0.7927 - loss: 0.4879 - val_accuracy: 0.7240 - val_loss: 0.5376\n",
      "Epoch 48/100\n",
      "\u001b[1m18/18\u001b[0m \u001b[32m━━━━━━━━━━━━━━━━━━━━\u001b[0m\u001b[37m\u001b[0m \u001b[1m0s\u001b[0m 5ms/step - accuracy: 0.7873 - loss: 0.4853 - val_accuracy: 0.7292 - val_loss: 0.5361\n",
      "Epoch 49/100\n",
      "\u001b[1m18/18\u001b[0m \u001b[32m━━━━━━━━━━━━━━━━━━━━\u001b[0m\u001b[37m\u001b[0m \u001b[1m0s\u001b[0m 5ms/step - accuracy: 0.7841 - loss: 0.4828 - val_accuracy: 0.7344 - val_loss: 0.5349\n",
      "Epoch 50/100\n",
      "\u001b[1m18/18\u001b[0m \u001b[32m━━━━━━━━━━━━━━━━━━━━\u001b[0m\u001b[37m\u001b[0m \u001b[1m0s\u001b[0m 5ms/step - accuracy: 0.7820 - loss: 0.4804 - val_accuracy: 0.7396 - val_loss: 0.5338\n",
      "Epoch 51/100\n",
      "\u001b[1m18/18\u001b[0m \u001b[32m━━━━━━━━━━━━━━━━━━━━\u001b[0m\u001b[37m\u001b[0m \u001b[1m0s\u001b[0m 5ms/step - accuracy: 0.7823 - loss: 0.4782 - val_accuracy: 0.7396 - val_loss: 0.5327\n",
      "Epoch 52/100\n",
      "\u001b[1m18/18\u001b[0m \u001b[32m━━━━━━━━━━━━━━━━━━━━\u001b[0m\u001b[37m\u001b[0m \u001b[1m0s\u001b[0m 5ms/step - accuracy: 0.7798 - loss: 0.4760 - val_accuracy: 0.7396 - val_loss: 0.5315\n",
      "Epoch 53/100\n",
      "\u001b[1m18/18\u001b[0m \u001b[32m━━━━━━━━━━━━━━━━━━━━\u001b[0m\u001b[37m\u001b[0m \u001b[1m0s\u001b[0m 5ms/step - accuracy: 0.7797 - loss: 0.4738 - val_accuracy: 0.7396 - val_loss: 0.5304\n",
      "Epoch 54/100\n",
      "\u001b[1m18/18\u001b[0m \u001b[32m━━━━━━━━━━━━━━━━━━━━\u001b[0m\u001b[37m\u001b[0m \u001b[1m0s\u001b[0m 5ms/step - accuracy: 0.7787 - loss: 0.4717 - val_accuracy: 0.7396 - val_loss: 0.5294\n"
     ]
    },
    {
     "data": {
      "text/plain": [
       "<keras.src.callbacks.history.History at 0x7bcb8c1215d0>"
      ]
     },
     "execution_count": 25,
     "metadata": {},
     "output_type": "execute_result"
    }
   ],
   "source": [
    "model3_best.fit(X_train_scaled,y_train,epochs=100,initial_epoch=11,callbacks=[early_stopping],validation_data=(X_test_scaled,y_test))"
   ]
  },
  {
   "cell_type": "code",
   "execution_count": null,
   "id": "912f6376",
   "metadata": {
    "papermill": {
     "duration": 0.013651,
     "end_time": "2025-10-17T14:40:17.981570",
     "exception": false,
     "start_time": "2025-10-17T14:40:17.967919",
     "status": "completed"
    },
    "tags": []
   },
   "outputs": [],
   "source": []
  }
 ],
 "metadata": {
  "kaggle": {
   "accelerator": "nvidiaTeslaT4",
   "dataSources": [
    {
     "datasetId": 228,
     "sourceId": 482,
     "sourceType": "datasetVersion"
    }
   ],
   "dockerImageVersionId": 31154,
   "isGpuEnabled": true,
   "isInternetEnabled": true,
   "language": "python",
   "sourceType": "notebook"
  },
  "kernelspec": {
   "display_name": "Python 3",
   "language": "python",
   "name": "python3"
  },
  "language_info": {
   "codemirror_mode": {
    "name": "ipython",
    "version": 3
   },
   "file_extension": ".py",
   "mimetype": "text/x-python",
   "name": "python",
   "nbconvert_exporter": "python",
   "pygments_lexer": "ipython3",
   "version": "3.11.13"
  },
  "papermill": {
   "default_parameters": {},
   "duration": 76.900549,
   "end_time": "2025-10-17T14:40:21.397875",
   "environment_variables": {},
   "exception": null,
   "input_path": "__notebook__.ipynb",
   "output_path": "__notebook__.ipynb",
   "parameters": {},
   "start_time": "2025-10-17T14:39:04.497326",
   "version": "2.6.0"
  }
 },
 "nbformat": 4,
 "nbformat_minor": 5
}
