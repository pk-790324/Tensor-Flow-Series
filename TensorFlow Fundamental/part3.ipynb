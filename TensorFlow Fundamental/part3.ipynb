{
 "cells": [
  {
   "cell_type": "markdown",
   "id": "46cf2d23",
   "metadata": {},
   "source": [
    "#### creating tensors with numpy array"
   ]
  },
  {
   "cell_type": "code",
   "execution_count": 1,
   "id": "ffe28c69",
   "metadata": {},
   "outputs": [
    {
     "name": "stderr",
     "output_type": "stream",
     "text": [
      "2025-10-10 12:11:59.488240: I external/local_xla/xla/tsl/cuda/cudart_stub.cc:31] Could not find cuda drivers on your machine, GPU will not be used.\n",
      "2025-10-10 12:12:19.900449: I tensorflow/core/platform/cpu_feature_guard.cc:210] This TensorFlow binary is optimized to use available CPU instructions in performance-critical operations.\n",
      "To enable the following instructions: AVX2 FMA, in other operations, rebuild TensorFlow with the appropriate compiler flags.\n",
      "2025-10-10 12:12:33.290251: I external/local_xla/xla/tsl/cuda/cudart_stub.cc:31] Could not find cuda drivers on your machine, GPU will not be used.\n"
     ]
    }
   ],
   "source": [
    "import tensorflow as tf\n",
    "import warnings \n",
    "warnings.filterwarnings('ignore')"
   ]
  },
  {
   "cell_type": "code",
   "execution_count": 2,
   "id": "daa16d0a",
   "metadata": {},
   "outputs": [
    {
     "name": "stderr",
     "output_type": "stream",
     "text": [
      "2025-10-10 12:12:49.391166: E external/local_xla/xla/stream_executor/cuda/cuda_platform.cc:51] failed call to cuInit: INTERNAL: CUDA error: Failed call to cuInit: UNKNOWN ERROR (303)\n"
     ]
    },
    {
     "data": {
      "text/plain": [
       "<tf.Tensor: shape=(3, 5), dtype=int32, numpy=\n",
       "array([[1, 1, 1, 1, 1],\n",
       "       [1, 1, 1, 1, 1],\n",
       "       [1, 1, 1, 1, 1]], dtype=int32)>"
      ]
     },
     "execution_count": 2,
     "metadata": {},
     "output_type": "execute_result"
    }
   ],
   "source": [
    "#creating tensors with all one\n",
    "tf.ones(shape=(3,5),dtype='int32')"
   ]
  },
  {
   "cell_type": "code",
   "execution_count": 3,
   "id": "6803ee76",
   "metadata": {},
   "outputs": [
    {
     "data": {
      "text/plain": [
       "<tf.Tensor: shape=(3, 3), dtype=int32, numpy=\n",
       "array([[0, 0, 0],\n",
       "       [0, 0, 0],\n",
       "       [0, 0, 0]], dtype=int32)>"
      ]
     },
     "execution_count": 3,
     "metadata": {},
     "output_type": "execute_result"
    }
   ],
   "source": [
    "#creating tensors with all zeros\n",
    "tf.zeros(shape=(3,3),dtype='int32')"
   ]
  },
  {
   "cell_type": "markdown",
   "id": "9d17c4e6",
   "metadata": {},
   "source": [
    "#### the main difference between numpy array and tensorflow tensor is tensor can be runs on GPU(which is faster for computing)"
   ]
  },
  {
   "cell_type": "markdown",
   "id": "639abc8e",
   "metadata": {},
   "source": [
    "#### converting numpy array into tensors"
   ]
  },
  {
   "cell_type": "code",
   "execution_count": 4,
   "id": "c9c67633",
   "metadata": {},
   "outputs": [
    {
     "data": {
      "text/plain": [
       "array([ 1,  2,  3,  4,  5,  6,  7,  8,  9, 10, 11, 12, 13, 14, 15, 16, 17,\n",
       "       18, 19, 20, 21, 22, 23, 24, 25, 26, 27])"
      ]
     },
     "execution_count": 4,
     "metadata": {},
     "output_type": "execute_result"
    }
   ],
   "source": [
    "import numpy as np\n",
    "array_A=np.arange(1,28) # numpy array\n",
    "array_A"
   ]
  },
  {
   "cell_type": "code",
   "execution_count": 5,
   "id": "f739ed8f",
   "metadata": {},
   "outputs": [
    {
     "data": {
      "text/plain": [
       "<tf.Tensor: shape=(3, 3, 3), dtype=int64, numpy=\n",
       "array([[[ 1,  2,  3],\n",
       "        [ 4,  5,  6],\n",
       "        [ 7,  8,  9]],\n",
       "\n",
       "       [[10, 11, 12],\n",
       "        [13, 14, 15],\n",
       "        [16, 17, 18]],\n",
       "\n",
       "       [[19, 20, 21],\n",
       "        [22, 23, 24],\n",
       "        [25, 26, 27]]])>"
      ]
     },
     "execution_count": 5,
     "metadata": {},
     "output_type": "execute_result"
    }
   ],
   "source": [
    "tf.constant(array_A,shape=(3,3,3)) #converting numpy array into tensors"
   ]
  },
  {
   "cell_type": "code",
   "execution_count": 6,
   "id": "c1625c63",
   "metadata": {},
   "outputs": [
    {
     "data": {
      "text/plain": [
       "<tf.Tensor: shape=(2, 3, 4, 5), dtype=float32, numpy=\n",
       "array([[[[1., 1., 1., 1., 1.],\n",
       "         [1., 1., 1., 1., 1.],\n",
       "         [1., 1., 1., 1., 1.],\n",
       "         [1., 1., 1., 1., 1.]],\n",
       "\n",
       "        [[1., 1., 1., 1., 1.],\n",
       "         [1., 1., 1., 1., 1.],\n",
       "         [1., 1., 1., 1., 1.],\n",
       "         [1., 1., 1., 1., 1.]],\n",
       "\n",
       "        [[1., 1., 1., 1., 1.],\n",
       "         [1., 1., 1., 1., 1.],\n",
       "         [1., 1., 1., 1., 1.],\n",
       "         [1., 1., 1., 1., 1.]]],\n",
       "\n",
       "\n",
       "       [[[1., 1., 1., 1., 1.],\n",
       "         [1., 1., 1., 1., 1.],\n",
       "         [1., 1., 1., 1., 1.],\n",
       "         [1., 1., 1., 1., 1.]],\n",
       "\n",
       "        [[1., 1., 1., 1., 1.],\n",
       "         [1., 1., 1., 1., 1.],\n",
       "         [1., 1., 1., 1., 1.],\n",
       "         [1., 1., 1., 1., 1.]],\n",
       "\n",
       "        [[1., 1., 1., 1., 1.],\n",
       "         [1., 1., 1., 1., 1.],\n",
       "         [1., 1., 1., 1., 1.],\n",
       "         [1., 1., 1., 1., 1.]]]], dtype=float32)>"
      ]
     },
     "execution_count": 6,
     "metadata": {},
     "output_type": "execute_result"
    }
   ],
   "source": [
    "#create a rank 4 tensor(4 dimensions)\n",
    "rank_4_tensors=tf.ones(shape=(2,3,4,5))\n",
    "rank_4_tensors\n"
   ]
  },
  {
   "cell_type": "markdown",
   "id": "390b3bbc",
   "metadata": {},
   "source": [
    "# Creating,Expanding and Indexing Tensors"
   ]
  },
  {
   "cell_type": "code",
   "execution_count": 60,
   "id": "0f85cee3",
   "metadata": {},
   "outputs": [],
   "source": [
    "rank_four_tensors=tf.constant([[[\n",
    "    \n",
    "    [1,2,5,4,6],\n",
    "    [2,4,6,2,6],\n",
    "    [2,5,4,6,6],\n",
    "    [3,2,6,2,2]],\n",
    "    \n",
    "    [[3,7,2,7,3],\n",
    "    [3,7,3,7,3],\n",
    "    [3,7,3,2,7],\n",
    "    [3,7,3,2,3]],\n",
    "\n",
    "    [[2,7,3,7,3],\n",
    "     [3,7,3,2,7],\n",
    "     [1,7,3,7,3],\n",
    "     [2,7,8,4,3]]],\n",
    "\n",
    "    [[[1., 1., 1., 1., 1.],\n",
    "    [1., 1., 1., 1., 1.],\n",
    "    [1., 1., 1., 1., 1.],\n",
    "    [1., 1., 1., 1., 1.]],\n",
    "\n",
    "    [[1., 1., 1., 1., 1.],\n",
    "    [1., 1., 1., 1., 1.],\n",
    "    [1., 1., 1., 1., 1.],\n",
    "    [1., 1., 1., 1., 1.]],\n",
    "\n",
    "    [[1., 1., 1., 1., 9.],\n",
    "    [1., 1., 1., 1., 1.],\n",
    "    [1., 1., 5., 1., 1.],\n",
    "    [1., 1., 1., 1., 1.]]]])\n",
    "\n",
    "\n",
    "\n"
   ]
  },
  {
   "cell_type": "markdown",
   "id": "2ee99662",
   "metadata": {},
   "source": [
    "So it’s a 4D tensor with:\n",
    "\n",
    "* 2 blocks\n",
    "\n",
    "* each block has 3 matrices\n",
    "\n",
    "* each matrix is 4X5"
   ]
  },
  {
   "cell_type": "code",
   "execution_count": 46,
   "id": "ad0826aa",
   "metadata": {},
   "outputs": [
    {
     "data": {
      "text/plain": [
       "(TensorShape([2, 3, 4, 5]), 4)"
      ]
     },
     "execution_count": 46,
     "metadata": {},
     "output_type": "execute_result"
    }
   ],
   "source": [
    "rank_four_tensors.shape,rank_four_tensors.ndim"
   ]
  },
  {
   "cell_type": "code",
   "execution_count": 47,
   "id": "e71e2f35",
   "metadata": {},
   "outputs": [
    {
     "data": {
      "text/plain": [
       "<tf.Tensor: shape=(3, 4, 5), dtype=float32, numpy=\n",
       "array([[[1., 2., 5., 4., 6.],\n",
       "        [2., 4., 6., 2., 6.],\n",
       "        [2., 5., 4., 6., 6.],\n",
       "        [3., 2., 6., 2., 2.]],\n",
       "\n",
       "       [[3., 7., 2., 7., 3.],\n",
       "        [3., 7., 3., 7., 3.],\n",
       "        [3., 7., 3., 2., 7.],\n",
       "        [3., 7., 3., 2., 3.]],\n",
       "\n",
       "       [[2., 7., 3., 7., 3.],\n",
       "        [3., 7., 3., 2., 7.],\n",
       "        [1., 7., 3., 7., 3.],\n",
       "        [2., 7., 8., 4., 3.]]], dtype=float32)>"
      ]
     },
     "execution_count": 47,
     "metadata": {},
     "output_type": "execute_result"
    }
   ],
   "source": [
    "rank_four_tensors[0] #first block"
   ]
  },
  {
   "cell_type": "code",
   "execution_count": 48,
   "id": "7a037f4a",
   "metadata": {},
   "outputs": [
    {
     "data": {
      "text/plain": [
       "<tf.Tensor: shape=(4, 5), dtype=float32, numpy=\n",
       "array([[3., 7., 2., 7., 3.],\n",
       "       [3., 7., 3., 7., 3.],\n",
       "       [3., 7., 3., 2., 7.],\n",
       "       [3., 7., 3., 2., 3.]], dtype=float32)>"
      ]
     },
     "execution_count": 48,
     "metadata": {},
     "output_type": "execute_result"
    }
   ],
   "source": [
    "rank_four_tensors[0,1] #second matrix of first block"
   ]
  },
  {
   "cell_type": "code",
   "execution_count": 49,
   "id": "cdc5b34d",
   "metadata": {},
   "outputs": [
    {
     "data": {
      "text/plain": [
       "<tf.Tensor: shape=(5,), dtype=float32, numpy=array([1., 2., 5., 4., 6.], dtype=float32)>"
      ]
     },
     "execution_count": 49,
     "metadata": {},
     "output_type": "execute_result"
    }
   ],
   "source": [
    "rank_four_tensors[0,0,0] #first row of first matrix of first block"
   ]
  },
  {
   "cell_type": "code",
   "execution_count": 50,
   "id": "bcdd71dd",
   "metadata": {},
   "outputs": [
    {
     "name": "stdout",
     "output_type": "stream",
     "text": [
      "tf.Tensor([3. 7. 2. 7. 3.], shape=(5,), dtype=float32)\n",
      "tf.Tensor([3. 7. 3. 2. 7.], shape=(5,), dtype=float32)\n"
     ]
    }
   ],
   "source": [
    "print(rank_four_tensors[0,1,0]) #first row of second matrix of first block\n",
    "print(rank_four_tensors[0,1,2]) #third row of second matrix of first block"
   ]
  },
  {
   "cell_type": "code",
   "execution_count": 51,
   "id": "20a90101",
   "metadata": {},
   "outputs": [
    {
     "name": "stdout",
     "output_type": "stream",
     "text": [
      "tf.Tensor(3.0, shape=(), dtype=float32)\n",
      "tf.Tensor(2.0, shape=(), dtype=float32)\n"
     ]
    }
   ],
   "source": [
    "print(rank_four_tensors[0,1,0,0]) #first elements of first row of second matrix of first block\n",
    "print(rank_four_tensors[0,1,3,3]) #third elements of last row of second matrix of first block"
   ]
  },
  {
   "cell_type": "code",
   "execution_count": null,
   "id": "72e54404",
   "metadata": {},
   "outputs": [
    {
     "name": "stdout",
     "output_type": "stream",
     "text": [
      "tf.Tensor(\n",
      "[[1. 1. 1. 1. 9.]\n",
      " [1. 1. 1. 1. 1.]\n",
      " [1. 1. 5. 1. 1.]\n",
      " [1. 1. 1. 1. 1.]], shape=(4, 5), dtype=float32)\n",
      "tf.Tensor([1. 1. 5. 1. 1.], shape=(5,), dtype=float32)\n",
      "tf.Tensor(9.0, shape=(), dtype=float32)\n"
     ]
    }
   ],
   "source": [
    "print(rank_four_tensors[1,2]) # third matrix of second block\n",
    "print(rank_four_tensors[1,2,2]) #third row of third matrix of second block\n",
    "print(rank_four_tensors[1,2,0,4]) #fourth element of first row of third matrix of second block"
   ]
  },
  {
   "cell_type": "code",
   "execution_count": 82,
   "id": "c23862ed",
   "metadata": {},
   "outputs": [
    {
     "name": "stdout",
     "output_type": "stream",
     "text": [
      "the data types of tensors is : <dtype: 'float32'>\n",
      "the dimensions of the tensors is : 4\n",
      "the shape of the tensors is : (2, 3, 4, 5)\n",
      "element along the 0 axis is: 2\n",
      "element along the last axis is: 5\n",
      "the total number of elements in the tensors is: tf.Tensor(120, shape=(), dtype=int32)\n",
      "the total number of elements in the tensors is: 120\n"
     ]
    }
   ],
   "source": [
    "#get various attributes of the tensors\n",
    "print('the data types of tensors is :',rank_four_tensors.dtype)\n",
    "print('the dimensions of the tensors is :',rank_four_tensors.ndim)\n",
    "print('the shape of the tensors is :',rank_four_tensors.shape)\n",
    "print('element along the 0 axis is:',rank_four_tensors.shape[0])\n",
    "print('element along the last axis is:',rank_four_tensors.shape[-1])\n",
    "print('the total number of elements in the tensors is:',tf.size(rank_four_tensors))\n",
    "print('the total number of elements in the tensors is:',tf.size(rank_four_tensors).numpy())\n",
    "\n"
   ]
  },
  {
   "cell_type": "code",
   "execution_count": 83,
   "id": "cdcc0cf0",
   "metadata": {},
   "outputs": [
    {
     "data": {
      "text/plain": [
       "<tf.Tensor: shape=(2, 3, 3, 3), dtype=float32, numpy=\n",
       "array([[[[1., 2., 5.],\n",
       "         [2., 4., 6.],\n",
       "         [2., 5., 4.]],\n",
       "\n",
       "        [[3., 7., 2.],\n",
       "         [3., 7., 3.],\n",
       "         [3., 7., 3.]],\n",
       "\n",
       "        [[2., 7., 3.],\n",
       "         [3., 7., 3.],\n",
       "         [1., 7., 3.]]],\n",
       "\n",
       "\n",
       "       [[[1., 1., 1.],\n",
       "         [1., 1., 1.],\n",
       "         [1., 1., 1.]],\n",
       "\n",
       "        [[1., 1., 1.],\n",
       "         [1., 1., 1.],\n",
       "         [1., 1., 1.]],\n",
       "\n",
       "        [[1., 1., 1.],\n",
       "         [1., 1., 1.],\n",
       "         [1., 1., 5.]]]], dtype=float32)>"
      ]
     },
     "execution_count": 83,
     "metadata": {},
     "output_type": "execute_result"
    }
   ],
   "source": [
    "# get the first three elements from each dimensions\n",
    "rank_four_tensors[:3,:3,:3,:3]"
   ]
  },
  {
   "cell_type": "code",
   "execution_count": null,
   "id": "c4a44841",
   "metadata": {},
   "outputs": [
    {
     "data": {
      "text/plain": [
       "<tf.Tensor: shape=(1, 3, 4, 5), dtype=float32, numpy=\n",
       "array([[[[1., 2., 5., 4., 6.],\n",
       "         [2., 4., 6., 2., 6.],\n",
       "         [2., 5., 4., 6., 6.],\n",
       "         [3., 2., 6., 2., 2.]],\n",
       "\n",
       "        [[3., 7., 2., 7., 3.],\n",
       "         [3., 7., 3., 7., 3.],\n",
       "         [3., 7., 3., 2., 7.],\n",
       "         [3., 7., 3., 2., 3.]],\n",
       "\n",
       "        [[2., 7., 3., 7., 3.],\n",
       "         [3., 7., 3., 2., 7.],\n",
       "         [1., 7., 3., 7., 3.],\n",
       "         [2., 7., 8., 4., 3.]]]], dtype=float32)>"
      ]
     },
     "execution_count": 86,
     "metadata": {},
     "output_type": "execute_result"
    }
   ],
   "source": [
    "rank_four_tensors[:1] #first block"
   ]
  },
  {
   "cell_type": "code",
   "execution_count": null,
   "id": "592b290d",
   "metadata": {},
   "outputs": [
    {
     "data": {
      "text/plain": [
       "<tf.Tensor: shape=(1, 1, 4, 5), dtype=float32, numpy=\n",
       "array([[[[1., 2., 5., 4., 6.],\n",
       "         [2., 4., 6., 2., 6.],\n",
       "         [2., 5., 4., 6., 6.],\n",
       "         [3., 2., 6., 2., 2.]]]], dtype=float32)>"
      ]
     },
     "execution_count": 87,
     "metadata": {},
     "output_type": "execute_result"
    }
   ],
   "source": [
    "rank_four_tensors[:1,:1] #first block first matrix"
   ]
  },
  {
   "cell_type": "code",
   "execution_count": null,
   "id": "c54eea17",
   "metadata": {},
   "outputs": [
    {
     "data": {
      "text/plain": [
       "<tf.Tensor: shape=(1, 1, 1, 5), dtype=float32, numpy=array([[[[1., 2., 5., 4., 6.]]]], dtype=float32)>"
      ]
     },
     "execution_count": 88,
     "metadata": {},
     "output_type": "execute_result"
    }
   ],
   "source": [
    "rank_four_tensors[:1,:1,:1] # first row of first block of first matrix"
   ]
  },
  {
   "cell_type": "code",
   "execution_count": null,
   "id": "8f5ff319",
   "metadata": {},
   "outputs": [
    {
     "data": {
      "text/plain": [
       "<tf.Tensor: shape=(1, 1, 1, 3), dtype=float32, numpy=array([[[[1., 2., 5.]]]], dtype=float32)>"
      ]
     },
     "execution_count": 92,
     "metadata": {},
     "output_type": "execute_result"
    }
   ],
   "source": [
    "rank_four_tensors[:1,:1,:1,:3] #beginning three elements of first row of first block of first matrix"
   ]
  },
  {
   "cell_type": "code",
   "execution_count": null,
   "id": "e2d6eb6a",
   "metadata": {},
   "outputs": [
    {
     "data": {
      "text/plain": [
       "<tf.Tensor: shape=(1, 1, 4), dtype=float32, numpy=array([[[6., 6., 6., 2.]]], dtype=float32)>"
      ]
     },
     "execution_count": 96,
     "metadata": {},
     "output_type": "execute_result"
    }
   ],
   "source": [
    "rank_four_tensors[:1,:1,:,-1] # last item of each row of the first row of first block of first matrix"
   ]
  },
  {
   "cell_type": "code",
   "execution_count": 109,
   "id": "50c3f165",
   "metadata": {},
   "outputs": [
    {
     "data": {
      "text/plain": [
       "<tf.Tensor: shape=(2, 3), dtype=int32, numpy=\n",
       "array([[1, 6, 3],\n",
       "       [4, 7, 9]], dtype=int32)>"
      ]
     },
     "execution_count": 109,
     "metadata": {},
     "output_type": "execute_result"
    }
   ],
   "source": [
    "rank_two_tensors=tf.constant([[1,6,3],[4,7,9]])\n",
    "rank_two_tensors"
   ]
  },
  {
   "cell_type": "code",
   "execution_count": 110,
   "id": "ebe2f7ee",
   "metadata": {},
   "outputs": [
    {
     "name": "stdout",
     "output_type": "stream",
     "text": [
      "dimension of the tensors is : 2\n"
     ]
    }
   ],
   "source": [
    "print('dimension of the tensors is :',rank_two_tensors.ndim)"
   ]
  },
  {
   "cell_type": "markdown",
   "id": "ddb2543d",
   "metadata": {},
   "source": [
    "# add the extra dimensions by `tf.newaxis`"
   ]
  },
  {
   "cell_type": "code",
   "execution_count": 114,
   "id": "ab802136",
   "metadata": {},
   "outputs": [
    {
     "name": "stdout",
     "output_type": "stream",
     "text": [
      "tf.Tensor(\n",
      "[[[1]\n",
      "  [6]\n",
      "  [3]]\n",
      "\n",
      " [[4]\n",
      "  [7]\n",
      "  [9]]], shape=(2, 3, 1), dtype=int32)\n",
      "the dimensions of the rank_three_tensors 3\n",
      "the shape of the rank_three_tensors (2, 3, 1)\n"
     ]
    }
   ],
   "source": [
    "rank_three_tensors=rank_two_tensors[...,tf.newaxis]\n",
    "print(rank_three_tensors)\n",
    "print('the dimensions of the rank_three_tensors',rank_three_tensors.ndim)\n",
    "print('the shape of the rank_three_tensors',rank_three_tensors.shape)"
   ]
  },
  {
   "cell_type": "markdown",
   "id": "66e998f4",
   "metadata": {},
   "source": [
    "# Alternatives of the tf.newaxis `tf.expand_dims`"
   ]
  },
  {
   "cell_type": "code",
   "execution_count": null,
   "id": "89cf2eaa",
   "metadata": {},
   "outputs": [
    {
     "data": {
      "text/plain": [
       "<tf.Tensor: shape=(2, 3, 1), dtype=int32, numpy=\n",
       "array([[[1],\n",
       "        [6],\n",
       "        [3]],\n",
       "\n",
       "       [[4],\n",
       "        [7],\n",
       "        [9]]], dtype=int32)>"
      ]
     },
     "execution_count": 117,
     "metadata": {},
     "output_type": "execute_result"
    }
   ],
   "source": [
    "tf.expand_dims(rank_two_tensors,axis=-1) # -1 means expand the final axis  "
   ]
  },
  {
   "cell_type": "code",
   "execution_count": null,
   "id": "54c96ea2",
   "metadata": {},
   "outputs": [
    {
     "data": {
      "text/plain": [
       "<tf.Tensor: shape=(2, 1, 3), dtype=int32, numpy=\n",
       "array([[[1, 6, 3]],\n",
       "\n",
       "       [[4, 7, 9]]], dtype=int32)>"
      ]
     },
     "execution_count": 118,
     "metadata": {},
     "output_type": "execute_result"
    }
   ],
   "source": [
    "tf.expand_dims(rank_two_tensors,axis=1) # add new dimensions  in  the middle"
   ]
  },
  {
   "cell_type": "code",
   "execution_count": null,
   "id": "68fa2abf",
   "metadata": {},
   "outputs": [
    {
     "data": {
      "text/plain": [
       "<tf.Tensor: shape=(1, 2, 3), dtype=int32, numpy=\n",
       "array([[[1, 6, 3],\n",
       "        [4, 7, 9]]], dtype=int32)>"
      ]
     },
     "execution_count": 119,
     "metadata": {},
     "output_type": "execute_result"
    }
   ],
   "source": [
    "tf.expand_dims(rank_two_tensors,axis=0) #add new dimensions in the beginning"
   ]
  }
 ],
 "metadata": {
  "kernelspec": {
   "display_name": "Python 3",
   "language": "python",
   "name": "python3"
  },
  "language_info": {
   "codemirror_mode": {
    "name": "ipython",
    "version": 3
   },
   "file_extension": ".py",
   "mimetype": "text/x-python",
   "name": "python",
   "nbconvert_exporter": "python",
   "pygments_lexer": "ipython3",
   "version": "3.12.1"
  }
 },
 "nbformat": 4,
 "nbformat_minor": 5
}
