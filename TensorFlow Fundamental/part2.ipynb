{
 "cells": [
  {
   "cell_type": "markdown",
   "id": "357c046b",
   "metadata": {},
   "source": [
    "# Creating tensors with `tf.Variable`"
   ]
  },
  {
   "cell_type": "code",
   "execution_count": 3,
   "id": "8b9d58f1",
   "metadata": {},
   "outputs": [],
   "source": [
    "import warnings\n",
    "warnings.filterwarnings('ignore')\n",
    "import tensorflow as tf"
   ]
  },
  {
   "cell_type": "code",
   "execution_count": 4,
   "id": "9ede5da3",
   "metadata": {},
   "outputs": [
    {
     "name": "stderr",
     "output_type": "stream",
     "text": [
      "2025-10-08 07:35:45.853952: E external/local_xla/xla/stream_executor/cuda/cuda_platform.cc:51] failed call to cuInit: INTERNAL: CUDA error: Failed call to cuInit: UNKNOWN ERROR (303)\n"
     ]
    }
   ],
   "source": [
    "#creating tf.constant(unchangable) and tf.Variable(changable)\n",
    "changable_tensor=tf.Variable([2,5,6])\n",
    "unchangabel_tensor=tf.constant([2,6,2])"
   ]
  },
  {
   "cell_type": "code",
   "execution_count": 5,
   "id": "4e78ab5c",
   "metadata": {},
   "outputs": [
    {
     "data": {
      "text/plain": [
       "<tf.Variable 'Variable:0' shape=(3,) dtype=int32, numpy=array([2, 5, 6], dtype=int32)>"
      ]
     },
     "execution_count": 5,
     "metadata": {},
     "output_type": "execute_result"
    }
   ],
   "source": [
    "changable_tensor"
   ]
  },
  {
   "cell_type": "code",
   "execution_count": 6,
   "id": "ea69ee65",
   "metadata": {},
   "outputs": [
    {
     "ename": "TypeError",
     "evalue": "'ResourceVariable' object does not support item assignment",
     "output_type": "error",
     "traceback": [
      "\u001b[31m---------------------------------------------------------------------------\u001b[39m",
      "\u001b[31mTypeError\u001b[39m                                 Traceback (most recent call last)",
      "\u001b[36mCell\u001b[39m\u001b[36m \u001b[39m\u001b[32mIn[6]\u001b[39m\u001b[32m, line 2\u001b[39m\n\u001b[32m      1\u001b[39m \u001b[38;5;66;03m#lets try to change one of the elements of the changable of tensor\u001b[39;00m\n\u001b[32m----> \u001b[39m\u001b[32m2\u001b[39m \u001b[43mchangable_tensor\u001b[49m\u001b[43m[\u001b[49m\u001b[32;43m0\u001b[39;49m\u001b[43m]\u001b[49m=[\u001b[32m3\u001b[39m]\n",
      "\u001b[31mTypeError\u001b[39m: 'ResourceVariable' object does not support item assignment"
     ]
    }
   ],
   "source": [
    "#lets try to change one of the elements of the changable of tensor\n",
    "changable_tensor[0]=[3]"
   ]
  },
  {
   "cell_type": "code",
   "execution_count": null,
   "id": "f8b45bc9",
   "metadata": {},
   "outputs": [
    {
     "name": "stdout",
     "output_type": "stream",
     "text": [
      "<tf.Variable 'Variable:0' shape=(3,) dtype=int32, numpy=array([3, 5, 6], dtype=int32)>\n"
     ]
    }
   ],
   "source": [
    "#lets try to change one of the elements of the changabel tensor with .assign()\n",
    "changable_tensor[0].assign(3)\n",
    "print(changable_tensor)"
   ]
  },
  {
   "cell_type": "code",
   "execution_count": null,
   "id": "64a2424e",
   "metadata": {},
   "outputs": [
    {
     "ename": "AttributeError",
     "evalue": "'tensorflow.python.framework.ops.EagerTensor' object has no attribute 'assign'",
     "output_type": "error",
     "traceback": [
      "\u001b[31m---------------------------------------------------------------------------\u001b[39m",
      "\u001b[31mAttributeError\u001b[39m                            Traceback (most recent call last)",
      "\u001b[36mCell\u001b[39m\u001b[36m \u001b[39m\u001b[32mIn[18]\u001b[39m\u001b[32m, line 2\u001b[39m\n\u001b[32m      1\u001b[39m \u001b[38;5;66;03m#lets try to change the elements of unchangable tensor with .assign()\u001b[39;00m\n\u001b[32m----> \u001b[39m\u001b[32m2\u001b[39m \u001b[43munchangabel_tensor\u001b[49m\u001b[43m[\u001b[49m\u001b[32;43m0\u001b[39;49m\u001b[43m]\u001b[49m\u001b[43m.\u001b[49m\u001b[43massign\u001b[49m(\u001b[32m33\u001b[39m)\n\u001b[32m      3\u001b[39m \u001b[38;5;28mprint\u001b[39m(unchangable_tensor)\n",
      "\u001b[36mFile \u001b[39m\u001b[32m/usr/local/python/3.12.1/lib/python3.12/site-packages/tensorflow/python/framework/tensor.py:260\u001b[39m, in \u001b[36mTensor.__getattr__\u001b[39m\u001b[34m(self, name)\u001b[39m\n\u001b[32m    252\u001b[39m \u001b[38;5;28;01mif\u001b[39;00m name \u001b[38;5;129;01min\u001b[39;00m {\u001b[33m\"\u001b[39m\u001b[33mT\u001b[39m\u001b[33m\"\u001b[39m, \u001b[33m\"\u001b[39m\u001b[33mastype\u001b[39m\u001b[33m\"\u001b[39m, \u001b[33m\"\u001b[39m\u001b[33mravel\u001b[39m\u001b[33m\"\u001b[39m, \u001b[33m\"\u001b[39m\u001b[33mtranspose\u001b[39m\u001b[33m\"\u001b[39m, \u001b[33m\"\u001b[39m\u001b[33mreshape\u001b[39m\u001b[33m\"\u001b[39m, \u001b[33m\"\u001b[39m\u001b[33mclip\u001b[39m\u001b[33m\"\u001b[39m, \u001b[33m\"\u001b[39m\u001b[33msize\u001b[39m\u001b[33m\"\u001b[39m,\n\u001b[32m    253\u001b[39m             \u001b[33m\"\u001b[39m\u001b[33mtolist\u001b[39m\u001b[33m\"\u001b[39m, \u001b[33m\"\u001b[39m\u001b[33mdata\u001b[39m\u001b[33m\"\u001b[39m}:\n\u001b[32m    254\u001b[39m   \u001b[38;5;66;03m# TODO(wangpeng): Export the enable_numpy_behavior knob\u001b[39;00m\n\u001b[32m    255\u001b[39m   \u001b[38;5;28;01mraise\u001b[39;00m \u001b[38;5;167;01mAttributeError\u001b[39;00m(\n\u001b[32m    256\u001b[39m       \u001b[33mf\u001b[39m\u001b[33m\"\u001b[39m\u001b[38;5;132;01m{\u001b[39;00m\u001b[38;5;28mtype\u001b[39m(\u001b[38;5;28mself\u001b[39m).\u001b[34m__name__\u001b[39m\u001b[38;5;132;01m}\u001b[39;00m\u001b[33m object has no attribute \u001b[39m\u001b[33m'\u001b[39m\u001b[38;5;132;01m{\u001b[39;00mname\u001b[38;5;132;01m}\u001b[39;00m\u001b[33m'\u001b[39m\u001b[33m. \u001b[39m\u001b[33m\"\u001b[39m + \u001b[33m\"\"\"\u001b[39m\n\u001b[32m    257\u001b[39m \u001b[33m    If you are looking for numpy-related methods, please run the following:\u001b[39m\n\u001b[32m    258\u001b[39m \u001b[33m    tf.experimental.numpy.experimental_enable_numpy_behavior()\u001b[39m\n\u001b[32m    259\u001b[39m \u001b[33m  \u001b[39m\u001b[33m\"\"\"\u001b[39m)\n\u001b[32m--> \u001b[39m\u001b[32m260\u001b[39m \u001b[38;5;28;43mself\u001b[39;49m\u001b[43m.\u001b[49m\u001b[34;43m__getattribute__\u001b[39;49m\u001b[43m(\u001b[49m\u001b[43mname\u001b[49m\u001b[43m)\u001b[49m\n",
      "\u001b[31mAttributeError\u001b[39m: 'tensorflow.python.framework.ops.EagerTensor' object has no attribute 'assign'"
     ]
    }
   ],
   "source": [
    "#lets try to change the elements of unchangable tensor with .assign()\n",
    "unchangabel_tensor[0].assign(33)\n",
    "print(unchangable_tensor)"
   ]
  },
  {
   "cell_type": "markdown",
   "id": "5228b727",
   "metadata": {},
   "source": [
    "# Creating RandomTensor with TensorFlow"
   ]
  },
  {
   "cell_type": "code",
   "execution_count": 9,
   "id": "b024a2d5",
   "metadata": {},
   "outputs": [
    {
     "name": "stdout",
     "output_type": "stream",
     "text": [
      "tf.Tensor(\n",
      "[[ 1.2585617  -1.4151684 ]\n",
      " [ 0.5874982  -0.57268715]\n",
      " [ 0.8059718   0.33799234]], shape=(3, 2), dtype=float32)\n"
     ]
    }
   ],
   "source": [
    "#create random tensor\n",
    "random_tensor=tf.random.normal(shape=(3,2))\n",
    "print(random_tensor)"
   ]
  },
  {
   "cell_type": "code",
   "execution_count": null,
   "id": "cd4c80e6",
   "metadata": {},
   "outputs": [
    {
     "name": "stdout",
     "output_type": "stream",
     "text": [
      "tf.Tensor(\n",
      "[[-0.23193763 -1.8107855 ]\n",
      " [ 0.09988727 -0.50998646]\n",
      " [-0.7535805  -0.57166284]], shape=(3, 2), dtype=float32)\n",
      "tf.Tensor(\n",
      "[[-0.23193763 -1.8107855 ]\n",
      " [ 0.09988727 -0.50998646]\n",
      " [-0.7535805  -0.57166284]], shape=(3, 2), dtype=float32)\n",
      "tf.Tensor(\n",
      "[[ True  True]\n",
      " [ True  True]\n",
      " [ True  True]], shape=(3, 2), dtype=bool)\n"
     ]
    }
   ],
   "source": [
    "#creating two random(but the same) tensor\n",
    "random_1=tf.random.Generator.from_seed(43) #set seed for reproducibility\n",
    "random_1=random_1.normal(shape=(3,2))\n",
    "random_2=tf.random.Generator.from_seed(43)\n",
    "random_2=random_2.normal(shape=(3,2))\n",
    "print(random_1)\n",
    "print(random_2)\n",
    "print(random_1==random_2)"
   ]
  },
  {
   "cell_type": "markdown",
   "id": "693452bf",
   "metadata": {},
   "source": [
    "# Shuffle the order of elements in the tensor `tf.random.shuffle`"
   ]
  },
  {
   "cell_type": "markdown",
   "id": "009c0874",
   "metadata": {},
   "source": [
    "#### In machine learning / deep learning, we often shuffle data before training because:\n",
    "\n",
    "### 1.Avoids learning order bias\n",
    "##### If the data is ordered (for example, all class A samples first, then all class B), the model might start learning patterns that depend on the order instead of the actual data relationships.\n",
    "\n",
    "### 2.Improves generalization\n",
    "##### Shuffling makes the model see a more random mix of examples, helping it generalize better and not overfit to a particular sequence.\n",
    "\n",
    "### 3.Ensures better gradient updates\n",
    "##### During mini-batch training, random batches created from shuffled data give more diverse gradients, leading to smoother and faster convergence."
   ]
  },
  {
   "cell_type": "code",
   "execution_count": 18,
   "id": "483aeda8",
   "metadata": {},
   "outputs": [
    {
     "name": "stdout",
     "output_type": "stream",
     "text": [
      "original matrix is\n",
      "tf.Tensor(\n",
      "[[3 5 6]\n",
      " [2 1 2]\n",
      " [3 5 6]\n",
      " [9 0 3]], shape=(4, 3), dtype=int32)\n",
      "shuffled of matrix is :\n",
      "tf.Tensor(\n",
      "[[9 0 3]\n",
      " [2 1 2]\n",
      " [3 5 6]\n",
      " [3 5 6]], shape=(4, 3), dtype=int32)\n"
     ]
    }
   ],
   "source": [
    "random_3=tf.constant([[3,5,6],[2,1,2],[3,5,6],[9,0,3]])\n",
    "print('original matrix is')\n",
    "print(random_3)\n",
    "print('shuffled of matrix is :')\n",
    "print(tf.random.shuffle(random_3))"
   ]
  },
  {
   "cell_type": "markdown",
   "id": "94babdb6",
   "metadata": {},
   "source": [
    "# Types of seeds in TensorFlow"
   ]
  },
  {
   "cell_type": "markdown",
   "id": "44ff77b5",
   "metadata": {},
   "source": [
    "##### 1.If neither the global seed nor the operation seed is set, we get different results for every call to the random op and every re-run of the program:"
   ]
  },
  {
   "cell_type": "code",
   "execution_count": 124,
   "id": "d9096f49",
   "metadata": {},
   "outputs": [
    {
     "name": "stdout",
     "output_type": "stream",
     "text": [
      "tf.Tensor([0.39475608], shape=(1,), dtype=float32)\n",
      "tf.Tensor([0.50503516], shape=(1,), dtype=float32)\n"
     ]
    }
   ],
   "source": [
    "\n",
    "print(tf.random.uniform([1]))  # generates 'A1'\n",
    "print(tf.random.uniform([1]))  # generates 'A2'"
   ]
  },
  {
   "cell_type": "markdown",
   "id": "ff397180",
   "metadata": {},
   "source": [
    "#### 2.If the global seed is set but the operation seed is not set, we get different results for every call to the random op, but the same sequence for every re-run of the program:"
   ]
  },
  {
   "cell_type": "code",
   "execution_count": 130,
   "id": "0688bf56",
   "metadata": {},
   "outputs": [
    {
     "name": "stdout",
     "output_type": "stream",
     "text": [
      "tf.Tensor([0.5380393], shape=(1,), dtype=float32)\n",
      "tf.Tensor([0.3253647], shape=(1,), dtype=float32)\n"
     ]
    }
   ],
   "source": [
    "tf.random.set_seed(1234)\n",
    "print(tf.random.uniform([1]))  # generates 'A1'\n",
    "print(tf.random.uniform([1]))  # generates 'A2'"
   ]
  },
  {
   "cell_type": "markdown",
   "id": "ebced0c9",
   "metadata": {},
   "source": [
    "#### 3.The reason we get 'A2' instead 'A1' on the second call of tf.random.uniform is because the second call uses a different operation seed."
   ]
  },
  {
   "cell_type": "code",
   "execution_count": 132,
   "id": "f3c8236e",
   "metadata": {},
   "outputs": [
    {
     "name": "stdout",
     "output_type": "stream",
     "text": [
      "tf.Tensor([0.5380393], shape=(1,), dtype=float32)\n",
      "tf.Tensor([0.3253647], shape=(1,), dtype=float32)\n"
     ]
    }
   ],
   "source": [
    "print(tf.random.uniform([1]))  # generates 'A1'\n",
    "print(tf.random.uniform([1]))  # generates 'A2'"
   ]
  },
  {
   "cell_type": "markdown",
   "id": "c5bdba1c",
   "metadata": {},
   "source": [
    "#### 4.Note that `tf.function` acts like a re-run of a program in this case. When the global seed is set but operation seeds are not set, the sequence of random numbers are the same for each `tf.function`. For example:\n"
   ]
  },
  {
   "cell_type": "code",
   "execution_count": 136,
   "id": "d6f67cb2",
   "metadata": {},
   "outputs": [
    {
     "name": "stdout",
     "output_type": "stream",
     "text": [
      "(<tf.Tensor: shape=(1,), dtype=float32, numpy=array([0.13047123], dtype=float32)>, <tf.Tensor: shape=(1,), dtype=float32, numpy=array([0.1689806], dtype=float32)>)\n",
      "(<tf.Tensor: shape=(1,), dtype=float32, numpy=array([0.13047123], dtype=float32)>, <tf.Tensor: shape=(1,), dtype=float32, numpy=array([0.1689806], dtype=float32)>)\n"
     ]
    }
   ],
   "source": [
    "tf.random.set_seed(1234)\n",
    "\n",
    "@tf.function\n",
    "def f():\n",
    "  a = tf.random.uniform([1])\n",
    "  b = tf.random.uniform([1])\n",
    "  return a, b\n",
    "\n",
    "@tf.function\n",
    "def g():\n",
    "  a = tf.random.uniform([1])\n",
    "  b = tf.random.uniform([1])\n",
    "  return a, b\n",
    "\n",
    "print(f())  # prints '(A1, A2)'\n",
    "print(g())  # prints '(A1, A2)'"
   ]
  },
  {
   "cell_type": "markdown",
   "id": "f5bb8508",
   "metadata": {},
   "source": [
    "#### 5.If the operation seed is set, we get different results for every call to the random op, but the same sequence for every re-run of the program:"
   ]
  },
  {
   "cell_type": "code",
   "execution_count": 165,
   "id": "fdf27e86",
   "metadata": {},
   "outputs": [
    {
     "name": "stdout",
     "output_type": "stream",
     "text": [
      "tf.Tensor([0.1510979], shape=(1,), dtype=float32)\n",
      "tf.Tensor([0.3737167], shape=(1,), dtype=float32)\n"
     ]
    }
   ],
   "source": [
    "print(tf.random.uniform([1], seed=1))  # generates 'A1'\n",
    "print(tf.random.uniform([1], seed=4))  # generates 'A2'"
   ]
  },
  {
   "cell_type": "markdown",
   "id": "6a7e7a6c",
   "metadata": {},
   "source": [
    "#### 6.Calling tf.random.set_seed will reset any such counters:"
   ]
  },
  {
   "cell_type": "code",
   "execution_count": 173,
   "id": "318684b3",
   "metadata": {},
   "outputs": [
    {
     "name": "stdout",
     "output_type": "stream",
     "text": [
      "tf.Tensor([0.1689806], shape=(1,), dtype=float32)\n",
      "tf.Tensor([0.7539084], shape=(1,), dtype=float32)\n",
      "tf.Tensor([0.1689806], shape=(1,), dtype=float32)\n",
      "tf.Tensor([0.7539084], shape=(1,), dtype=float32)\n"
     ]
    }
   ],
   "source": [
    "tf.random.set_seed(1234)\n",
    "print(tf.random.uniform([1], seed=1))  # generates 'A1'\n",
    "print(tf.random.uniform([1], seed=1))  # generates 'A2'\n",
    "tf.random.set_seed(1234)\n",
    "print(tf.random.uniform([1], seed=1))  # generates 'A1'\n",
    "print(tf.random.uniform([1], seed=1))  # generates 'A2'"
   ]
  },
  {
   "cell_type": "markdown",
   "id": "573b4560",
   "metadata": {},
   "source": [
    "#### 7.The second call of foo returns '(A2, A2)' instead of '(A1, A1)' because tf.random.uniform maintains an internal counter. If you want foo to return '(A1, A1)' every time, use the stateless random ops such as tf.random.stateless_uniform. Also see tf.random.experimental.Generator for a new set of stateful random ops that use external variables to manage their states.\n",
    "\n"
   ]
  },
  {
   "cell_type": "code",
   "execution_count": 180,
   "id": "4a4a3246",
   "metadata": {},
   "outputs": [
    {
     "name": "stdout",
     "output_type": "stream",
     "text": [
      "(<tf.Tensor: shape=(1,), dtype=float32, numpy=array([0.1689806], dtype=float32)>, <tf.Tensor: shape=(1,), dtype=float32, numpy=array([0.1689806], dtype=float32)>)\n",
      "(<tf.Tensor: shape=(1,), dtype=float32, numpy=array([0.7539084], dtype=float32)>, <tf.Tensor: shape=(1,), dtype=float32, numpy=array([0.7539084], dtype=float32)>)\n",
      "(<tf.Tensor: shape=(1,), dtype=float32, numpy=array([0.13047123], dtype=float32)>, <tf.Tensor: shape=(1,), dtype=float32, numpy=array([0.1689806], dtype=float32)>)\n",
      "(<tf.Tensor: shape=(1,), dtype=float32, numpy=array([0.6087816], dtype=float32)>, <tf.Tensor: shape=(1,), dtype=float32, numpy=array([0.7539084], dtype=float32)>)\n"
     ]
    }
   ],
   "source": [
    "@tf.function\n",
    "def foo():\n",
    "  a = tf.random.uniform([1], seed=1)\n",
    "  b = tf.random.uniform([1], seed=1)\n",
    "  return a, b\n",
    "print(foo())  # prints '(A1, A1)'\n",
    "print(foo())  # prints '(A2, A2)'\n",
    "\n",
    "@tf.function\n",
    "def bar():\n",
    "  a = tf.random.uniform([1])\n",
    "  b = tf.random.uniform([1])\n",
    "  return a, b\n",
    "print(bar())  # prints '(A1, A2)'\n",
    "print(bar())  # prints '(A3, A4)'"
   ]
  }
 ],
 "metadata": {
  "kernelspec": {
   "display_name": "Python 3",
   "language": "python",
   "name": "python3"
  },
  "language_info": {
   "codemirror_mode": {
    "name": "ipython",
    "version": 3
   },
   "file_extension": ".py",
   "mimetype": "text/x-python",
   "name": "python",
   "nbconvert_exporter": "python",
   "pygments_lexer": "ipython3",
   "version": "3.12.1"
  }
 },
 "nbformat": 4,
 "nbformat_minor": 5
}
