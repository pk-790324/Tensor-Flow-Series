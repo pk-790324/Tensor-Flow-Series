{
 "cells": [
  {
   "cell_type": "markdown",
   "id": "357c046b",
   "metadata": {},
   "source": [
    "# Creating tensors with `tf.Variable`"
   ]
  },
  {
   "cell_type": "code",
   "execution_count": 7,
   "id": "8b9d58f1",
   "metadata": {},
   "outputs": [],
   "source": [
    "import warnings\n",
    "warnings.filterwarnings('ignore')\n",
    "import tensorflow as tf"
   ]
  },
  {
   "cell_type": "code",
   "execution_count": 9,
   "id": "9ede5da3",
   "metadata": {},
   "outputs": [],
   "source": [
    "#creating tf.constant(unchangable) and tf.Variable(changable)\n",
    "changable_tensor=tf.Variable([2,5,6])\n",
    "unchangabel_tensor=tf.constant([2,6,2])"
   ]
  },
  {
   "cell_type": "code",
   "execution_count": 13,
   "id": "4e78ab5c",
   "metadata": {},
   "outputs": [
    {
     "data": {
      "text/plain": [
       "<tf.Variable 'Variable:0' shape=(3,) dtype=int32, numpy=array([2, 5, 6], dtype=int32)>"
      ]
     },
     "execution_count": 13,
     "metadata": {},
     "output_type": "execute_result"
    }
   ],
   "source": [
    "changable_tensor"
   ]
  },
  {
   "cell_type": "code",
   "execution_count": 15,
   "id": "ea69ee65",
   "metadata": {},
   "outputs": [
    {
     "ename": "TypeError",
     "evalue": "'ResourceVariable' object does not support item assignment",
     "output_type": "error",
     "traceback": [
      "\u001b[31m---------------------------------------------------------------------------\u001b[39m",
      "\u001b[31mTypeError\u001b[39m                                 Traceback (most recent call last)",
      "\u001b[36mCell\u001b[39m\u001b[36m \u001b[39m\u001b[32mIn[15]\u001b[39m\u001b[32m, line 2\u001b[39m\n\u001b[32m      1\u001b[39m \u001b[38;5;66;03m#lets try to change one of the elements of the changable of tensor\u001b[39;00m\n\u001b[32m----> \u001b[39m\u001b[32m2\u001b[39m \u001b[43mchangable_tensor\u001b[49m\u001b[43m[\u001b[49m\u001b[32;43m0\u001b[39;49m\u001b[43m]\u001b[49m=[\u001b[32m3\u001b[39m]\n",
      "\u001b[31mTypeError\u001b[39m: 'ResourceVariable' object does not support item assignment"
     ]
    }
   ],
   "source": [
    "#lets try to change one of the elements of the changable of tensor\n",
    "changable_tensor[0]=[3]"
   ]
  },
  {
   "cell_type": "code",
   "execution_count": 17,
   "id": "f8b45bc9",
   "metadata": {},
   "outputs": [
    {
     "name": "stdout",
     "output_type": "stream",
     "text": [
      "<tf.Variable 'Variable:0' shape=(3,) dtype=int32, numpy=array([3, 5, 6], dtype=int32)>\n"
     ]
    }
   ],
   "source": [
    "#lets try to change one of the elements of the changabel tensor with .assign()\n",
    "changable_tensor[0].assign(3)\n",
    "print(changable_tensor)"
   ]
  },
  {
   "cell_type": "code",
   "execution_count": 18,
   "id": "64a2424e",
   "metadata": {},
   "outputs": [
    {
     "ename": "AttributeError",
     "evalue": "'tensorflow.python.framework.ops.EagerTensor' object has no attribute 'assign'",
     "output_type": "error",
     "traceback": [
      "\u001b[31m---------------------------------------------------------------------------\u001b[39m",
      "\u001b[31mAttributeError\u001b[39m                            Traceback (most recent call last)",
      "\u001b[36mCell\u001b[39m\u001b[36m \u001b[39m\u001b[32mIn[18]\u001b[39m\u001b[32m, line 2\u001b[39m\n\u001b[32m      1\u001b[39m \u001b[38;5;66;03m#lets try to change the elements of unchangable tensor with .assign()\u001b[39;00m\n\u001b[32m----> \u001b[39m\u001b[32m2\u001b[39m \u001b[43munchangabel_tensor\u001b[49m\u001b[43m[\u001b[49m\u001b[32;43m0\u001b[39;49m\u001b[43m]\u001b[49m\u001b[43m.\u001b[49m\u001b[43massign\u001b[49m(\u001b[32m33\u001b[39m)\n\u001b[32m      3\u001b[39m \u001b[38;5;28mprint\u001b[39m(unchangable_tensor)\n",
      "\u001b[36mFile \u001b[39m\u001b[32m/usr/local/python/3.12.1/lib/python3.12/site-packages/tensorflow/python/framework/tensor.py:260\u001b[39m, in \u001b[36mTensor.__getattr__\u001b[39m\u001b[34m(self, name)\u001b[39m\n\u001b[32m    252\u001b[39m \u001b[38;5;28;01mif\u001b[39;00m name \u001b[38;5;129;01min\u001b[39;00m {\u001b[33m\"\u001b[39m\u001b[33mT\u001b[39m\u001b[33m\"\u001b[39m, \u001b[33m\"\u001b[39m\u001b[33mastype\u001b[39m\u001b[33m\"\u001b[39m, \u001b[33m\"\u001b[39m\u001b[33mravel\u001b[39m\u001b[33m\"\u001b[39m, \u001b[33m\"\u001b[39m\u001b[33mtranspose\u001b[39m\u001b[33m\"\u001b[39m, \u001b[33m\"\u001b[39m\u001b[33mreshape\u001b[39m\u001b[33m\"\u001b[39m, \u001b[33m\"\u001b[39m\u001b[33mclip\u001b[39m\u001b[33m\"\u001b[39m, \u001b[33m\"\u001b[39m\u001b[33msize\u001b[39m\u001b[33m\"\u001b[39m,\n\u001b[32m    253\u001b[39m             \u001b[33m\"\u001b[39m\u001b[33mtolist\u001b[39m\u001b[33m\"\u001b[39m, \u001b[33m\"\u001b[39m\u001b[33mdata\u001b[39m\u001b[33m\"\u001b[39m}:\n\u001b[32m    254\u001b[39m   \u001b[38;5;66;03m# TODO(wangpeng): Export the enable_numpy_behavior knob\u001b[39;00m\n\u001b[32m    255\u001b[39m   \u001b[38;5;28;01mraise\u001b[39;00m \u001b[38;5;167;01mAttributeError\u001b[39;00m(\n\u001b[32m    256\u001b[39m       \u001b[33mf\u001b[39m\u001b[33m\"\u001b[39m\u001b[38;5;132;01m{\u001b[39;00m\u001b[38;5;28mtype\u001b[39m(\u001b[38;5;28mself\u001b[39m).\u001b[34m__name__\u001b[39m\u001b[38;5;132;01m}\u001b[39;00m\u001b[33m object has no attribute \u001b[39m\u001b[33m'\u001b[39m\u001b[38;5;132;01m{\u001b[39;00mname\u001b[38;5;132;01m}\u001b[39;00m\u001b[33m'\u001b[39m\u001b[33m. \u001b[39m\u001b[33m\"\u001b[39m + \u001b[33m\"\"\"\u001b[39m\n\u001b[32m    257\u001b[39m \u001b[33m    If you are looking for numpy-related methods, please run the following:\u001b[39m\n\u001b[32m    258\u001b[39m \u001b[33m    tf.experimental.numpy.experimental_enable_numpy_behavior()\u001b[39m\n\u001b[32m    259\u001b[39m \u001b[33m  \u001b[39m\u001b[33m\"\"\"\u001b[39m)\n\u001b[32m--> \u001b[39m\u001b[32m260\u001b[39m \u001b[38;5;28;43mself\u001b[39;49m\u001b[43m.\u001b[49m\u001b[34;43m__getattribute__\u001b[39;49m\u001b[43m(\u001b[49m\u001b[43mname\u001b[49m\u001b[43m)\u001b[49m\n",
      "\u001b[31mAttributeError\u001b[39m: 'tensorflow.python.framework.ops.EagerTensor' object has no attribute 'assign'"
     ]
    }
   ],
   "source": [
    "#lets try to change the elements of unchangable tensor with .assign()\n",
    "unchangabel_tensor[0].assign(33)\n",
    "print(unchangable_tensor)"
   ]
  },
  {
   "cell_type": "markdown",
   "id": "5228b727",
   "metadata": {},
   "source": [
    "# Creating RandomTensor with TensorFlow"
   ]
  },
  {
   "cell_type": "code",
   "execution_count": 24,
   "id": "b024a2d5",
   "metadata": {},
   "outputs": [
    {
     "name": "stdout",
     "output_type": "stream",
     "text": [
      "tf.Tensor(\n",
      "[[ 0.7338968  -2.5268064 ]\n",
      " [-0.88726497 -1.6417441 ]\n",
      " [-1.3342372   0.01255416]], shape=(3, 2), dtype=float32)\n"
     ]
    }
   ],
   "source": [
    "#create random tensor\n",
    "random_tensor=tf.random.normal(shape=(3,2))\n",
    "print(random_tensor)"
   ]
  },
  {
   "cell_type": "code",
   "execution_count": 29,
   "id": "cd4c80e6",
   "metadata": {},
   "outputs": [
    {
     "name": "stdout",
     "output_type": "stream",
     "text": [
      "tf.Tensor(\n",
      "[[-0.23193763 -1.8107855 ]\n",
      " [ 0.09988727 -0.50998646]\n",
      " [-0.7535805  -0.57166284]], shape=(3, 2), dtype=float32)\n",
      "tf.Tensor(\n",
      "[[-0.23193763 -1.8107855 ]\n",
      " [ 0.09988727 -0.50998646]\n",
      " [-0.7535805  -0.57166284]], shape=(3, 2), dtype=float32)\n",
      "tf.Tensor(\n",
      "[[ True  True]\n",
      " [ True  True]\n",
      " [ True  True]], shape=(3, 2), dtype=bool)\n"
     ]
    }
   ],
   "source": [
    "#creating two random(but the same) tensor\n",
    "random_1=tf.random.Generator.from_seed(43) #set seed for reproducibility\n",
    "random_1=random_1.normal(shape=(3,2))\n",
    "random_2=tf.random.Generator.from_seed(43)\n",
    "random_2=random_2.normal(shape=(3,2))\n",
    "print(random_1)\n",
    "print(random_2)\n",
    "print(random_1==random_2)"
   ]
  },
  {
   "cell_type": "markdown",
   "id": "693452bf",
   "metadata": {},
   "source": [
    "# Shuffle the order of elements in the tensor `tf.random.shuffle`"
   ]
  },
  {
   "cell_type": "markdown",
   "id": "009c0874",
   "metadata": {},
   "source": [
    "#### In machine learning / deep learning, we often shuffle data before training because:\n",
    "\n",
    "### 1.Avoids learning order bias\n",
    "##### If the data is ordered (for example, all class A samples first, then all class B), the model might start learning patterns that depend on the order instead of the actual data relationships.\n",
    "\n",
    "### 2.Improves generalization\n",
    "##### Shuffling makes the model see a more random mix of examples, helping it generalize better and not overfit to a particular sequence.\n",
    "\n",
    "### 3.Ensures better gradient updates\n",
    "##### During mini-batch training, random batches created from shuffled data give more diverse gradients, leading to smoother and faster convergence."
   ]
  },
  {
   "cell_type": "code",
   "execution_count": null,
   "id": "483aeda8",
   "metadata": {},
   "outputs": [
    {
     "name": "stdout",
     "output_type": "stream",
     "text": [
      "original matrix is\n",
      "tf.Tensor(\n",
      "[[3 5 6]\n",
      " [2 1 2]\n",
      " [3 5 6]\n",
      " [9 0 3]], shape=(4, 3), dtype=int32)\n",
      "shuffled of matrix is :\n",
      "tf.Tensor(\n",
      "[[9 0 3]\n",
      " [3 5 6]\n",
      " [2 1 2]\n",
      " [3 5 6]], shape=(4, 3), dtype=int32)\n"
     ]
    }
   ],
   "source": [
    "random_3=tf.constant([[3,5,6],[2,1,2],[3,5,6],[9,0,3]])\n",
    "print('original matrix is')\n",
    "print(random_3)\n",
    "print('shuffled of matrix is :')\n",
    "print(tf.random.shuffle(random_3))"
   ]
  }
 ],
 "metadata": {
  "kernelspec": {
   "display_name": "Python 3",
   "language": "python",
   "name": "python3"
  },
  "language_info": {
   "codemirror_mode": {
    "name": "ipython",
    "version": 3
   },
   "file_extension": ".py",
   "mimetype": "text/x-python",
   "name": "python",
   "nbconvert_exporter": "python",
   "pygments_lexer": "ipython3",
   "version": "3.12.1"
  }
 },
 "nbformat": 4,
 "nbformat_minor": 5
}
