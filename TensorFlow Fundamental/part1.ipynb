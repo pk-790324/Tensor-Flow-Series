{
 "cells": [
  {
   "cell_type": "markdown",
   "id": "da72709b",
   "metadata": {},
   "source": [
    "# Introduction To TensorFlow"
   ]
  },
  {
   "cell_type": "code",
   "execution_count": 10,
   "id": "f60b75bd",
   "metadata": {},
   "outputs": [
    {
     "name": "stdout",
     "output_type": "stream",
     "text": [
      "2.20.0\n"
     ]
    }
   ],
   "source": [
    "import warnings\n",
    "warnings.filterwarnings('ignore')\n",
    "import tensorflow as tf\n",
    "print(tf.__version__)"
   ]
  },
  {
   "cell_type": "code",
   "execution_count": 11,
   "id": "41583320",
   "metadata": {},
   "outputs": [
    {
     "data": {
      "text/plain": [
       "<tf.Tensor: shape=(), dtype=int32, numpy=99>"
      ]
     },
     "execution_count": 11,
     "metadata": {},
     "output_type": "execute_result"
    }
   ],
   "source": [
    "#create a tensor with tf.constant()\n",
    "scalar=tf.constant(99)\n",
    "scalar"
   ]
  },
  {
   "cell_type": "code",
   "execution_count": 12,
   "id": "3d60e3b3",
   "metadata": {},
   "outputs": [
    {
     "data": {
      "text/plain": [
       "0"
      ]
     },
     "execution_count": 12,
     "metadata": {},
     "output_type": "execute_result"
    }
   ],
   "source": [
    "#check the number of dimension of tensor\n",
    "scalar.ndim"
   ]
  },
  {
   "cell_type": "code",
   "execution_count": 22,
   "id": "75f5107c",
   "metadata": {},
   "outputs": [
    {
     "name": "stdout",
     "output_type": "stream",
     "text": [
      "tf.Tensor([2 5 6 8], shape=(4,), dtype=int32)\n",
      "the dimension of vector is : 1\n"
     ]
    }
   ],
   "source": [
    "#create a vector and check the dimension \n",
    "vector=tf.constant([2,5,6,8])\n",
    "print(vector)\n",
    "print('the dimension of vector is :',vector.ndim)"
   ]
  },
  {
   "cell_type": "code",
   "execution_count": 21,
   "id": "706fdb18",
   "metadata": {},
   "outputs": [
    {
     "name": "stdout",
     "output_type": "stream",
     "text": [
      "tf.Tensor(\n",
      "[[1 2 4]\n",
      " [9 8 6]], shape=(2, 3), dtype=int32)\n",
      "the dimension of matrix is : 2\n"
     ]
    }
   ],
   "source": [
    "#create a matrix and check the dimension of matrix\n",
    "matrix=tf.constant([[1,2,4],\n",
    "                    [9,8,6]])\n",
    "print(matrix)\n",
    "print('the dimension of matrix is :',matrix.ndim)"
   ]
  },
  {
   "cell_type": "code",
   "execution_count": 20,
   "id": "cab20126",
   "metadata": {},
   "outputs": [
    {
     "name": "stdout",
     "output_type": "stream",
     "text": [
      "tf.Tensor(\n",
      "[[[1 3 5]\n",
      "  [3 6 7]]\n",
      "\n",
      " [[2 5 6]\n",
      "  [3 6 7]]\n",
      "\n",
      " [[4 6 7]\n",
      "  [6 7 7]]], shape=(3, 2, 3), dtype=int32)\n",
      "the dimension of tensor is : 3\n"
     ]
    }
   ],
   "source": [
    "#create a tensor\n",
    "tensor=tf.constant([[[1,3,5],[3,6,7]],\n",
    "                    [[2,5,6],[3,6,7]],\n",
    "                    [[4,6,7],[6,7,7]]])\n",
    "print(tensor)\n",
    "print('the dimension of tensor is :',tensor.ndim)"
   ]
  },
  {
   "cell_type": "code",
   "execution_count": null,
   "id": "4ec13d82",
   "metadata": {},
   "outputs": [],
   "source": []
  }
 ],
 "metadata": {
  "kernelspec": {
   "display_name": "Python 3",
   "language": "python",
   "name": "python3"
  },
  "language_info": {
   "codemirror_mode": {
    "name": "ipython",
    "version": 3
   },
   "file_extension": ".py",
   "mimetype": "text/x-python",
   "name": "python",
   "nbconvert_exporter": "python",
   "pygments_lexer": "ipython3",
   "version": "3.12.1"
  }
 },
 "nbformat": 4,
 "nbformat_minor": 5
}
