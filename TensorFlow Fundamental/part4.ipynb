{
 "cells": [
  {
   "cell_type": "markdown",
   "id": "b3be6885",
   "metadata": {},
   "source": [
    "# Manipulating Tensors With Basic Opearations\n",
    "* basic operation like `+`,`-`,`*`"
   ]
  },
  {
   "cell_type": "markdown",
   "id": "a3eb0539",
   "metadata": {},
   "source": [
    "### Addition Opearation"
   ]
  },
  {
   "cell_type": "code",
   "execution_count": 3,
   "id": "4f3ddb42",
   "metadata": {},
   "outputs": [
    {
     "name": "stdout",
     "output_type": "stream",
     "text": [
      "tf.Tensor(\n",
      "[[2 6 3]\n",
      " [3 6 5]], shape=(2, 3), dtype=int32)\n",
      "tensor after the addition is: tf.Tensor(\n",
      "[[2 6 3]\n",
      " [3 6 5]], shape=(2, 3), dtype=int32)\n"
     ]
    }
   ],
   "source": [
    "# you can add value to the tensors using the addition operator\n",
    "import tensorflow as tf\n",
    "tensor=tf.constant([[2,6,3],[3,6,5]])\n",
    "print(tensor)\n",
    "tensor_updated=tensor+10\n",
    "print('tensor after the addition is:',tensor)"
   ]
  },
  {
   "cell_type": "code",
   "execution_count": 4,
   "id": "8dd53e8e",
   "metadata": {},
   "outputs": [
    {
     "name": "stdout",
     "output_type": "stream",
     "text": [
      "tf.Tensor(\n",
      "[[2 6 3]\n",
      " [3 6 5]], shape=(2, 3), dtype=int32)\n"
     ]
    }
   ],
   "source": [
    "#the original tensor is unchanged \n",
    "print(tensor)"
   ]
  },
  {
   "cell_type": "markdown",
   "id": "1b0c305a",
   "metadata": {},
   "source": [
    "### Subtraction operation"
   ]
  },
  {
   "cell_type": "code",
   "execution_count": 6,
   "id": "f3233ced",
   "metadata": {},
   "outputs": [
    {
     "name": "stdout",
     "output_type": "stream",
     "text": [
      "the original tensor is : tf.Tensor(\n",
      "[[2 6 3]\n",
      " [3 6 5]], shape=(2, 3), dtype=int32)\n",
      "the tensor to be subtracted is: tf.Tensor(\n",
      "[[2 4 6]\n",
      " [4 6 3]], shape=(2, 3), dtype=int32)\n",
      "the result after the subtraction is: tf.Tensor(\n",
      "[[ 0  2 -3]\n",
      " [-1  0  2]], shape=(2, 3), dtype=int32)\n"
     ]
    }
   ],
   "source": [
    "subtract=tf.constant([[2,4,6],[4,6,3]])\n",
    "subtracted_tensor=tensor-subtract\n",
    "print('the original tensor is :',tensor)\n",
    "print('the tensor to be subtracted is:',subtract)\n",
    "print('the result after the subtraction is:',subtracted_tensor)"
   ]
  },
  {
   "cell_type": "markdown",
   "id": "7a6ce459",
   "metadata": {},
   "source": [
    "### Multiplication Opearation by `tf.multiply()`\n",
    "* this is element wise multiplication not matrix multiplication"
   ]
  },
  {
   "cell_type": "code",
   "execution_count": 17,
   "id": "c504c7d3",
   "metadata": {},
   "outputs": [
    {
     "name": "stdout",
     "output_type": "stream",
     "text": [
      "the original tensor is: tf.Tensor(\n",
      "[[2 6 3]\n",
      " [3 6 5]], shape=(2, 3), dtype=int32)\n",
      "the tensor after multiplication by 10 is: tf.Tensor(\n",
      "[[20 60 30]\n",
      " [30 60 50]], shape=(2, 3), dtype=int32)\n"
     ]
    }
   ],
   "source": [
    "print('the original tensor is:',tensor)\n",
    "print('the tensor after multiplication by 10 is:',tensor*10)"
   ]
  },
  {
   "cell_type": "code",
   "execution_count": 14,
   "id": "a92e4540",
   "metadata": {},
   "outputs": [
    {
     "name": "stdout",
     "output_type": "stream",
     "text": [
      "the original tensor is: tf.Tensor(\n",
      "[[2 6 3]\n",
      " [3 6 5]], shape=(2, 3), dtype=int32)\n",
      "the tensor to be multiplied is: tf.Tensor(\n",
      "[[2 6 6]\n",
      " [3 7 6]], shape=(2, 3), dtype=int32)\n",
      "the result after the multiplication is: tf.Tensor(\n",
      "[[ 4 36 18]\n",
      " [ 9 42 30]], shape=(2, 3), dtype=int32)\n"
     ]
    }
   ],
   "source": [
    "multiply_matrix=tf.constant([[2,6,6],[3,7,6]])\n",
    "print('the original tensor is:',tensor)\n",
    "print('the tensor to be multiplied is:',multiply_matrix)\n",
    "print('the result after the multiplication is:',tf.multiply(tensor,multiply_matrix))"
   ]
  },
  {
   "cell_type": "markdown",
   "id": "51b1bdce",
   "metadata": {},
   "source": [
    "* in `tf.multiply()` TensorFlow allows you to multiply two tensors of the same shape (or broadcastable shapes) element by element:\n",
    "* This is valid because the shapes are identical: both (2, 3).\n"
   ]
  },
  {
   "cell_type": "code",
   "execution_count": null,
   "id": "9610e135",
   "metadata": {},
   "outputs": [
    {
     "data": {
      "text/plain": [
       "[[4, 36, 18], [9, 42, 30]]"
      ]
     },
     "execution_count": 15,
     "metadata": {},
     "output_type": "execute_result"
    }
   ],
   "source": [
    "[[2*2, 6*6, 3*6],\n",
    " [3*3, 6*7, 5*6]]"
   ]
  },
  {
   "cell_type": "markdown",
   "id": "88996e65",
   "metadata": {},
   "source": [
    "### Matrix  Multiplication Opearation by `tf.matmul()`\n",
    "* this is real matrix multiplication where order of (mxn) and (pxq)\n",
    "* n and p must be equal\n",
    "* the resultant matrix is order of (mxq)"
   ]
  },
  {
   "cell_type": "code",
   "execution_count": 16,
   "id": "1af9b608",
   "metadata": {},
   "outputs": [
    {
     "name": "stdout",
     "output_type": "stream",
     "text": [
      "the original tensor is: tf.Tensor(\n",
      "[[2 6 3]\n",
      " [3 6 5]], shape=(2, 3), dtype=int32)\n",
      "the tensor to be multiplied is: tf.Tensor(\n",
      "[[3 6 6]\n",
      " [3 8 3]\n",
      " [3 7 5]], shape=(3, 3), dtype=int32)\n",
      "the result after matrix multiplication is: tf.Tensor(\n",
      "[[ 33  81  45]\n",
      " [ 42 101  61]], shape=(2, 3), dtype=int32)\n"
     ]
    }
   ],
   "source": [
    "real_mult=tf.constant([[3,6,6],[3,8,3],[3,7,5]])\n",
    "print('the original tensor is:',tensor)\n",
    "print('the tensor to be multiplied is:',real_mult)\n",
    "print('the result after matrix multiplication is:',tf.matmul(tensor,real_mult))"
   ]
  },
  {
   "cell_type": "markdown",
   "id": "d19905cc",
   "metadata": {},
   "source": [
    "### Matrix Multiplication With The Help Of `tf.transpose()`"
   ]
  },
  {
   "cell_type": "code",
   "execution_count": 18,
   "id": "293aff31",
   "metadata": {},
   "outputs": [
    {
     "name": "stdout",
     "output_type": "stream",
     "text": [
      "the original tensor is: tf.Tensor(\n",
      "[[2 6 3]\n",
      " [3 6 5]], shape=(2, 3), dtype=int32)\n",
      "the tensor to be multiplied is: tf.Tensor(\n",
      "[[3 5 6]\n",
      " [3 6 7]], shape=(2, 3), dtype=int32)\n"
     ]
    },
    {
     "name": "stderr",
     "output_type": "stream",
     "text": [
      "2025-10-11 03:38:57.696287: I tensorflow/core/framework/local_rendezvous.cc:407] Local rendezvous is aborting with status: INVALID_ARGUMENT: Matrix size-incompatible: In[0]: [2,3], In[1]: [2,3]\n"
     ]
    },
    {
     "ename": "InvalidArgumentError",
     "evalue": "{{function_node __wrapped__MatMul_device_/job:localhost/replica:0/task:0/device:CPU:0}} Matrix size-incompatible: In[0]: [2,3], In[1]: [2,3] [Op:MatMul] name: ",
     "output_type": "error",
     "traceback": [
      "\u001b[31m---------------------------------------------------------------------------\u001b[39m",
      "\u001b[31mInvalidArgumentError\u001b[39m                      Traceback (most recent call last)",
      "\u001b[36mCell\u001b[39m\u001b[36m \u001b[39m\u001b[32mIn[18]\u001b[39m\u001b[32m, line 4\u001b[39m\n\u001b[32m      2\u001b[39m \u001b[38;5;28mprint\u001b[39m(\u001b[33m'\u001b[39m\u001b[33mthe original tensor is:\u001b[39m\u001b[33m'\u001b[39m,tensor)\n\u001b[32m      3\u001b[39m \u001b[38;5;28mprint\u001b[39m(\u001b[33m'\u001b[39m\u001b[33mthe tensor to be multiplied is:\u001b[39m\u001b[33m'\u001b[39m,tensor1)\n\u001b[32m----> \u001b[39m\u001b[32m4\u001b[39m \u001b[38;5;28mprint\u001b[39m(\u001b[33m'\u001b[39m\u001b[33mthe matrix multiplication is:\u001b[39m\u001b[33m'\u001b[39m,\u001b[43mtf\u001b[49m\u001b[43m.\u001b[49m\u001b[43mmatmul\u001b[49m\u001b[43m(\u001b[49m\u001b[43mtensor\u001b[49m\u001b[43m,\u001b[49m\u001b[43mtensor1\u001b[49m\u001b[43m)\u001b[49m)\n",
      "\u001b[36mFile \u001b[39m\u001b[32m/usr/local/python/3.12.1/lib/python3.12/site-packages/tensorflow/python/ops/weak_tensor_ops.py:142\u001b[39m, in \u001b[36mweak_tensor_binary_op_wrapper.<locals>.wrapper\u001b[39m\u001b[34m(*args, **kwargs)\u001b[39m\n\u001b[32m    140\u001b[39m \u001b[38;5;28;01mdef\u001b[39;00m\u001b[38;5;250m \u001b[39m\u001b[34mwrapper\u001b[39m(*args, **kwargs):\n\u001b[32m    141\u001b[39m   \u001b[38;5;28;01mif\u001b[39;00m \u001b[38;5;129;01mnot\u001b[39;00m ops.is_auto_dtype_conversion_enabled():\n\u001b[32m--> \u001b[39m\u001b[32m142\u001b[39m     \u001b[38;5;28;01mreturn\u001b[39;00m \u001b[43mop\u001b[49m\u001b[43m(\u001b[49m\u001b[43m*\u001b[49m\u001b[43margs\u001b[49m\u001b[43m,\u001b[49m\u001b[43m \u001b[49m\u001b[43m*\u001b[49m\u001b[43m*\u001b[49m\u001b[43mkwargs\u001b[49m\u001b[43m)\u001b[49m\n\u001b[32m    143\u001b[39m   bound_arguments = signature.bind(*args, **kwargs)\n\u001b[32m    144\u001b[39m   bound_arguments.apply_defaults()\n",
      "\u001b[36mFile \u001b[39m\u001b[32m/usr/local/python/3.12.1/lib/python3.12/site-packages/tensorflow/python/util/traceback_utils.py:153\u001b[39m, in \u001b[36mfilter_traceback.<locals>.error_handler\u001b[39m\u001b[34m(*args, **kwargs)\u001b[39m\n\u001b[32m    151\u001b[39m \u001b[38;5;28;01mexcept\u001b[39;00m \u001b[38;5;167;01mException\u001b[39;00m \u001b[38;5;28;01mas\u001b[39;00m e:\n\u001b[32m    152\u001b[39m   filtered_tb = _process_traceback_frames(e.__traceback__)\n\u001b[32m--> \u001b[39m\u001b[32m153\u001b[39m   \u001b[38;5;28;01mraise\u001b[39;00m e.with_traceback(filtered_tb) \u001b[38;5;28;01mfrom\u001b[39;00m\u001b[38;5;250m \u001b[39m\u001b[38;5;28;01mNone\u001b[39;00m\n\u001b[32m    154\u001b[39m \u001b[38;5;28;01mfinally\u001b[39;00m:\n\u001b[32m    155\u001b[39m   \u001b[38;5;28;01mdel\u001b[39;00m filtered_tb\n",
      "\u001b[36mFile \u001b[39m\u001b[32m/usr/local/python/3.12.1/lib/python3.12/site-packages/tensorflow/python/framework/ops.py:6027\u001b[39m, in \u001b[36mraise_from_not_ok_status\u001b[39m\u001b[34m(e, name)\u001b[39m\n\u001b[32m   6025\u001b[39m \u001b[38;5;28;01mdef\u001b[39;00m\u001b[38;5;250m \u001b[39m\u001b[34mraise_from_not_ok_status\u001b[39m(e, name) -> NoReturn:\n\u001b[32m   6026\u001b[39m   e.message += (\u001b[33m\"\u001b[39m\u001b[33m name: \u001b[39m\u001b[33m\"\u001b[39m + \u001b[38;5;28mstr\u001b[39m(name \u001b[38;5;28;01mif\u001b[39;00m name \u001b[38;5;129;01mis\u001b[39;00m \u001b[38;5;129;01mnot\u001b[39;00m \u001b[38;5;28;01mNone\u001b[39;00m \u001b[38;5;28;01melse\u001b[39;00m \u001b[33m\"\u001b[39m\u001b[33m\"\u001b[39m))\n\u001b[32m-> \u001b[39m\u001b[32m6027\u001b[39m   \u001b[38;5;28;01mraise\u001b[39;00m core._status_to_exception(e) \u001b[38;5;28;01mfrom\u001b[39;00m\u001b[38;5;250m \u001b[39m\u001b[38;5;28;01mNone\u001b[39;00m\n",
      "\u001b[31mInvalidArgumentError\u001b[39m: {{function_node __wrapped__MatMul_device_/job:localhost/replica:0/task:0/device:CPU:0}} Matrix size-incompatible: In[0]: [2,3], In[1]: [2,3] [Op:MatMul] name: "
     ]
    }
   ],
   "source": [
    "tensor1=tf.constant([[3,5,6],[3,6,7]])\n",
    "print('the original tensor is:',tensor)\n",
    "print('the tensor to be multiplied is:',tensor1)\n",
    "print('the matrix multiplication is:',tf.matmul(tensor,tensor1))"
   ]
  },
  {
   "cell_type": "markdown",
   "id": "268849c1",
   "metadata": {},
   "source": [
    "* we are encountering the above error because the order/shape of first tensor is (2x3) and second tensor is (2x3)\n",
    "* i.e 3 and 2 is not equal\n",
    "* Now we can solve this by the help of `tf.transpose()`"
   ]
  },
  {
   "cell_type": "code",
   "execution_count": 20,
   "id": "3ea7308e",
   "metadata": {},
   "outputs": [
    {
     "name": "stdout",
     "output_type": "stream",
     "text": [
      "the original tensor is: tf.Tensor(\n",
      "[[2 6 3]\n",
      " [3 6 5]], shape=(2, 3), dtype=int32)\n",
      "the tensor to be multiplied is: tf.Tensor(\n",
      "[[3 5 6]\n",
      " [3 6 7]], shape=(2, 3), dtype=int32)\n",
      "the tensor1 matrix after the transpose is: tf.Tensor(\n",
      "[[3 3]\n",
      " [5 6]\n",
      " [6 7]], shape=(3, 2), dtype=int32)\n",
      "the matrix multiplication is: tf.Tensor(\n",
      "[[54 63]\n",
      " [69 80]], shape=(2, 2), dtype=int32)\n"
     ]
    }
   ],
   "source": [
    "tensor1=tf.constant([[3,5,6],[3,6,7]])\n",
    "tensor1_transpose=tf.transpose(tensor1)\n",
    "print('the original tensor is:',tensor)\n",
    "print('the tensor to be multiplied is:',tensor1)\n",
    "print('the tensor1 matrix after the transpose is:',tensor1_transpose)\n",
    "print('the matrix multiplication is:',tf.matmul(tensor,tensor1_transpose))"
   ]
  },
  {
   "cell_type": "markdown",
   "id": "f042cc06",
   "metadata": {},
   "source": [
    "### Matrix Multiplication with the help of `tf.tensordot()`\n",
    "* Tensordot (also known as tensor contraction) sums the product of elements from a and b over the indices specified by axes.\n",
    "* Example 1: When a and b are matrices (order 2), the case axes=1 is equivalent to matrix multiplication.\n",
    "* Example 2: When a and b are matrices (order 2), the case axes = [[1], [0]] is equivalent to matrix multiplication.\n",
    "* Example 3: When a and b are matrices (order 2), the case axes=0 gives the outer product, a tensor of order 4."
   ]
  },
  {
   "cell_type": "code",
   "execution_count": null,
   "id": "65c6f8a5",
   "metadata": {},
   "outputs": [
    {
     "name": "stdout",
     "output_type": "stream",
     "text": [
      "the original marix is: tf.Tensor(\n",
      "[[2 6 3]\n",
      " [3 6 5]], shape=(2, 3), dtype=int32)\n",
      "the matrix to be multiplied is: tf.Tensor(\n",
      "[[3 3]\n",
      " [5 6]\n",
      " [6 7]], shape=(3, 2), dtype=int32)\n",
      "the matrix multiplication is: tf.Tensor(\n",
      "[[54 63]\n",
      " [69 80]], shape=(2, 2), dtype=int32)\n"
     ]
    }
   ],
   "source": [
    "# when axes is 1\n",
    "print('the original marix is:',tensor)\n",
    "print('the matrix to be multiplied is:',tensor1_transpose)\n",
    "print('the matrix multiplication is:',tf.tensordot(tensor,tensor1_transpose,axes=1))"
   ]
  },
  {
   "cell_type": "code",
   "execution_count": null,
   "id": "f0963054",
   "metadata": {},
   "outputs": [
    {
     "name": "stdout",
     "output_type": "stream",
     "text": [
      "the original marix is: tf.Tensor(\n",
      "[[2 6 3]\n",
      " [3 6 5]], shape=(2, 3), dtype=int32)\n",
      "the matrix to be multiplied is: tf.Tensor(\n",
      "[[3 3]\n",
      " [5 6]\n",
      " [6 7]], shape=(3, 2), dtype=int32)\n",
      "the matrix multiplication is: tf.Tensor(\n",
      "[[[[ 6  6]\n",
      "   [10 12]\n",
      "   [12 14]]\n",
      "\n",
      "  [[18 18]\n",
      "   [30 36]\n",
      "   [36 42]]\n",
      "\n",
      "  [[ 9  9]\n",
      "   [15 18]\n",
      "   [18 21]]]\n",
      "\n",
      "\n",
      " [[[ 9  9]\n",
      "   [15 18]\n",
      "   [18 21]]\n",
      "\n",
      "  [[18 18]\n",
      "   [30 36]\n",
      "   [36 42]]\n",
      "\n",
      "  [[15 15]\n",
      "   [25 30]\n",
      "   [30 35]]]], shape=(2, 3, 3, 2), dtype=int32)\n"
     ]
    }
   ],
   "source": [
    "# when axes is 0\n",
    "print('the original marix is:',tensor)\n",
    "print('the matrix to be multiplied is:',tensor1_transpose)\n",
    "print('the matrix multiplication is:',tf.tensordot(tensor,tensor1_transpose,axes=0))"
   ]
  },
  {
   "cell_type": "markdown",
   "id": "56503dea",
   "metadata": {},
   "source": [
    "### Matrix Multiplication with the help of `tf.reshape`\n",
    "* here we reshape the matrix order which are incompatible for matrix multiplication\n",
    "* in below code both tensor and tensor1 have same shape i.e(2,3)\n",
    "* so it is impossible to Matrix Multiplication\n",
    "* now we reshape the tensor1 to shape (3,2)"
   ]
  },
  {
   "cell_type": "code",
   "execution_count": 26,
   "id": "20ea74fd",
   "metadata": {},
   "outputs": [
    {
     "name": "stdout",
     "output_type": "stream",
     "text": [
      "the original tensor is: tf.Tensor(\n",
      "[[2 6 3]\n",
      " [3 6 5]], shape=(2, 3), dtype=int32)\n",
      "the tensor to be mutiplied is: tf.Tensor(\n",
      "[[3 5 6]\n",
      " [3 6 7]], shape=(2, 3), dtype=int32)\n",
      "the matrix multiplication is: tf.Tensor(\n",
      "[[60 49]\n",
      " [75 68]], shape=(2, 2), dtype=int32)\n"
     ]
    }
   ],
   "source": [
    "print('the original tensor is:',tensor)\n",
    "print('the tensor to be mutiplied is:',tensor1)\n",
    "print('the matrix multiplication is:',tf.matmul(tensor,tf.reshape(tensor1,shape=(3,2))))"
   ]
  },
  {
   "cell_type": "markdown",
   "id": "4a9729f3",
   "metadata": {},
   "source": [
    "### Matrix Multipication with the help of `@` operator"
   ]
  },
  {
   "cell_type": "code",
   "execution_count": 32,
   "id": "60984959",
   "metadata": {},
   "outputs": [
    {
     "name": "stdout",
     "output_type": "stream",
     "text": [
      "the original marix is: tf.Tensor(\n",
      "[[2 6 3]\n",
      " [3 6 5]], shape=(2, 3), dtype=int32)\n",
      "the matrix to be multiplied is: tf.Tensor(\n",
      "[[3 3]\n",
      " [5 6]\n",
      " [6 7]], shape=(3, 2), dtype=int32)\n",
      "the matrix multiplication is: tf.Tensor(\n",
      "[[54 63]\n",
      " [69 80]], shape=(2, 2), dtype=int32)\n"
     ]
    }
   ],
   "source": [
    "\n",
    "print('the original marix is:',tensor)\n",
    "print('the matrix to be multiplied is:',tensor1_transpose)\n",
    "print('the matrix multiplication is:',(tensor@tensor1_transpose))"
   ]
  },
  {
   "cell_type": "markdown",
   "id": "5bad515d",
   "metadata": {},
   "source": [
    "### The difference between `tf.transpose()` and `tf.reshape()`\n",
    "* `tf.transpose()` :Rearranges the axes (dimensions) of a tensor.\n",
    "* `tf.transpose()`: It does not change the number of elements or how they’re grouped in memory — it just swaps dimensions (like rows ↔ columns).\n",
    "\n",
    "* `tf.reshape()`:Changes the shape (layout) of the tensor by rearranging elements.\n",
    "* `tf.reshape()`:It does not move data between axes — it just reinterprets the same elements into a new shape (as long as total elements match)."
   ]
  },
  {
   "cell_type": "code",
   "execution_count": 31,
   "id": "4cec40d1",
   "metadata": {},
   "outputs": [
    {
     "name": "stdout",
     "output_type": "stream",
     "text": [
      "the original tensor is: tf.Tensor(\n",
      "[[3 5 6]\n",
      " [3 6 7]], shape=(2, 3), dtype=int32)\n",
      "the tensor after the transpose is: tf.Tensor(\n",
      "[[3 3]\n",
      " [5 6]\n",
      " [6 7]], shape=(3, 2), dtype=int32)\n",
      "the tensor after the reshape is: tf.Tensor(\n",
      "[[3 5]\n",
      " [6 3]\n",
      " [6 7]], shape=(3, 2), dtype=int32)\n"
     ]
    }
   ],
   "source": [
    "print('the original tensor is:',tensor1)\n",
    "print('the tensor after the transpose is:',tf.transpose(tensor1))\n",
    "print('the tensor after the reshape is:',tf.reshape(tensor1,shape=(3,2)))"
   ]
  },
  {
   "cell_type": "markdown",
   "id": "eba1c3dc",
   "metadata": {},
   "source": [
    "### Conclusion: While the matrix multiplication we always use `tf.transpose()` if one of the matrix don't have suitable shape for multiplication and don't use `tf.reshape()`"
   ]
  },
  {
   "cell_type": "code",
   "execution_count": null,
   "id": "851f04e1",
   "metadata": {},
   "outputs": [],
   "source": []
  }
 ],
 "metadata": {
  "kernelspec": {
   "display_name": "Python 3",
   "language": "python",
   "name": "python3"
  },
  "language_info": {
   "codemirror_mode": {
    "name": "ipython",
    "version": 3
   },
   "file_extension": ".py",
   "mimetype": "text/x-python",
   "name": "python",
   "nbconvert_exporter": "python",
   "pygments_lexer": "ipython3",
   "version": "3.12.1"
  }
 },
 "nbformat": 4,
 "nbformat_minor": 5
}
