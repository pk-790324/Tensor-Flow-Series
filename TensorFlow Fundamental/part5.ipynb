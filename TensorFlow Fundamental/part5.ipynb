{
 "cells": [
  {
   "cell_type": "markdown",
   "id": "98f016df",
   "metadata": {},
   "source": [
    "### Changing the dtypes of the tensor"
   ]
  },
  {
   "cell_type": "code",
   "execution_count": 3,
   "id": "79f5451b",
   "metadata": {},
   "outputs": [
    {
     "name": "stderr",
     "output_type": "stream",
     "text": [
      "2025-10-11 09:50:13.460771: I external/local_xla/xla/tsl/cuda/cudart_stub.cc:31] Could not find cuda drivers on your machine, GPU will not be used.\n",
      "2025-10-11 09:50:13.507477: I tensorflow/core/platform/cpu_feature_guard.cc:210] This TensorFlow binary is optimized to use available CPU instructions in performance-critical operations.\n",
      "To enable the following instructions: AVX2 FMA, in other operations, rebuild TensorFlow with the appropriate compiler flags.\n",
      "2025-10-11 09:50:15.728111: I external/local_xla/xla/tsl/cuda/cudart_stub.cc:31] Could not find cuda drivers on your machine, GPU will not be used.\n",
      "2025-10-11 09:50:18.208425: E external/local_xla/xla/stream_executor/cuda/cuda_platform.cc:51] failed call to cuInit: INTERNAL: CUDA error: Failed call to cuInit: UNKNOWN ERROR (303)\n"
     ]
    },
    {
     "data": {
      "text/plain": [
       "(<tf.Tensor: shape=(3,), dtype=float32, numpy=array([2.2, 3.6, 6.7], dtype=float32)>,\n",
       " tf.float32)"
      ]
     },
     "execution_count": 3,
     "metadata": {},
     "output_type": "execute_result"
    }
   ],
   "source": [
    "# create a new tensors with default dtypes\n",
    "import tensorflow as tf\n",
    "b=tf.constant([2.2,3.6,6.7])\n",
    "b,b.dtype"
   ]
  },
  {
   "cell_type": "code",
   "execution_count": 4,
   "id": "3a7e8122",
   "metadata": {},
   "outputs": [
    {
     "data": {
      "text/plain": [
       "(<tf.Tensor: shape=(3,), dtype=float16, numpy=array([2.2, 3.6, 6.7], dtype=float16)>,\n",
       " tf.float16)"
      ]
     },
     "execution_count": 4,
     "metadata": {},
     "output_type": "execute_result"
    }
   ],
   "source": [
    "# change from float32 to float16(reduced precision)\n",
    "d=tf.cast(b,dtype=tf.float16)\n",
    "d,d.dtype"
   ]
  },
  {
   "cell_type": "code",
   "execution_count": 5,
   "id": "f8de44e9",
   "metadata": {},
   "outputs": [
    {
     "data": {
      "text/plain": [
       "(<tf.Tensor: shape=(2, 3), dtype=int32, numpy=\n",
       " array([[9, 8, 6],\n",
       "        [8, 6, 5]], dtype=int32)>,\n",
       " tf.int32)"
      ]
     },
     "execution_count": 5,
     "metadata": {},
     "output_type": "execute_result"
    }
   ],
   "source": [
    "c=tf.constant([[9,8,6],[8,6,5]])\n",
    "c,c.dtype"
   ]
  },
  {
   "cell_type": "code",
   "execution_count": 6,
   "id": "82845aac",
   "metadata": {},
   "outputs": [
    {
     "data": {
      "text/plain": [
       "(<tf.Tensor: shape=(2, 3), dtype=int16, numpy=\n",
       " array([[9, 8, 6],\n",
       "        [8, 6, 5]], dtype=int16)>,\n",
       " tf.int16)"
      ]
     },
     "execution_count": 6,
     "metadata": {},
     "output_type": "execute_result"
    }
   ],
   "source": [
    "#change from int32 to int16(reduced precision)\n",
    "e=tf.cast(c,dtype=tf.int16)\n",
    "e,e.dtype"
   ]
  },
  {
   "cell_type": "markdown",
   "id": "46d110a1",
   "metadata": {},
   "source": [
    "### Aggregations of Tensors\n",
    "* Aggregating tensors = combining many elements into fewer by using reduction operations like sum, mean, max, or min."
   ]
  },
  {
   "cell_type": "code",
   "execution_count": 7,
   "id": "edbd579d",
   "metadata": {},
   "outputs": [
    {
     "data": {
      "text/plain": [
       "<tf.Tensor: shape=(3,), dtype=int32, numpy=array([3, 4, 7], dtype=int32)>"
      ]
     },
     "execution_count": 7,
     "metadata": {},
     "output_type": "execute_result"
    }
   ],
   "source": [
    "#get the absolute value of the tensors\n",
    "D=tf.constant([-3,-4,7])\n",
    "tf.abs(D)"
   ]
  },
  {
   "cell_type": "code",
   "execution_count": 8,
   "id": "0e92928c",
   "metadata": {},
   "outputs": [
    {
     "data": {
      "text/plain": [
       "<tf.Tensor: shape=(50,), dtype=int64, numpy=\n",
       "array([97, 26, 90, 17, 31, 96, 32,  8, 74, 37, 34, 29, 34,  7, 71, 24, 16,\n",
       "       16, 77, 42,  5,  5, 17, 21, 91, 22, 47, 44, 89, 11, 90, 44,  3, 26,\n",
       "       64, 92, 12, 78, 22, 24,  9, 59, 41, 80, 74, 18, 92, 86, 92, 53])>"
      ]
     },
     "execution_count": 8,
     "metadata": {},
     "output_type": "execute_result"
    }
   ],
   "source": [
    "# create a random tensor with value between 0 and 100 of size 50\n",
    "import numpy as np\n",
    "E=tf.constant(np.random.randint(0,100,size=50))\n",
    "E"
   ]
  },
  {
   "cell_type": "code",
   "execution_count": 9,
   "id": "e0b7dd56",
   "metadata": {},
   "outputs": [
    {
     "name": "stdout",
     "output_type": "stream",
     "text": [
      "the shape of the tensors is: (50,)\n",
      "the size of the tensors is: tf.Tensor(50, shape=(), dtype=int32)\n",
      "the dimensions of the tensors is: 1\n"
     ]
    }
   ],
   "source": [
    "print('the shape of the tensors is:',E.shape)\n",
    "print('the size of the tensors is:',tf.size(E))\n",
    "print('the dimensions of the tensors is:',E.ndim)"
   ]
  },
  {
   "cell_type": "code",
   "execution_count": 10,
   "id": "8d64630e",
   "metadata": {},
   "outputs": [
    {
     "name": "stdout",
     "output_type": "stream",
     "text": [
      "the minimum item from the tensors is: tf.Tensor(3, shape=(), dtype=int64)\n"
     ]
    }
   ],
   "source": [
    "#to find the minimum item from the tensors\n",
    "print('the minimum item from the tensors is:',tf.reduce_min(E))"
   ]
  },
  {
   "cell_type": "code",
   "execution_count": 11,
   "id": "b0777ee9",
   "metadata": {},
   "outputs": [
    {
     "data": {
      "text/plain": [
       "<tf.Tensor: shape=(2, 3), dtype=int32, numpy=\n",
       "array([[ 3,  5,  6],\n",
       "       [ 3,  5, -1]], dtype=int32)>"
      ]
     },
     "execution_count": 11,
     "metadata": {},
     "output_type": "execute_result"
    }
   ],
   "source": [
    "tensors=tf.constant([[3,5,6],[3,5,-1]])\n",
    "tensors"
   ]
  },
  {
   "cell_type": "code",
   "execution_count": 12,
   "id": "22d6455e",
   "metadata": {},
   "outputs": [
    {
     "name": "stdout",
     "output_type": "stream",
     "text": [
      "the greatest items from the tensors is: tf.Tensor(6, shape=(), dtype=int32)\n",
      "the minimum items form the tensors is: tf.Tensor(-1, shape=(), dtype=int32)\n",
      "the total sum of items of tensors is: tf.Tensor(21, shape=(), dtype=int32)\n",
      "the total sum along row wise is: tf.Tensor([ 6 10  5], shape=(3,), dtype=int32)\n",
      "the total sum along the columns wise is: tf.Tensor([14  7], shape=(2,), dtype=int32)\n"
     ]
    }
   ],
   "source": [
    "print('the greatest items from the tensors is:',tf.reduce_max(tensors))\n",
    "print('the minimum items form the tensors is:',tf.reduce_min(tensors))\n",
    "print('the total sum of items of tensors is:',tf.reduce_sum(tensors))\n",
    "print('the total sum along row wise is:',tf.reduce_sum(tensors,axis=0))\n",
    "print('the total sum along the columns wise is:',tf.reduce_sum(tensors,axis=1))"
   ]
  },
  {
   "cell_type": "markdown",
   "id": "af55f331",
   "metadata": {},
   "source": [
    "### finding the variance and the standard deviation of the tensors\n",
    "* Variance=1\\n​∑(xi​−mean)2\n",
    "* Standard Deviation=sqrt(Variance)\n",
    "​"
   ]
  },
  {
   "cell_type": "code",
   "execution_count": 25,
   "id": "8a59c1d7",
   "metadata": {},
   "outputs": [
    {
     "name": "stdout",
     "output_type": "stream",
     "text": [
      "the variance of the tensors is: 5.25\n",
      "the standard deviation of the tensors is: 2.291288\n"
     ]
    }
   ],
   "source": [
    "\n",
    "variance=tf.math.reduce_variance(tf.cast(tensors,dtype='float32')).numpy()\n",
    "standard_deviation=tf.math.reduce_std(tf.cast(tensors,dtype='float32')).numpy()\n",
    "print('the variance of the tensors is:',variance)\n",
    "print('the standard deviation of the tensors is:',standard_deviation)"
   ]
  },
  {
   "cell_type": "markdown",
   "id": "b7e5ea3c",
   "metadata": {},
   "source": [
    "### finding the positional maximum and minimum of a tensor"
   ]
  },
  {
   "cell_type": "code",
   "execution_count": 2,
   "id": "1847ccaf",
   "metadata": {},
   "outputs": [
    {
     "data": {
      "text/plain": [
       "<tf.Tensor: shape=(50,), dtype=float32, numpy=\n",
       "array([0.2733041 , 0.5020257 , 0.6628481 , 0.6473899 , 0.3857293 ,\n",
       "       0.36172044, 0.5412978 , 0.48597205, 0.8773687 , 0.19192028,\n",
       "       0.9264002 , 0.89626896, 0.6672703 , 0.47216296, 0.22052324,\n",
       "       0.88224113, 0.21332026, 0.3742751 , 0.6198429 , 0.67401516,\n",
       "       0.33629417, 0.04864144, 0.00223255, 0.9375315 , 0.1595205 ,\n",
       "       0.76488817, 0.5631764 , 0.48775423, 0.4250028 , 0.29910493,\n",
       "       0.8409952 , 0.6727512 , 0.00153816, 0.4085456 , 0.9261861 ,\n",
       "       0.18742752, 0.60272205, 0.99417937, 0.42423892, 0.27978897,\n",
       "       0.9430332 , 0.80545497, 0.06359637, 0.56783044, 0.26592016,\n",
       "       0.98973536, 0.5452112 , 0.11514163, 0.53635466, 0.6935723 ],\n",
       "      dtype=float32)>"
      ]
     },
     "execution_count": 2,
     "metadata": {},
     "output_type": "execute_result"
    }
   ],
   "source": [
    "import tensorflow as tf\n",
    "tf.random.set_seed(43)\n",
    "item=tf.random.uniform(shape=[50])\n",
    "item"
   ]
  },
  {
   "cell_type": "code",
   "execution_count": 3,
   "id": "eb54439b",
   "metadata": {},
   "outputs": [
    {
     "name": "stdout",
     "output_type": "stream",
     "text": [
      "the index for the greatest element is: 37\n",
      "so the greatest element is: 0.99417937\n"
     ]
    }
   ],
   "source": [
    "# find the postional maximum\n",
    "print('the index for the greatest element is:',tf.argmax(item).numpy())\n",
    "print('so the greatest element is:',item[37].numpy())"
   ]
  },
  {
   "cell_type": "code",
   "execution_count": 4,
   "id": "c9e8c6a5",
   "metadata": {},
   "outputs": [
    {
     "name": "stdout",
     "output_type": "stream",
     "text": [
      "the index for the smallest element is: 32\n",
      "so the smallest element is: 0.0015381575\n"
     ]
    }
   ],
   "source": [
    "# find the positional minimum\n",
    "print('the index for the smallest element is:',tf.argmin(item).numpy())\n",
    "print('so the smallest element is:',item[tf.argmin(item).numpy()].numpy())"
   ]
  },
  {
   "cell_type": "markdown",
   "id": "43d401c5",
   "metadata": {},
   "source": [
    "### Sqeezing the tensor(removing all the single dimensions)\n",
    "* Squeezing a tensor means removing dimensions with size 1 from its shape.\n",
    "* It doesn’t change the actual data — it only changes the shape (i.e., how the data is arranged)."
   ]
  },
  {
   "cell_type": "code",
   "execution_count": 19,
   "id": "8f360cad",
   "metadata": {},
   "outputs": [
    {
     "name": "stdout",
     "output_type": "stream",
     "text": [
      "tf.Tensor(\n",
      "[[[[[8.39977026e-01 6.16283536e-01 8.56459022e-01 1.86221480e-01\n",
      "     3.53955030e-02 9.65633988e-01 5.95039606e-01 7.78796554e-01\n",
      "     2.20869184e-01 8.08609366e-01 2.16290355e-01 5.07235289e-01\n",
      "     2.81568289e-01 4.80004430e-01 4.65334892e-01 7.84289122e-01\n",
      "     5.13068557e-01 3.64606619e-01 7.58449912e-01 7.23875165e-01\n",
      "     1.07090831e-01 4.00079012e-01 5.80695033e-01 3.60834360e-01\n",
      "     1.05580091e-01 4.05367613e-02 7.76226163e-01 3.17516327e-01\n",
      "     1.04784966e-04 1.17248058e-01 2.56348014e-01 6.97906137e-01\n",
      "     2.59928346e-01 4.51119900e-01 7.48329878e-01 2.76349902e-01\n",
      "     1.87450051e-01 6.10051155e-01 7.22780108e-01 4.25463557e-01\n",
      "     2.61407495e-01 5.91025352e-02 9.33770061e-01 4.00319695e-01\n",
      "     8.02669764e-01 7.17010498e-01 6.66941166e-01 1.12154603e-01\n",
      "     8.32442760e-01 7.39333749e-01]]]]], shape=(1, 1, 1, 1, 50), dtype=float32)\n",
      "the shape of the tensors is: (1, 1, 1, 1, 50)\n",
      "the dimensions of the tensors is: 5\n"
     ]
    }
   ],
   "source": [
    "# lets create the tensors to get started\n",
    "tf.random.set_seed(99)\n",
    "tensors_1=tf.constant(tf.random.uniform(shape=[50]),shape=(1,1,1,1,50))\n",
    "print(tensors_1)\n",
    "print('the shape of the tensors is:',tensors_1.shape)\n",
    "print('the dimensions of the tensors is:',tensors_1.ndim)"
   ]
  },
  {
   "cell_type": "code",
   "execution_count": 20,
   "id": "25d8b1d0",
   "metadata": {},
   "outputs": [
    {
     "name": "stdout",
     "output_type": "stream",
     "text": [
      "tf.Tensor(\n",
      "[8.39977026e-01 6.16283536e-01 8.56459022e-01 1.86221480e-01\n",
      " 3.53955030e-02 9.65633988e-01 5.95039606e-01 7.78796554e-01\n",
      " 2.20869184e-01 8.08609366e-01 2.16290355e-01 5.07235289e-01\n",
      " 2.81568289e-01 4.80004430e-01 4.65334892e-01 7.84289122e-01\n",
      " 5.13068557e-01 3.64606619e-01 7.58449912e-01 7.23875165e-01\n",
      " 1.07090831e-01 4.00079012e-01 5.80695033e-01 3.60834360e-01\n",
      " 1.05580091e-01 4.05367613e-02 7.76226163e-01 3.17516327e-01\n",
      " 1.04784966e-04 1.17248058e-01 2.56348014e-01 6.97906137e-01\n",
      " 2.59928346e-01 4.51119900e-01 7.48329878e-01 2.76349902e-01\n",
      " 1.87450051e-01 6.10051155e-01 7.22780108e-01 4.25463557e-01\n",
      " 2.61407495e-01 5.91025352e-02 9.33770061e-01 4.00319695e-01\n",
      " 8.02669764e-01 7.17010498e-01 6.66941166e-01 1.12154603e-01\n",
      " 8.32442760e-01 7.39333749e-01], shape=(50,), dtype=float32)\n",
      "the shape of the squeezed tensors is: (50,)\n",
      "the dimensions of the sqeezed tensors is: 1\n"
     ]
    }
   ],
   "source": [
    "# now squeezing the above tensors \n",
    "squeezed_tensors=tf.squeeze(tensors_1)\n",
    "print(squeezed_tensors)\n",
    "print('the shape of the squeezed tensors is:',squeezed_tensors.shape)\n",
    "print('the dimensions of the sqeezed tensors is:',squeezed_tensors.ndim)"
   ]
  },
  {
   "cell_type": "markdown",
   "id": "b96ca625",
   "metadata": {},
   "source": [
    "### OneHotEncoding of the tensors"
   ]
  },
  {
   "cell_type": "code",
   "execution_count": 10,
   "id": "70dee88a",
   "metadata": {},
   "outputs": [
    {
     "data": {
      "text/plain": [
       "<tf.Tensor: shape=(4, 6), dtype=float32, numpy=\n",
       "array([[0., 0., 1., 0., 0., 0.],\n",
       "       [0., 0., 0., 1., 0., 0.],\n",
       "       [0., 0., 0., 0., 1., 0.],\n",
       "       [0., 0., 0., 0., 0., 1.]], dtype=float32)>"
      ]
     },
     "execution_count": 10,
     "metadata": {},
     "output_type": "execute_result"
    }
   ],
   "source": [
    "list=tf.constant([2,3,4,5])\n",
    "tf.one_hot(list,depth=6)"
   ]
  },
  {
   "cell_type": "code",
   "execution_count": null,
   "id": "c9f7ae3e",
   "metadata": {},
   "outputs": [
    {
     "data": {
      "text/plain": [
       "<tf.Tensor: shape=(3, 3), dtype=int32, numpy=\n",
       "array([[ 5, -1, -1],\n",
       "       [-1,  5, -1],\n",
       "       [-1, -1,  5]], dtype=int32)>"
      ]
     },
     "execution_count": 11,
     "metadata": {},
     "output_type": "execute_result"
    }
   ],
   "source": [
    "#one hot with custom value\n",
    "tf.one_hot([0, 1, 2], depth=3, on_value=5, off_value=-1)\n"
   ]
  },
  {
   "cell_type": "markdown",
   "id": "45f269fe",
   "metadata": {},
   "source": [
    "### some mathematical operation in tensor"
   ]
  },
  {
   "cell_type": "code",
   "execution_count": 12,
   "id": "493e8396",
   "metadata": {},
   "outputs": [
    {
     "data": {
      "text/plain": [
       "<tf.Tensor: shape=(9,), dtype=int32, numpy=array([1, 2, 3, 4, 5, 6, 7, 8, 9], dtype=int32)>"
      ]
     },
     "execution_count": 12,
     "metadata": {},
     "output_type": "execute_result"
    }
   ],
   "source": [
    "#creating new tensors\n",
    "numbers=tf.range(1,10)\n",
    "numbers"
   ]
  },
  {
   "cell_type": "code",
   "execution_count": 14,
   "id": "2db02481",
   "metadata": {},
   "outputs": [
    {
     "data": {
      "text/plain": [
       "array([ 1,  4,  9, 16, 25, 36, 49, 64, 81], dtype=int32)"
      ]
     },
     "execution_count": 14,
     "metadata": {},
     "output_type": "execute_result"
    }
   ],
   "source": [
    "#square\n",
    "tf.math.square(numbers).numpy()"
   ]
  },
  {
   "cell_type": "code",
   "execution_count": 17,
   "id": "2088e6b5",
   "metadata": {},
   "outputs": [
    {
     "ename": "InvalidArgumentError",
     "evalue": "Value for attr 'T' of int32 is not in the list of allowed values: bfloat16, half, float, double, complex64, complex128\n\t; NodeDef: {{node Sqrt}}; Op<name=Sqrt; signature=x:T -> y:T; attr=T:type,allowed=[DT_BFLOAT16, DT_HALF, DT_FLOAT, DT_DOUBLE, DT_COMPLEX64, DT_COMPLEX128]> [Op:Sqrt] name: ",
     "output_type": "error",
     "traceback": [
      "\u001b[31m---------------------------------------------------------------------------\u001b[39m",
      "\u001b[31mInvalidArgumentError\u001b[39m                      Traceback (most recent call last)",
      "\u001b[36mCell\u001b[39m\u001b[36m \u001b[39m\u001b[32mIn[17]\u001b[39m\u001b[32m, line 2\u001b[39m\n\u001b[32m      1\u001b[39m \u001b[38;5;66;03m#squreroot\u001b[39;00m\n\u001b[32m----> \u001b[39m\u001b[32m2\u001b[39m \u001b[43mtf\u001b[49m\u001b[43m.\u001b[49m\u001b[43mmath\u001b[49m\u001b[43m.\u001b[49m\u001b[43msqrt\u001b[49m\u001b[43m(\u001b[49m\u001b[43mnumbers\u001b[49m\u001b[43m)\u001b[49m\n",
      "\u001b[36mFile \u001b[39m\u001b[32m/usr/local/python/3.12.1/lib/python3.12/site-packages/tensorflow/python/ops/weak_tensor_ops.py:88\u001b[39m, in \u001b[36mweak_tensor_unary_op_wrapper.<locals>.wrapper\u001b[39m\u001b[34m(*args, **kwargs)\u001b[39m\n\u001b[32m     86\u001b[39m \u001b[38;5;28;01mdef\u001b[39;00m\u001b[38;5;250m \u001b[39m\u001b[34mwrapper\u001b[39m(*args, **kwargs):\n\u001b[32m     87\u001b[39m   \u001b[38;5;28;01mif\u001b[39;00m \u001b[38;5;129;01mnot\u001b[39;00m ops.is_auto_dtype_conversion_enabled():\n\u001b[32m---> \u001b[39m\u001b[32m88\u001b[39m     \u001b[38;5;28;01mreturn\u001b[39;00m \u001b[43mop\u001b[49m\u001b[43m(\u001b[49m\u001b[43m*\u001b[49m\u001b[43margs\u001b[49m\u001b[43m,\u001b[49m\u001b[43m \u001b[49m\u001b[43m*\u001b[49m\u001b[43m*\u001b[49m\u001b[43mkwargs\u001b[49m\u001b[43m)\u001b[49m\n\u001b[32m     89\u001b[39m   bound_arguments = signature.bind(*args, **kwargs)\n\u001b[32m     90\u001b[39m   bound_arguments.apply_defaults()\n",
      "\u001b[36mFile \u001b[39m\u001b[32m/usr/local/python/3.12.1/lib/python3.12/site-packages/tensorflow/python/util/traceback_utils.py:153\u001b[39m, in \u001b[36mfilter_traceback.<locals>.error_handler\u001b[39m\u001b[34m(*args, **kwargs)\u001b[39m\n\u001b[32m    151\u001b[39m \u001b[38;5;28;01mexcept\u001b[39;00m \u001b[38;5;167;01mException\u001b[39;00m \u001b[38;5;28;01mas\u001b[39;00m e:\n\u001b[32m    152\u001b[39m   filtered_tb = _process_traceback_frames(e.__traceback__)\n\u001b[32m--> \u001b[39m\u001b[32m153\u001b[39m   \u001b[38;5;28;01mraise\u001b[39;00m e.with_traceback(filtered_tb) \u001b[38;5;28;01mfrom\u001b[39;00m\u001b[38;5;250m \u001b[39m\u001b[38;5;28;01mNone\u001b[39;00m\n\u001b[32m    154\u001b[39m \u001b[38;5;28;01mfinally\u001b[39;00m:\n\u001b[32m    155\u001b[39m   \u001b[38;5;28;01mdel\u001b[39;00m filtered_tb\n",
      "\u001b[36mFile \u001b[39m\u001b[32m/usr/local/python/3.12.1/lib/python3.12/site-packages/tensorflow/python/framework/ops.py:6027\u001b[39m, in \u001b[36mraise_from_not_ok_status\u001b[39m\u001b[34m(e, name)\u001b[39m\n\u001b[32m   6025\u001b[39m \u001b[38;5;28;01mdef\u001b[39;00m\u001b[38;5;250m \u001b[39m\u001b[34mraise_from_not_ok_status\u001b[39m(e, name) -> NoReturn:\n\u001b[32m   6026\u001b[39m   e.message += (\u001b[33m\"\u001b[39m\u001b[33m name: \u001b[39m\u001b[33m\"\u001b[39m + \u001b[38;5;28mstr\u001b[39m(name \u001b[38;5;28;01mif\u001b[39;00m name \u001b[38;5;129;01mis\u001b[39;00m \u001b[38;5;129;01mnot\u001b[39;00m \u001b[38;5;28;01mNone\u001b[39;00m \u001b[38;5;28;01melse\u001b[39;00m \u001b[33m\"\u001b[39m\u001b[33m\"\u001b[39m))\n\u001b[32m-> \u001b[39m\u001b[32m6027\u001b[39m   \u001b[38;5;28;01mraise\u001b[39;00m core._status_to_exception(e) \u001b[38;5;28;01mfrom\u001b[39;00m\u001b[38;5;250m \u001b[39m\u001b[38;5;28;01mNone\u001b[39;00m\n",
      "\u001b[31mInvalidArgumentError\u001b[39m: Value for attr 'T' of int32 is not in the list of allowed values: bfloat16, half, float, double, complex64, complex128\n\t; NodeDef: {{node Sqrt}}; Op<name=Sqrt; signature=x:T -> y:T; attr=T:type,allowed=[DT_BFLOAT16, DT_HALF, DT_FLOAT, DT_DOUBLE, DT_COMPLEX64, DT_COMPLEX128]> [Op:Sqrt] name: "
     ]
    }
   ],
   "source": [
    "#squreroot\n",
    "tf.math.sqrt(numbers)"
   ]
  },
  {
   "cell_type": "code",
   "execution_count": 16,
   "id": "f247d6a0",
   "metadata": {},
   "outputs": [
    {
     "data": {
      "text/plain": [
       "<bound method _EagerTensorBase.numpy of <tf.Tensor: shape=(9,), dtype=float32, numpy=\n",
       "array([1.       , 1.4142135, 1.7320508, 2.       , 2.236068 , 2.4494898,\n",
       "       2.6457512, 2.828427 , 3.       ], dtype=float32)>>"
      ]
     },
     "execution_count": 16,
     "metadata": {},
     "output_type": "execute_result"
    }
   ],
   "source": [
    "#squreroot\n",
    "tf.math.sqrt(tf.cast(numbers,dtype=tf.float32)).numpy"
   ]
  },
  {
   "cell_type": "code",
   "execution_count": 18,
   "id": "9ba176b4",
   "metadata": {},
   "outputs": [
    {
     "ename": "InvalidArgumentError",
     "evalue": "Value for attr 'T' of int32 is not in the list of allowed values: bfloat16, half, float, double, complex64, complex128\n\t; NodeDef: {{node Log}}; Op<name=Log; signature=x:T -> y:T; attr=T:type,allowed=[DT_BFLOAT16, DT_HALF, DT_FLOAT, DT_DOUBLE, DT_COMPLEX64, DT_COMPLEX128]> [Op:Log] name: ",
     "output_type": "error",
     "traceback": [
      "\u001b[31m---------------------------------------------------------------------------\u001b[39m",
      "\u001b[31mInvalidArgumentError\u001b[39m                      Traceback (most recent call last)",
      "\u001b[36mCell\u001b[39m\u001b[36m \u001b[39m\u001b[32mIn[18]\u001b[39m\u001b[32m, line 2\u001b[39m\n\u001b[32m      1\u001b[39m \u001b[38;5;66;03m#log\u001b[39;00m\n\u001b[32m----> \u001b[39m\u001b[32m2\u001b[39m \u001b[43mtf\u001b[49m\u001b[43m.\u001b[49m\u001b[43mmath\u001b[49m\u001b[43m.\u001b[49m\u001b[43mlog\u001b[49m\u001b[43m(\u001b[49m\u001b[43mnumbers\u001b[49m\u001b[43m)\u001b[49m\n",
      "\u001b[36mFile \u001b[39m\u001b[32m/usr/local/python/3.12.1/lib/python3.12/site-packages/tensorflow/python/ops/weak_tensor_ops.py:88\u001b[39m, in \u001b[36mweak_tensor_unary_op_wrapper.<locals>.wrapper\u001b[39m\u001b[34m(*args, **kwargs)\u001b[39m\n\u001b[32m     86\u001b[39m \u001b[38;5;28;01mdef\u001b[39;00m\u001b[38;5;250m \u001b[39m\u001b[34mwrapper\u001b[39m(*args, **kwargs):\n\u001b[32m     87\u001b[39m   \u001b[38;5;28;01mif\u001b[39;00m \u001b[38;5;129;01mnot\u001b[39;00m ops.is_auto_dtype_conversion_enabled():\n\u001b[32m---> \u001b[39m\u001b[32m88\u001b[39m     \u001b[38;5;28;01mreturn\u001b[39;00m \u001b[43mop\u001b[49m\u001b[43m(\u001b[49m\u001b[43m*\u001b[49m\u001b[43margs\u001b[49m\u001b[43m,\u001b[49m\u001b[43m \u001b[49m\u001b[43m*\u001b[49m\u001b[43m*\u001b[49m\u001b[43mkwargs\u001b[49m\u001b[43m)\u001b[49m\n\u001b[32m     89\u001b[39m   bound_arguments = signature.bind(*args, **kwargs)\n\u001b[32m     90\u001b[39m   bound_arguments.apply_defaults()\n",
      "\u001b[36mFile \u001b[39m\u001b[32m/usr/local/python/3.12.1/lib/python3.12/site-packages/tensorflow/python/ops/gen_math_ops.py:5681\u001b[39m, in \u001b[36mlog\u001b[39m\u001b[34m(x, name)\u001b[39m\n\u001b[32m   5679\u001b[39m   \u001b[38;5;28;01mreturn\u001b[39;00m _result\n\u001b[32m   5680\u001b[39m \u001b[38;5;28;01mexcept\u001b[39;00m _core._NotOkStatusException \u001b[38;5;28;01mas\u001b[39;00m e:\n\u001b[32m-> \u001b[39m\u001b[32m5681\u001b[39m   \u001b[43m_ops\u001b[49m\u001b[43m.\u001b[49m\u001b[43mraise_from_not_ok_status\u001b[49m\u001b[43m(\u001b[49m\u001b[43me\u001b[49m\u001b[43m,\u001b[49m\u001b[43m \u001b[49m\u001b[43mname\u001b[49m\u001b[43m)\u001b[49m\n\u001b[32m   5682\u001b[39m \u001b[38;5;28;01mexcept\u001b[39;00m _core._FallbackException:\n\u001b[32m   5683\u001b[39m   \u001b[38;5;28;01mpass\u001b[39;00m\n",
      "\u001b[36mFile \u001b[39m\u001b[32m/usr/local/python/3.12.1/lib/python3.12/site-packages/tensorflow/python/framework/ops.py:6027\u001b[39m, in \u001b[36mraise_from_not_ok_status\u001b[39m\u001b[34m(e, name)\u001b[39m\n\u001b[32m   6025\u001b[39m \u001b[38;5;28;01mdef\u001b[39;00m\u001b[38;5;250m \u001b[39m\u001b[34mraise_from_not_ok_status\u001b[39m(e, name) -> NoReturn:\n\u001b[32m   6026\u001b[39m   e.message += (\u001b[33m\"\u001b[39m\u001b[33m name: \u001b[39m\u001b[33m\"\u001b[39m + \u001b[38;5;28mstr\u001b[39m(name \u001b[38;5;28;01mif\u001b[39;00m name \u001b[38;5;129;01mis\u001b[39;00m \u001b[38;5;129;01mnot\u001b[39;00m \u001b[38;5;28;01mNone\u001b[39;00m \u001b[38;5;28;01melse\u001b[39;00m \u001b[33m\"\u001b[39m\u001b[33m\"\u001b[39m))\n\u001b[32m-> \u001b[39m\u001b[32m6027\u001b[39m   \u001b[38;5;28;01mraise\u001b[39;00m core._status_to_exception(e) \u001b[38;5;28;01mfrom\u001b[39;00m\u001b[38;5;250m \u001b[39m\u001b[38;5;28;01mNone\u001b[39;00m\n",
      "\u001b[31mInvalidArgumentError\u001b[39m: Value for attr 'T' of int32 is not in the list of allowed values: bfloat16, half, float, double, complex64, complex128\n\t; NodeDef: {{node Log}}; Op<name=Log; signature=x:T -> y:T; attr=T:type,allowed=[DT_BFLOAT16, DT_HALF, DT_FLOAT, DT_DOUBLE, DT_COMPLEX64, DT_COMPLEX128]> [Op:Log] name: "
     ]
    }
   ],
   "source": [
    "#log\n",
    "tf.math.log(numbers)"
   ]
  },
  {
   "cell_type": "code",
   "execution_count": 19,
   "id": "34072a0f",
   "metadata": {},
   "outputs": [
    {
     "data": {
      "text/plain": [
       "<tf.Tensor: shape=(9,), dtype=float32, numpy=\n",
       "array([0.       , 0.6931472, 1.0986123, 1.3862944, 1.609438 , 1.7917595,\n",
       "       1.9459102, 2.0794415, 2.1972246], dtype=float32)>"
      ]
     },
     "execution_count": 19,
     "metadata": {},
     "output_type": "execute_result"
    }
   ],
   "source": [
    "#logs\n",
    "tf.math.log(tf.cast(numbers,dtype=tf.float32))"
   ]
  },
  {
   "cell_type": "markdown",
   "id": "42ba3b99",
   "metadata": {},
   "source": [
    "### Tensor and Numpy"
   ]
  },
  {
   "cell_type": "code",
   "execution_count": 21,
   "id": "34d9c126",
   "metadata": {},
   "outputs": [
    {
     "data": {
      "text/plain": [
       "<tf.Tensor: shape=(4,), dtype=int64, numpy=array([3, 5, 6, 9])>"
      ]
     },
     "execution_count": 21,
     "metadata": {},
     "output_type": "execute_result"
    }
   ],
   "source": [
    "#create a tensor directly with numpy array\n",
    "import numpy as np\n",
    "tn=tf.constant(np.array([3,5,6,9]))\n",
    "tn"
   ]
  },
  {
   "cell_type": "code",
   "execution_count": 25,
   "id": "ab9ec242",
   "metadata": {},
   "outputs": [
    {
     "name": "stdout",
     "output_type": "stream",
     "text": [
      "[3 5 6 9]\n",
      "<class 'numpy.ndarray'>\n"
     ]
    }
   ],
   "source": [
    "#convert tensor to numpy\n",
    "print(np.array(tn))\n",
    "print(type(np.array(tn)))"
   ]
  },
  {
   "cell_type": "code",
   "execution_count": 27,
   "id": "5438ad6b",
   "metadata": {},
   "outputs": [
    {
     "data": {
      "text/plain": [
       "(array([3, 5, 6, 9]), numpy.ndarray)"
      ]
     },
     "execution_count": 27,
     "metadata": {},
     "output_type": "execute_result"
    }
   ],
   "source": [
    "#convert tensor tn into numpy array\n",
    "tn.numpy(),type(tn.numpy())"
   ]
  },
  {
   "cell_type": "code",
   "execution_count": 28,
   "id": "d178d5fe",
   "metadata": {},
   "outputs": [
    {
     "name": "stdout",
     "output_type": "stream",
     "text": [
      "the dtypes of tensor_from_numpy is: <dtype: 'int64'>\n",
      "the dtypes of tensor_from_tensor is: <dtype: 'int32'>\n"
     ]
    }
   ],
   "source": [
    "#the default types of each are slightly different\n",
    "tensor_from_numpy=tf.constant(np.array([3,6,7,8]))\n",
    "tensor_from_tensor=tf.constant([3,0,8,6])\n",
    "print('the dtypes of tensor_from_numpy is:',tensor_from_numpy.dtype)\n",
    "print('the dtypes of tensor_from_tensor is:',tensor_from_tensor.dtype)"
   ]
  },
  {
   "cell_type": "code",
   "execution_count": null,
   "id": "2c5358bc",
   "metadata": {},
   "outputs": [],
   "source": []
  }
 ],
 "metadata": {
  "kernelspec": {
   "display_name": "Python 3",
   "language": "python",
   "name": "python3"
  },
  "language_info": {
   "codemirror_mode": {
    "name": "ipython",
    "version": 3
   },
   "file_extension": ".py",
   "mimetype": "text/x-python",
   "name": "python",
   "nbconvert_exporter": "python",
   "pygments_lexer": "ipython3",
   "version": "3.12.1"
  }
 },
 "nbformat": 4,
 "nbformat_minor": 5
}
