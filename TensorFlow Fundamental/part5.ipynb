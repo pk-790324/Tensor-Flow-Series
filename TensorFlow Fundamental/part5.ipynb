{
 "cells": [
  {
   "cell_type": "markdown",
   "id": "98f016df",
   "metadata": {},
   "source": [
    "### Changing the dtypes of the tensor"
   ]
  },
  {
   "cell_type": "code",
   "execution_count": 2,
   "id": "79f5451b",
   "metadata": {},
   "outputs": [
    {
     "data": {
      "text/plain": [
       "(<tf.Tensor: shape=(3,), dtype=float32, numpy=array([2.2, 3.6, 6.7], dtype=float32)>,\n",
       " tf.float32)"
      ]
     },
     "execution_count": 2,
     "metadata": {},
     "output_type": "execute_result"
    }
   ],
   "source": [
    "# create a new tensors with default dtypes\n",
    "import tensorflow as tf\n",
    "b=tf.constant([2.2,3.6,6.7])\n",
    "b,b.dtype"
   ]
  },
  {
   "cell_type": "code",
   "execution_count": 4,
   "id": "3a7e8122",
   "metadata": {},
   "outputs": [
    {
     "data": {
      "text/plain": [
       "(<tf.Tensor: shape=(3,), dtype=float16, numpy=array([2.2, 3.6, 6.7], dtype=float16)>,\n",
       " tf.float16)"
      ]
     },
     "execution_count": 4,
     "metadata": {},
     "output_type": "execute_result"
    }
   ],
   "source": [
    "# change from float32 to float16(reduced precision)\n",
    "d=tf.cast(b,dtype=tf.float16)\n",
    "d,d.dtype"
   ]
  },
  {
   "cell_type": "code",
   "execution_count": null,
   "id": "f8de44e9",
   "metadata": {},
   "outputs": [],
   "source": []
  }
 ],
 "metadata": {
  "kernelspec": {
   "display_name": "Python 3",
   "language": "python",
   "name": "python3"
  },
  "language_info": {
   "codemirror_mode": {
    "name": "ipython",
    "version": 3
   },
   "file_extension": ".py",
   "mimetype": "text/x-python",
   "name": "python",
   "nbconvert_exporter": "python",
   "pygments_lexer": "ipython3",
   "version": "3.12.1"
  }
 },
 "nbformat": 4,
 "nbformat_minor": 5
}
