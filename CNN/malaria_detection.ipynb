{
  "nbformat": 4,
  "nbformat_minor": 0,
  "metadata": {
    "colab": {
      "provenance": [],
      "gpuType": "T4",
      "authorship_tag": "ABX9TyNIN0wCynglFlWViOyinoym",
      "include_colab_link": true
    },
    "kernelspec": {
      "name": "python3",
      "display_name": "Python 3"
    },
    "language_info": {
      "name": "python"
    },
    "accelerator": "GPU"
  },
  "cells": [
    {
      "cell_type": "markdown",
      "metadata": {
        "id": "view-in-github",
        "colab_type": "text"
      },
      "source": [
        "<a href=\"https://colab.research.google.com/github/pk-790324/Tensor-Flow-Series/blob/main/CNN/malaria_detection.ipynb\" target=\"_parent\"><img src=\"https://colab.research.google.com/assets/colab-badge.svg\" alt=\"Open In Colab\"/></a>"
      ]
    },
    {
      "cell_type": "code",
      "execution_count": null,
      "metadata": {
        "id": "4iHpK9-ApUjs"
      },
      "outputs": [],
      "source": [
        "import tensorflow as tf\n",
        "import numpy as np\n",
        "import matplotlib.pyplot as plt\n",
        "import tensorflow_datasets as tfds\n",
        "from tensorflow import keras\n",
        "from keras import Sequential\n",
        "from keras.layers import Conv2D,Flatten,MaxPooling2D,Dense"
      ]
    },
    {
      "cell_type": "code",
      "source": [
        "datasets,dataset_info=tfds.load('malaria',with_info=True,as_supervised=True,shuffle_files=True,split=['train'])"
      ],
      "metadata": {
        "id": "sNl6ITj_pxlZ"
      },
      "execution_count": null,
      "outputs": []
    },
    {
      "cell_type": "code",
      "source": [
        "datasets"
      ],
      "metadata": {
        "id": "Q_JVu4m6p9Vu"
      },
      "execution_count": null,
      "outputs": []
    },
    {
      "cell_type": "code",
      "source": [
        "dataset_info"
      ],
      "metadata": {
        "id": "No4PdXfWq1Ll"
      },
      "execution_count": null,
      "outputs": []
    },
    {
      "cell_type": "code",
      "source": [
        "for data in datasets[0].take(2):\n",
        "  print(data)\n"
      ],
      "metadata": {
        "id": "P-phvr2Sqynw"
      },
      "execution_count": null,
      "outputs": []
    },
    {
      "cell_type": "code",
      "source": [
        "#creating a function for train,test,validation\n",
        "def train_test_val_split(datasets,train_ratio,test_ratio,val_ratio):\n",
        "  data_len=len(datasets)\n",
        "  train_data=datasets.take(int(train_ratio*data_len))\n",
        "  test_val_data=datasets.skip(int(train_ratio*data_len))\n",
        "  test_data=test_val_data.take(int(test_ratio*len(test_val_data)))\n",
        "  val_data=test_val_data.skip(int(test_ratio*len(test_val_data)))\n",
        "  return train_data,test_data,val_data"
      ],
      "metadata": {
        "id": "nWfz1E_Pv0MC"
      },
      "execution_count": null,
      "outputs": []
    },
    {
      "cell_type": "code",
      "source": [
        "train_data,test_data,val_data=train_test_val_split(datasets[0],train_ratio=0.7,test_ratio=0.7,val_ratio=0.3)"
      ],
      "metadata": {
        "id": "b8b-Cjw2zoNM"
      },
      "execution_count": null,
      "outputs": []
    },
    {
      "cell_type": "code",
      "source": [
        "len(datasets[0]),len(train_data),len(test_data),len(val_data)"
      ],
      "metadata": {
        "id": "_apN2gwu1-pP"
      },
      "execution_count": null,
      "outputs": []
    },
    {
      "cell_type": "code",
      "source": [
        "print(list(train_data.take(2).as_numpy_iterator()))"
      ],
      "metadata": {
        "id": "LUf8Bxt14X3E"
      },
      "execution_count": null,
      "outputs": []
    },
    {
      "cell_type": "markdown",
      "source": [
        "# Data Visualization"
      ],
      "metadata": {
        "id": "UjOtQban9IDD"
      }
    },
    {
      "cell_type": "code",
      "source": [
        "for i,(image,label) in enumerate(train_data.take(16)):\n",
        "  plt.subplot(4,4,i+1)\n",
        "  plt.imshow(image)\n",
        "  plt.title(dataset_info.features['label'].int2str(label))\n",
        "  plt.axis('off')"
      ],
      "metadata": {
        "id": "U486cqO744vr"
      },
      "execution_count": null,
      "outputs": []
    },
    {
      "cell_type": "markdown",
      "source": [
        "# Data Preprocessing"
      ],
      "metadata": {
        "id": "uPuRQNqx9NCY"
      }
    },
    {
      "cell_type": "code",
      "source": [
        "def img_resize_scale(image,label):\n",
        "  return tf.image.resize(image,(224,224))/255.0,label"
      ],
      "metadata": {
        "id": "vB8yHG9p6uZA"
      },
      "execution_count": null,
      "outputs": []
    },
    {
      "cell_type": "code",
      "source": [
        "train_data=train_data.map(img_resize_scale)\n",
        "test_data=test_data.map(img_resize_scale)\n",
        "val_data=val_data.map(img_resize_scale)"
      ],
      "metadata": {
        "id": "61VbD7lJAQ90"
      },
      "execution_count": null,
      "outputs": []
    },
    {
      "cell_type": "code",
      "source": [
        "for image,label in train_data.take(1):\n",
        "  print(image,label)"
      ],
      "metadata": {
        "id": "6NuBI_gvAbqU"
      },
      "execution_count": null,
      "outputs": []
    },
    {
      "cell_type": "code",
      "source": [
        "train_data=train_data.shuffle(buffer_size=100,reshuffle_each_iteration=True).batch(32).prefetch(tf.data.AUTOTUNE)\n",
        "test_data=test_data.shuffle(buffer_size=100,reshuffle_each_iteration=True).batch(32).prefetch(tf.data.AUTOTUNE)\n",
        "val_data=val_data.shuffle(buffer_size=100,reshuffle_each_iteration=True).batch(32).prefetch(tf.data.AUTOTUNE)"
      ],
      "metadata": {
        "id": "lmX-88dtAjq3"
      },
      "execution_count": null,
      "outputs": []
    },
    {
      "cell_type": "code",
      "source": [
        "model=Sequential()\n",
        "model.add(Conv2D(6,kernel_size=(3,3),strides=(1,1),padding='valid',activation='relu',input_shape=(224,224,3)))\n",
        "tf.keras.layers.BatchNormalization()\n",
        "model.add(MaxPooling2D(pool_size=(2,2),strides=2))\n",
        "model.add(Conv2D(16,kernel_size=(3,3),strides=(1,1),padding='valid',activation='relu'))\n",
        "tf.keras.layers.BatchNormalization()\n",
        "model.add(MaxPooling2D(pool_size=(2,2),strides=2))\n",
        "model.add(Flatten())\n",
        "model.add(Dense(100,activation='relu'))\n",
        "tf.keras.layers.BatchNormalization()\n",
        "model.add(Dense(10,activation='relu'))\n",
        "tf.keras.layers.BatchNormalization()\n",
        "model.add(Dense(1,activation='sigmoid'))"
      ],
      "metadata": {
        "id": "EaqWsrmRHle8"
      },
      "execution_count": null,
      "outputs": []
    },
    {
      "cell_type": "code",
      "source": [
        "model.summary()"
      ],
      "metadata": {
        "id": "-waHAyRaIzd1"
      },
      "execution_count": null,
      "outputs": []
    },
    {
      "cell_type": "code",
      "source": [
        "#compile the model\n",
        "optimizer=tf.keras.optimizers.Adam(learning_rate=0.001)\n",
        "loss=tf.keras.losses.BinaryCrossentropy()\n",
        "metrics=['accuracy']\n",
        "model.compile(optimizer=optimizer,loss=loss,metrics=metrics)"
      ],
      "metadata": {
        "id": "3EklwMq1NxdX"
      },
      "execution_count": null,
      "outputs": []
    },
    {
      "cell_type": "code",
      "source": [
        "history=model.fit(train_data,epochs=5,validation_data=val_data)"
      ],
      "metadata": {
        "id": "HxG_A5erPY89"
      },
      "execution_count": null,
      "outputs": []
    },
    {
      "cell_type": "code",
      "source": [
        "import pandas as pd\n",
        "pd.DataFrame(history.history).plot()\n",
        "plt.xlabel('no of epochs')\n",
        "plt.ylabel('accuracy')\n",
        "plt.title('train and validation data curve')"
      ],
      "metadata": {
        "id": "3jem3P8ZU4XC"
      },
      "execution_count": null,
      "outputs": []
    },
    {
      "cell_type": "markdown",
      "source": [
        "# model evaluation and prediction"
      ],
      "metadata": {
        "id": "xE60nRyn_hHb"
      }
    },
    {
      "cell_type": "code",
      "source": [
        "#model evaluation\n",
        "model.evaluate(test_data)\n"
      ],
      "metadata": {
        "id": "hXg-xE_nVBbd"
      },
      "execution_count": null,
      "outputs": []
    },
    {
      "cell_type": "code",
      "source": [
        "#model prediction\n",
        "model.predict(test_data.take(1))[0][0]"
      ],
      "metadata": {
        "id": "TLeY_AYJ_oPV"
      },
      "execution_count": null,
      "outputs": []
    },
    {
      "cell_type": "code",
      "source": [
        "def parasite_or_not(x):\n",
        "  if x<0.5:\n",
        "    return str('P')\n",
        "  else:\n",
        "    return str('U')"
      ],
      "metadata": {
        "id": "CdUhMAGx_6mh"
      },
      "execution_count": null,
      "outputs": []
    },
    {
      "cell_type": "code",
      "source": [
        "parasite_or_not(model.predict(test_data.take(1))[0][0])"
      ],
      "metadata": {
        "id": "GDw-Lz8wBGDd"
      },
      "execution_count": null,
      "outputs": []
    },
    {
      "cell_type": "code",
      "source": [
        "for i,(image,label) in enumerate(test_data.take(25)):\n",
        "  plt.subplot(5,5,i+1)\n",
        "  plt.imshow(image[0])\n",
        "  plt.title(str(parasite_or_not(label.numpy()[0]))+ ':' + str (parasite_or_not(model.predict(image)[0][0])))\n",
        "  plt.axis('off')"
      ],
      "metadata": {
        "id": "FhOS2KX6BUw_"
      },
      "execution_count": null,
      "outputs": []
    },
    {
      "cell_type": "markdown",
      "source": [
        "#Create functional api"
      ],
      "metadata": {
        "id": "ciOFi0K5B4qO"
      }
    },
    {
      "cell_type": "code",
      "source": [
        "from tensorflow.keras.models import Model\n",
        "from tensorflow.keras.layers import *"
      ],
      "metadata": {
        "id": "VA2Z0rDFB31l"
      },
      "execution_count": null,
      "outputs": []
    },
    {
      "cell_type": "code",
      "source": [
        "funct_input=Input(shape=(224,224,3))\n",
        "x=Conv2D(6,kernel_size=(3,3),strides=(1,1),padding='valid',activation='relu',)(funct_input)\n",
        "x=BatchNormalization()(x)\n",
        "x=MaxPooling2D(pool_size=(2,2),strides=(2,2))(x)\n",
        "\n",
        "x=Conv2D(16,kernel_size=(3,3),strides=(1,1),padding='valid',activation='relu',)(funct_input)\n",
        "x=BatchNormalization()(x)\n",
        "x=MaxPooling2D(pool_size=(2,2),strides=(2,2))(x)\n",
        "\n",
        "x=Flatten()(x)\n",
        "\n",
        "x=Dense(100,activation='relu')(x)\n",
        "x=BatchNormalization()(x)\n",
        "x=Dense(100,activation='relu')(x)\n",
        "x=BatchNormalization()(x)\n",
        "output=Dense(1,activation='sigmoid')(x)\n"
      ],
      "metadata": {
        "id": "WUhtvTLaDMZE"
      },
      "execution_count": null,
      "outputs": []
    },
    {
      "cell_type": "code",
      "source": [
        "model_function_api=Model(inputs=funct_input,outputs=[output])"
      ],
      "metadata": {
        "id": "y6nHiEspHGYz"
      },
      "execution_count": null,
      "outputs": []
    },
    {
      "cell_type": "code",
      "source": [
        "model_function_api.summary()"
      ],
      "metadata": {
        "id": "88wwb9kZHSlV"
      },
      "execution_count": null,
      "outputs": []
    },
    {
      "cell_type": "code",
      "source": [
        "#compile the model\n",
        "optimizer=tf.keras.optimizers.Adam(learning_rate=0.001)\n",
        "loss=tf.keras.losses.BinaryCrossentropy()\n",
        "metrics=['accuracy']\n",
        "model_function_api.compile(optimizer=optimizer,loss=loss,metrics=metrics)"
      ],
      "metadata": {
        "id": "97fxHEDSHTyJ"
      },
      "execution_count": null,
      "outputs": []
    },
    {
      "cell_type": "code",
      "source": [
        "history_function_api=model_function_api.fit(train_data,epochs=5,validation_data=val_data)"
      ],
      "metadata": {
        "id": "QZyKSaEAH_Ng"
      },
      "execution_count": null,
      "outputs": []
    },
    {
      "cell_type": "code",
      "source": [
        "import pandas as pd\n",
        "pd.DataFrame(history_function_api.history).plot()\n",
        "plt.xlabel('no of epochs')\n",
        "plt.ylabel('accuracy')\n",
        "plt.title('train and validation data curve')"
      ],
      "metadata": {
        "id": "AoUf2nbJIKpr"
      },
      "execution_count": null,
      "outputs": []
    },
    {
      "cell_type": "markdown",
      "source": [
        "#Model evaluatin and prediction"
      ],
      "metadata": {
        "id": "dLb9TeCLIXBi"
      }
    },
    {
      "cell_type": "code",
      "source": [
        "model_function_api.evaluate(test_data)"
      ],
      "metadata": {
        "id": "kBE5vZTEIWOB"
      },
      "execution_count": null,
      "outputs": []
    },
    {
      "cell_type": "code",
      "source": [
        "#model prediction\n",
        "model.predict(test_data.take(1))[0][0]"
      ],
      "metadata": {
        "id": "f1nbzlnzIoqO"
      },
      "execution_count": null,
      "outputs": []
    },
    {
      "cell_type": "code",
      "source": [
        "def parasite_or_not(x):\n",
        "  if x<0.5:\n",
        "    return str('P')\n",
        "  else:\n",
        "    return str('U')"
      ],
      "metadata": {
        "id": "1up8llNgIuKJ"
      },
      "execution_count": null,
      "outputs": []
    },
    {
      "cell_type": "code",
      "source": [
        "for i,(image,label) in enumerate(test_data.take(25)):\n",
        "  plt.subplot(5,5,i+1)\n",
        "  plt.imshow(image[0])\n",
        "  plt.title(str(parasite_or_not(label.numpy()[0]))+ ':' + str (parasite_or_not(model.predict(image)[0][0])))\n",
        "  plt.axis('off')"
      ],
      "metadata": {
        "id": "5E_BBMD2IyAY"
      },
      "execution_count": null,
      "outputs": []
    }
  ]
}