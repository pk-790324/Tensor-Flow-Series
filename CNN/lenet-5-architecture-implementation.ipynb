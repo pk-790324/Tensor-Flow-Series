{
 "cells": [
  {
   "cell_type": "code",
   "execution_count": 1,
   "id": "60a4b47f",
   "metadata": {
    "_cell_guid": "b1076dfc-b9ad-4769-8c92-a6c4dae69d19",
    "_uuid": "8f2839f25d086af736a60e9eeb907d3b93b6e0e5",
    "execution": {
     "iopub.execute_input": "2025-10-18T12:16:36.816422Z",
     "iopub.status.busy": "2025-10-18T12:16:36.816205Z",
     "iopub.status.idle": "2025-10-18T12:16:38.281553Z",
     "shell.execute_reply": "2025-10-18T12:16:38.280767Z"
    },
    "papermill": {
     "duration": 1.470993,
     "end_time": "2025-10-18T12:16:38.283157",
     "exception": false,
     "start_time": "2025-10-18T12:16:36.812164",
     "status": "completed"
    },
    "tags": []
   },
   "outputs": [],
   "source": [
    "# This Python 3 environment comes with many helpful analytics libraries installed\n",
    "# It is defined by the kaggle/python Docker image: https://github.com/kaggle/docker-python\n",
    "# For example, here's several helpful packages to load\n",
    "\n",
    "import numpy as np # linear algebra\n",
    "import pandas as pd # data processing, CSV file I/O (e.g. pd.read_csv)\n",
    "\n",
    "# Input data files are available in the read-only \"../input/\" directory\n",
    "# For example, running this (by clicking run or pressing Shift+Enter) will list all files under the input directory\n",
    "\n",
    "import os\n",
    "for dirname, _, filenames in os.walk('/kaggle/input'):\n",
    "    for filename in filenames:\n",
    "        print(os.path.join(dirname, filename))\n",
    "\n",
    "# You can write up to 20GB to the current directory (/kaggle/working/) that gets preserved as output when you create a version using \"Save & Run All\" \n",
    "# You can also write temporary files to /kaggle/temp/, but they won't be saved outside of the current session"
   ]
  },
  {
   "cell_type": "code",
   "execution_count": 2,
   "id": "2d9af1dd",
   "metadata": {
    "execution": {
     "iopub.execute_input": "2025-10-18T12:16:38.290041Z",
     "iopub.status.busy": "2025-10-18T12:16:38.289689Z",
     "iopub.status.idle": "2025-10-18T12:16:53.716992Z",
     "shell.execute_reply": "2025-10-18T12:16:53.716362Z"
    },
    "papermill": {
     "duration": 15.43216,
     "end_time": "2025-10-18T12:16:53.718319",
     "exception": false,
     "start_time": "2025-10-18T12:16:38.286159",
     "status": "completed"
    },
    "tags": []
   },
   "outputs": [
    {
     "name": "stderr",
     "output_type": "stream",
     "text": [
      "2025-10-18 12:16:40.349040: E external/local_xla/xla/stream_executor/cuda/cuda_fft.cc:477] Unable to register cuFFT factory: Attempting to register factory for plugin cuFFT when one has already been registered\n",
      "WARNING: All log messages before absl::InitializeLog() is called are written to STDERR\n",
      "E0000 00:00:1760789800.629863      19 cuda_dnn.cc:8310] Unable to register cuDNN factory: Attempting to register factory for plugin cuDNN when one has already been registered\n",
      "E0000 00:00:1760789800.700801      19 cuda_blas.cc:1418] Unable to register cuBLAS factory: Attempting to register factory for plugin cuBLAS when one has already been registered\n"
     ]
    }
   ],
   "source": [
    "import tensorflow as tf\n",
    "from tensorflow import keras \n",
    "from keras.layers import Dense,Conv2D,MaxPooling2D,Flatten,AveragePooling2D\n",
    "from keras import Sequential\n",
    "from keras.datasets import mnist\n",
    "import matplotlib.pyplot as plt"
   ]
  },
  {
   "cell_type": "code",
   "execution_count": 3,
   "id": "b990d094",
   "metadata": {
    "execution": {
     "iopub.execute_input": "2025-10-18T12:16:53.725314Z",
     "iopub.status.busy": "2025-10-18T12:16:53.724624Z",
     "iopub.status.idle": "2025-10-18T12:16:54.102671Z",
     "shell.execute_reply": "2025-10-18T12:16:54.101960Z"
    },
    "papermill": {
     "duration": 0.382831,
     "end_time": "2025-10-18T12:16:54.104138",
     "exception": false,
     "start_time": "2025-10-18T12:16:53.721307",
     "status": "completed"
    },
    "tags": []
   },
   "outputs": [
    {
     "name": "stdout",
     "output_type": "stream",
     "text": [
      "Downloading data from https://storage.googleapis.com/tensorflow/tf-keras-datasets/mnist.npz\n",
      "\u001b[1m11490434/11490434\u001b[0m \u001b[32m━━━━━━━━━━━━━━━━━━━━\u001b[0m\u001b[37m\u001b[0m \u001b[1m0s\u001b[0m 0us/step\n"
     ]
    }
   ],
   "source": [
    "(X_train,y_train),(X_test,y_test)=mnist.load_data()"
   ]
  },
  {
   "cell_type": "code",
   "execution_count": 4,
   "id": "3b49a922",
   "metadata": {
    "execution": {
     "iopub.execute_input": "2025-10-18T12:16:54.111255Z",
     "iopub.status.busy": "2025-10-18T12:16:54.110619Z",
     "iopub.status.idle": "2025-10-18T12:16:54.115952Z",
     "shell.execute_reply": "2025-10-18T12:16:54.115376Z"
    },
    "papermill": {
     "duration": 0.009764,
     "end_time": "2025-10-18T12:16:54.117022",
     "exception": false,
     "start_time": "2025-10-18T12:16:54.107258",
     "status": "completed"
    },
    "tags": []
   },
   "outputs": [
    {
     "data": {
      "text/plain": [
       "((60000, 28, 28), (60000,), (10000, 28, 28), (10000,))"
      ]
     },
     "execution_count": 4,
     "metadata": {},
     "output_type": "execute_result"
    }
   ],
   "source": [
    "X_train.shape,y_train.shape,X_test.shape,y_test.shape"
   ]
  },
  {
   "cell_type": "code",
   "execution_count": 5,
   "id": "2aaf9a6d",
   "metadata": {
    "execution": {
     "iopub.execute_input": "2025-10-18T12:16:54.123514Z",
     "iopub.status.busy": "2025-10-18T12:16:54.123301Z",
     "iopub.status.idle": "2025-10-18T12:16:54.134286Z",
     "shell.execute_reply": "2025-10-18T12:16:54.133722Z"
    },
    "papermill": {
     "duration": 0.015449,
     "end_time": "2025-10-18T12:16:54.135373",
     "exception": false,
     "start_time": "2025-10-18T12:16:54.119924",
     "status": "completed"
    },
    "tags": []
   },
   "outputs": [
    {
     "data": {
      "text/plain": [
       "(255, 9, 0, 0)"
      ]
     },
     "execution_count": 5,
     "metadata": {},
     "output_type": "execute_result"
    }
   ],
   "source": [
    "# data scaling\n",
    "X_train.max(),y_train.max(),X_train.min(),y_train.min()"
   ]
  },
  {
   "cell_type": "code",
   "execution_count": 6,
   "id": "65ad7ed9",
   "metadata": {
    "execution": {
     "iopub.execute_input": "2025-10-18T12:16:54.142009Z",
     "iopub.status.busy": "2025-10-18T12:16:54.141569Z",
     "iopub.status.idle": "2025-10-18T12:16:55.391688Z",
     "shell.execute_reply": "2025-10-18T12:16:55.390725Z"
    },
    "papermill": {
     "duration": 1.255099,
     "end_time": "2025-10-18T12:16:55.393348",
     "exception": false,
     "start_time": "2025-10-18T12:16:54.138249",
     "status": "completed"
    },
    "tags": []
   },
   "outputs": [
    {
     "name": "stderr",
     "output_type": "stream",
     "text": [
      "I0000 00:00:1760789815.351714      19 gpu_device.cc:2022] Created device /job:localhost/replica:0/task:0/device:GPU:0 with 13942 MB memory:  -> device: 0, name: Tesla T4, pci bus id: 0000:00:04.0, compute capability: 7.5\n",
      "I0000 00:00:1760789815.352423      19 gpu_device.cc:2022] Created device /job:localhost/replica:0/task:0/device:GPU:1 with 13942 MB memory:  -> device: 1, name: Tesla T4, pci bus id: 0000:00:05.0, compute capability: 7.5\n"
     ]
    }
   ],
   "source": [
    "#reshaping into(28,28,1) and scaling of data \n",
    "X_train_scaled=X_train.reshape(-1,28,28,1).astype('float32')/X_train.max()\n",
    "X_test_scaled=X_test.reshape(-1,28,28,1).astype('float32')/X_test.max()\n",
    "#reshaping into(32,32,1)\n",
    "X_train_scaled=np.pad(X_train_scaled,((0,0),(2,2),(2,2),(0,0)),'constant')\n",
    "X_test_scaled=np.pad(X_test_scaled,((0,0),(2,2),(2,2),(0,0)),'constant')\n",
    "#one hot encoding of y_train and y_test data\n",
    "y_train_onehot=tf.one_hot(y_train,depth=10)\n",
    "y_test_onehot=tf.one_hot(y_test,depth=10)"
   ]
  },
  {
   "cell_type": "code",
   "execution_count": 7,
   "id": "afead619",
   "metadata": {
    "execution": {
     "iopub.execute_input": "2025-10-18T12:16:55.400369Z",
     "iopub.status.busy": "2025-10-18T12:16:55.400172Z",
     "iopub.status.idle": "2025-10-18T12:16:55.404879Z",
     "shell.execute_reply": "2025-10-18T12:16:55.404223Z"
    },
    "papermill": {
     "duration": 0.009343,
     "end_time": "2025-10-18T12:16:55.405927",
     "exception": false,
     "start_time": "2025-10-18T12:16:55.396584",
     "status": "completed"
    },
    "tags": []
   },
   "outputs": [
    {
     "data": {
      "text/plain": [
       "((60000, 32, 32, 1), (10000, 32, 32, 1))"
      ]
     },
     "execution_count": 7,
     "metadata": {},
     "output_type": "execute_result"
    }
   ],
   "source": [
    "X_train_scaled.shape,X_test_scaled.shape"
   ]
  },
  {
   "cell_type": "code",
   "execution_count": 8,
   "id": "7dccb1fb",
   "metadata": {
    "execution": {
     "iopub.execute_input": "2025-10-18T12:16:55.412860Z",
     "iopub.status.busy": "2025-10-18T12:16:55.412638Z",
     "iopub.status.idle": "2025-10-18T12:16:55.520916Z",
     "shell.execute_reply": "2025-10-18T12:16:55.520279Z"
    },
    "papermill": {
     "duration": 0.112907,
     "end_time": "2025-10-18T12:16:55.522005",
     "exception": false,
     "start_time": "2025-10-18T12:16:55.409098",
     "status": "completed"
    },
    "tags": []
   },
   "outputs": [
    {
     "data": {
      "text/plain": [
       "(1.0, 0.0, 1.0, 0.0)"
      ]
     },
     "execution_count": 8,
     "metadata": {},
     "output_type": "execute_result"
    }
   ],
   "source": [
    "X_train_scaled.max(),X_train_scaled.min(),X_test_scaled.max(),X_test_scaled.min()"
   ]
  },
  {
   "cell_type": "markdown",
   "id": "4729a7e4",
   "metadata": {
    "papermill": {
     "duration": 0.00279,
     "end_time": "2025-10-18T12:16:55.528015",
     "exception": false,
     "start_time": "2025-10-18T12:16:55.525225",
     "status": "completed"
    },
    "tags": []
   },
   "source": [
    "# Define LeNet-5 model"
   ]
  },
  {
   "cell_type": "code",
   "execution_count": 9,
   "id": "a39c5606",
   "metadata": {
    "execution": {
     "iopub.execute_input": "2025-10-18T12:16:55.534615Z",
     "iopub.status.busy": "2025-10-18T12:16:55.534416Z",
     "iopub.status.idle": "2025-10-18T12:16:56.880021Z",
     "shell.execute_reply": "2025-10-18T12:16:56.879189Z"
    },
    "papermill": {
     "duration": 1.350538,
     "end_time": "2025-10-18T12:16:56.881418",
     "exception": false,
     "start_time": "2025-10-18T12:16:55.530880",
     "status": "completed"
    },
    "tags": []
   },
   "outputs": [
    {
     "name": "stderr",
     "output_type": "stream",
     "text": [
      "/usr/local/lib/python3.11/dist-packages/keras/src/layers/convolutional/base_conv.py:107: UserWarning: Do not pass an `input_shape`/`input_dim` argument to a layer. When using Sequential models, prefer using an `Input(shape)` object as the first layer in the model instead.\n",
      "  super().__init__(activity_regularizer=activity_regularizer, **kwargs)\n"
     ]
    }
   ],
   "source": [
    "model=Sequential()\n",
    "#c1 convolution layer\n",
    "model.add(Conv2D(6,kernel_size=(5,5),padding='valid',activation='tanh',input_shape=(32,32,1)))\n",
    "# s2 subsampling layer\n",
    "model.add(AveragePooling2D(pool_size=(2,2),strides=2,padding='valid'))\n",
    "# c3 convolution layer\n",
    "model.add(Conv2D(16,kernel_size=(5,5),padding='valid',activation='tanh'))\n",
    "# s4 subsampling layer\n",
    "model.add(AveragePooling2D(pool_size=(2,2),strides=2,padding='valid'))\n",
    "\n",
    "model.add(Flatten())\n",
    "model.add(Dense(120,activation='tanh'))\n",
    "model.add(Dense(84,activation='tanh'))\n",
    "model.add(Dense(10,activation='softmax'))"
   ]
  },
  {
   "cell_type": "code",
   "execution_count": 10,
   "id": "5077a006",
   "metadata": {
    "execution": {
     "iopub.execute_input": "2025-10-18T12:16:56.888856Z",
     "iopub.status.busy": "2025-10-18T12:16:56.888437Z",
     "iopub.status.idle": "2025-10-18T12:16:56.903106Z",
     "shell.execute_reply": "2025-10-18T12:16:56.902488Z"
    },
    "papermill": {
     "duration": 0.019354,
     "end_time": "2025-10-18T12:16:56.904177",
     "exception": false,
     "start_time": "2025-10-18T12:16:56.884823",
     "status": "completed"
    },
    "tags": []
   },
   "outputs": [
    {
     "data": {
      "text/html": [
       "<pre style=\"white-space:pre;overflow-x:auto;line-height:normal;font-family:Menlo,'DejaVu Sans Mono',consolas,'Courier New',monospace\"><span style=\"font-weight: bold\">Model: \"sequential\"</span>\n",
       "</pre>\n"
      ],
      "text/plain": [
       "\u001b[1mModel: \"sequential\"\u001b[0m\n"
      ]
     },
     "metadata": {},
     "output_type": "display_data"
    },
    {
     "data": {
      "text/html": [
       "<pre style=\"white-space:pre;overflow-x:auto;line-height:normal;font-family:Menlo,'DejaVu Sans Mono',consolas,'Courier New',monospace\">┏━━━━━━━━━━━━━━━━━━━━━━━━━━━━━━━━━┳━━━━━━━━━━━━━━━━━━━━━━━━┳━━━━━━━━━━━━━━━┓\n",
       "┃<span style=\"font-weight: bold\"> Layer (type)                    </span>┃<span style=\"font-weight: bold\"> Output Shape           </span>┃<span style=\"font-weight: bold\">       Param # </span>┃\n",
       "┡━━━━━━━━━━━━━━━━━━━━━━━━━━━━━━━━━╇━━━━━━━━━━━━━━━━━━━━━━━━╇━━━━━━━━━━━━━━━┩\n",
       "│ conv2d (<span style=\"color: #0087ff; text-decoration-color: #0087ff\">Conv2D</span>)                 │ (<span style=\"color: #00d7ff; text-decoration-color: #00d7ff\">None</span>, <span style=\"color: #00af00; text-decoration-color: #00af00\">28</span>, <span style=\"color: #00af00; text-decoration-color: #00af00\">28</span>, <span style=\"color: #00af00; text-decoration-color: #00af00\">6</span>)      │           <span style=\"color: #00af00; text-decoration-color: #00af00\">156</span> │\n",
       "├─────────────────────────────────┼────────────────────────┼───────────────┤\n",
       "│ average_pooling2d               │ (<span style=\"color: #00d7ff; text-decoration-color: #00d7ff\">None</span>, <span style=\"color: #00af00; text-decoration-color: #00af00\">14</span>, <span style=\"color: #00af00; text-decoration-color: #00af00\">14</span>, <span style=\"color: #00af00; text-decoration-color: #00af00\">6</span>)      │             <span style=\"color: #00af00; text-decoration-color: #00af00\">0</span> │\n",
       "│ (<span style=\"color: #0087ff; text-decoration-color: #0087ff\">AveragePooling2D</span>)              │                        │               │\n",
       "├─────────────────────────────────┼────────────────────────┼───────────────┤\n",
       "│ conv2d_1 (<span style=\"color: #0087ff; text-decoration-color: #0087ff\">Conv2D</span>)               │ (<span style=\"color: #00d7ff; text-decoration-color: #00d7ff\">None</span>, <span style=\"color: #00af00; text-decoration-color: #00af00\">10</span>, <span style=\"color: #00af00; text-decoration-color: #00af00\">10</span>, <span style=\"color: #00af00; text-decoration-color: #00af00\">16</span>)     │         <span style=\"color: #00af00; text-decoration-color: #00af00\">2,416</span> │\n",
       "├─────────────────────────────────┼────────────────────────┼───────────────┤\n",
       "│ average_pooling2d_1             │ (<span style=\"color: #00d7ff; text-decoration-color: #00d7ff\">None</span>, <span style=\"color: #00af00; text-decoration-color: #00af00\">5</span>, <span style=\"color: #00af00; text-decoration-color: #00af00\">5</span>, <span style=\"color: #00af00; text-decoration-color: #00af00\">16</span>)       │             <span style=\"color: #00af00; text-decoration-color: #00af00\">0</span> │\n",
       "│ (<span style=\"color: #0087ff; text-decoration-color: #0087ff\">AveragePooling2D</span>)              │                        │               │\n",
       "├─────────────────────────────────┼────────────────────────┼───────────────┤\n",
       "│ flatten (<span style=\"color: #0087ff; text-decoration-color: #0087ff\">Flatten</span>)               │ (<span style=\"color: #00d7ff; text-decoration-color: #00d7ff\">None</span>, <span style=\"color: #00af00; text-decoration-color: #00af00\">400</span>)            │             <span style=\"color: #00af00; text-decoration-color: #00af00\">0</span> │\n",
       "├─────────────────────────────────┼────────────────────────┼───────────────┤\n",
       "│ dense (<span style=\"color: #0087ff; text-decoration-color: #0087ff\">Dense</span>)                   │ (<span style=\"color: #00d7ff; text-decoration-color: #00d7ff\">None</span>, <span style=\"color: #00af00; text-decoration-color: #00af00\">120</span>)            │        <span style=\"color: #00af00; text-decoration-color: #00af00\">48,120</span> │\n",
       "├─────────────────────────────────┼────────────────────────┼───────────────┤\n",
       "│ dense_1 (<span style=\"color: #0087ff; text-decoration-color: #0087ff\">Dense</span>)                 │ (<span style=\"color: #00d7ff; text-decoration-color: #00d7ff\">None</span>, <span style=\"color: #00af00; text-decoration-color: #00af00\">84</span>)             │        <span style=\"color: #00af00; text-decoration-color: #00af00\">10,164</span> │\n",
       "├─────────────────────────────────┼────────────────────────┼───────────────┤\n",
       "│ dense_2 (<span style=\"color: #0087ff; text-decoration-color: #0087ff\">Dense</span>)                 │ (<span style=\"color: #00d7ff; text-decoration-color: #00d7ff\">None</span>, <span style=\"color: #00af00; text-decoration-color: #00af00\">10</span>)             │           <span style=\"color: #00af00; text-decoration-color: #00af00\">850</span> │\n",
       "└─────────────────────────────────┴────────────────────────┴───────────────┘\n",
       "</pre>\n"
      ],
      "text/plain": [
       "┏━━━━━━━━━━━━━━━━━━━━━━━━━━━━━━━━━┳━━━━━━━━━━━━━━━━━━━━━━━━┳━━━━━━━━━━━━━━━┓\n",
       "┃\u001b[1m \u001b[0m\u001b[1mLayer (type)                   \u001b[0m\u001b[1m \u001b[0m┃\u001b[1m \u001b[0m\u001b[1mOutput Shape          \u001b[0m\u001b[1m \u001b[0m┃\u001b[1m \u001b[0m\u001b[1m      Param #\u001b[0m\u001b[1m \u001b[0m┃\n",
       "┡━━━━━━━━━━━━━━━━━━━━━━━━━━━━━━━━━╇━━━━━━━━━━━━━━━━━━━━━━━━╇━━━━━━━━━━━━━━━┩\n",
       "│ conv2d (\u001b[38;5;33mConv2D\u001b[0m)                 │ (\u001b[38;5;45mNone\u001b[0m, \u001b[38;5;34m28\u001b[0m, \u001b[38;5;34m28\u001b[0m, \u001b[38;5;34m6\u001b[0m)      │           \u001b[38;5;34m156\u001b[0m │\n",
       "├─────────────────────────────────┼────────────────────────┼───────────────┤\n",
       "│ average_pooling2d               │ (\u001b[38;5;45mNone\u001b[0m, \u001b[38;5;34m14\u001b[0m, \u001b[38;5;34m14\u001b[0m, \u001b[38;5;34m6\u001b[0m)      │             \u001b[38;5;34m0\u001b[0m │\n",
       "│ (\u001b[38;5;33mAveragePooling2D\u001b[0m)              │                        │               │\n",
       "├─────────────────────────────────┼────────────────────────┼───────────────┤\n",
       "│ conv2d_1 (\u001b[38;5;33mConv2D\u001b[0m)               │ (\u001b[38;5;45mNone\u001b[0m, \u001b[38;5;34m10\u001b[0m, \u001b[38;5;34m10\u001b[0m, \u001b[38;5;34m16\u001b[0m)     │         \u001b[38;5;34m2,416\u001b[0m │\n",
       "├─────────────────────────────────┼────────────────────────┼───────────────┤\n",
       "│ average_pooling2d_1             │ (\u001b[38;5;45mNone\u001b[0m, \u001b[38;5;34m5\u001b[0m, \u001b[38;5;34m5\u001b[0m, \u001b[38;5;34m16\u001b[0m)       │             \u001b[38;5;34m0\u001b[0m │\n",
       "│ (\u001b[38;5;33mAveragePooling2D\u001b[0m)              │                        │               │\n",
       "├─────────────────────────────────┼────────────────────────┼───────────────┤\n",
       "│ flatten (\u001b[38;5;33mFlatten\u001b[0m)               │ (\u001b[38;5;45mNone\u001b[0m, \u001b[38;5;34m400\u001b[0m)            │             \u001b[38;5;34m0\u001b[0m │\n",
       "├─────────────────────────────────┼────────────────────────┼───────────────┤\n",
       "│ dense (\u001b[38;5;33mDense\u001b[0m)                   │ (\u001b[38;5;45mNone\u001b[0m, \u001b[38;5;34m120\u001b[0m)            │        \u001b[38;5;34m48,120\u001b[0m │\n",
       "├─────────────────────────────────┼────────────────────────┼───────────────┤\n",
       "│ dense_1 (\u001b[38;5;33mDense\u001b[0m)                 │ (\u001b[38;5;45mNone\u001b[0m, \u001b[38;5;34m84\u001b[0m)             │        \u001b[38;5;34m10,164\u001b[0m │\n",
       "├─────────────────────────────────┼────────────────────────┼───────────────┤\n",
       "│ dense_2 (\u001b[38;5;33mDense\u001b[0m)                 │ (\u001b[38;5;45mNone\u001b[0m, \u001b[38;5;34m10\u001b[0m)             │           \u001b[38;5;34m850\u001b[0m │\n",
       "└─────────────────────────────────┴────────────────────────┴───────────────┘\n"
      ]
     },
     "metadata": {},
     "output_type": "display_data"
    },
    {
     "data": {
      "text/html": [
       "<pre style=\"white-space:pre;overflow-x:auto;line-height:normal;font-family:Menlo,'DejaVu Sans Mono',consolas,'Courier New',monospace\"><span style=\"font-weight: bold\"> Total params: </span><span style=\"color: #00af00; text-decoration-color: #00af00\">61,706</span> (241.04 KB)\n",
       "</pre>\n"
      ],
      "text/plain": [
       "\u001b[1m Total params: \u001b[0m\u001b[38;5;34m61,706\u001b[0m (241.04 KB)\n"
      ]
     },
     "metadata": {},
     "output_type": "display_data"
    },
    {
     "data": {
      "text/html": [
       "<pre style=\"white-space:pre;overflow-x:auto;line-height:normal;font-family:Menlo,'DejaVu Sans Mono',consolas,'Courier New',monospace\"><span style=\"font-weight: bold\"> Trainable params: </span><span style=\"color: #00af00; text-decoration-color: #00af00\">61,706</span> (241.04 KB)\n",
       "</pre>\n"
      ],
      "text/plain": [
       "\u001b[1m Trainable params: \u001b[0m\u001b[38;5;34m61,706\u001b[0m (241.04 KB)\n"
      ]
     },
     "metadata": {},
     "output_type": "display_data"
    },
    {
     "data": {
      "text/html": [
       "<pre style=\"white-space:pre;overflow-x:auto;line-height:normal;font-family:Menlo,'DejaVu Sans Mono',consolas,'Courier New',monospace\"><span style=\"font-weight: bold\"> Non-trainable params: </span><span style=\"color: #00af00; text-decoration-color: #00af00\">0</span> (0.00 B)\n",
       "</pre>\n"
      ],
      "text/plain": [
       "\u001b[1m Non-trainable params: \u001b[0m\u001b[38;5;34m0\u001b[0m (0.00 B)\n"
      ]
     },
     "metadata": {},
     "output_type": "display_data"
    }
   ],
   "source": [
    "model.summary()"
   ]
  },
  {
   "cell_type": "code",
   "execution_count": 11,
   "id": "b1079b85",
   "metadata": {
    "execution": {
     "iopub.execute_input": "2025-10-18T12:16:56.911849Z",
     "iopub.status.busy": "2025-10-18T12:16:56.911631Z",
     "iopub.status.idle": "2025-10-18T12:17:24.127624Z",
     "shell.execute_reply": "2025-10-18T12:17:24.127058Z"
    },
    "papermill": {
     "duration": 27.221203,
     "end_time": "2025-10-18T12:17:24.128915",
     "exception": false,
     "start_time": "2025-10-18T12:16:56.907712",
     "status": "completed"
    },
    "tags": []
   },
   "outputs": [
    {
     "name": "stdout",
     "output_type": "stream",
     "text": [
      "Epoch 1/100\n"
     ]
    },
    {
     "name": "stderr",
     "output_type": "stream",
     "text": [
      "WARNING: All log messages before absl::InitializeLog() is called are written to STDERR\n",
      "I0000 00:00:1760789819.872763      59 service.cc:148] XLA service 0x79c080006060 initialized for platform CUDA (this does not guarantee that XLA will be used). Devices:\n",
      "I0000 00:00:1760789819.873859      59 service.cc:156]   StreamExecutor device (0): Tesla T4, Compute Capability 7.5\n",
      "I0000 00:00:1760789819.873877      59 service.cc:156]   StreamExecutor device (1): Tesla T4, Compute Capability 7.5\n",
      "I0000 00:00:1760789820.166047      59 cuda_dnn.cc:529] Loaded cuDNN version 90300\n"
     ]
    },
    {
     "name": "stdout",
     "output_type": "stream",
     "text": [
      "\u001b[1m 62/469\u001b[0m \u001b[32m━━\u001b[0m\u001b[37m━━━━━━━━━━━━━━━━━━\u001b[0m \u001b[1m1s\u001b[0m 3ms/step - accuracy: 0.6070 - loss: 1.4028"
     ]
    },
    {
     "name": "stderr",
     "output_type": "stream",
     "text": [
      "I0000 00:00:1760789822.620907      59 device_compiler.h:188] Compiled cluster using XLA!  This line is logged at most once for the lifetime of the process.\n"
     ]
    },
    {
     "name": "stdout",
     "output_type": "stream",
     "text": [
      "\u001b[1m469/469\u001b[0m \u001b[32m━━━━━━━━━━━━━━━━━━━━\u001b[0m\u001b[37m\u001b[0m \u001b[1m9s\u001b[0m 9ms/step - accuracy: 0.8315 - loss: 0.5989 - val_accuracy: 0.9550 - val_loss: 0.1495\n",
      "Epoch 2/100\n",
      "\u001b[1m469/469\u001b[0m \u001b[32m━━━━━━━━━━━━━━━━━━━━\u001b[0m\u001b[37m\u001b[0m \u001b[1m1s\u001b[0m 3ms/step - accuracy: 0.9598 - loss: 0.1367 - val_accuracy: 0.9720 - val_loss: 0.0952\n",
      "Epoch 3/100\n",
      "\u001b[1m469/469\u001b[0m \u001b[32m━━━━━━━━━━━━━━━━━━━━\u001b[0m\u001b[37m\u001b[0m \u001b[1m1s\u001b[0m 3ms/step - accuracy: 0.9756 - loss: 0.0820 - val_accuracy: 0.9777 - val_loss: 0.0715\n",
      "Epoch 4/100\n",
      "\u001b[1m469/469\u001b[0m \u001b[32m━━━━━━━━━━━━━━━━━━━━\u001b[0m\u001b[37m\u001b[0m \u001b[1m2s\u001b[0m 3ms/step - accuracy: 0.9808 - loss: 0.0628 - val_accuracy: 0.9803 - val_loss: 0.0613\n",
      "Epoch 5/100\n",
      "\u001b[1m469/469\u001b[0m \u001b[32m━━━━━━━━━━━━━━━━━━━━\u001b[0m\u001b[37m\u001b[0m \u001b[1m2s\u001b[0m 3ms/step - accuracy: 0.9862 - loss: 0.0457 - val_accuracy: 0.9834 - val_loss: 0.0516\n",
      "Epoch 6/100\n",
      "\u001b[1m469/469\u001b[0m \u001b[32m━━━━━━━━━━━━━━━━━━━━\u001b[0m\u001b[37m\u001b[0m \u001b[1m2s\u001b[0m 3ms/step - accuracy: 0.9892 - loss: 0.0368 - val_accuracy: 0.9823 - val_loss: 0.0536\n",
      "Epoch 7/100\n",
      "\u001b[1m469/469\u001b[0m \u001b[32m━━━━━━━━━━━━━━━━━━━━\u001b[0m\u001b[37m\u001b[0m \u001b[1m2s\u001b[0m 3ms/step - accuracy: 0.9905 - loss: 0.0297 - val_accuracy: 0.9862 - val_loss: 0.0444\n",
      "Epoch 8/100\n",
      "\u001b[1m469/469\u001b[0m \u001b[32m━━━━━━━━━━━━━━━━━━━━\u001b[0m\u001b[37m\u001b[0m \u001b[1m2s\u001b[0m 3ms/step - accuracy: 0.9923 - loss: 0.0247 - val_accuracy: 0.9831 - val_loss: 0.0520\n",
      "Epoch 9/100\n",
      "\u001b[1m469/469\u001b[0m \u001b[32m━━━━━━━━━━━━━━━━━━━━\u001b[0m\u001b[37m\u001b[0m \u001b[1m2s\u001b[0m 3ms/step - accuracy: 0.9940 - loss: 0.0198 - val_accuracy: 0.9855 - val_loss: 0.0479\n",
      "Epoch 10/100\n",
      "\u001b[1m469/469\u001b[0m \u001b[32m━━━━━━━━━━━━━━━━━━━━\u001b[0m\u001b[37m\u001b[0m \u001b[1m2s\u001b[0m 3ms/step - accuracy: 0.9949 - loss: 0.0165 - val_accuracy: 0.9840 - val_loss: 0.0546\n",
      "Epoch 11/100\n",
      "\u001b[1m469/469\u001b[0m \u001b[32m━━━━━━━━━━━━━━━━━━━━\u001b[0m\u001b[37m\u001b[0m \u001b[1m2s\u001b[0m 3ms/step - accuracy: 0.9943 - loss: 0.0178 - val_accuracy: 0.9865 - val_loss: 0.0454\n",
      "Epoch 12/100\n",
      "\u001b[1m469/469\u001b[0m \u001b[32m━━━━━━━━━━━━━━━━━━━━\u001b[0m\u001b[37m\u001b[0m \u001b[1m2s\u001b[0m 3ms/step - accuracy: 0.9964 - loss: 0.0127 - val_accuracy: 0.9850 - val_loss: 0.0516\n"
     ]
    }
   ],
   "source": [
    "#compile the model\n",
    "optimizer=tf.keras.optimizers.Adam(learning_rate=0.001)\n",
    "losses=tf.keras.losses.CategoricalCrossentropy\n",
    "metrics=['accuracy']\n",
    "model.compile(optimizer=optimizer,loss=losses,metrics=metrics)\n",
    "#fit the model\n",
    "early_stopping=tf.keras.callbacks.EarlyStopping(monitor='val_loss',patience=5,restore_best_weights=True)\n",
    "history=model.fit(X_train_scaled,y_train_onehot,epochs=100,callbacks=[early_stopping],batch_size=128,validation_data=(X_test_scaled,y_test_onehot))"
   ]
  },
  {
   "cell_type": "code",
   "execution_count": 12,
   "id": "69711dd1",
   "metadata": {
    "execution": {
     "iopub.execute_input": "2025-10-18T12:17:24.164117Z",
     "iopub.status.busy": "2025-10-18T12:17:24.163647Z",
     "iopub.status.idle": "2025-10-18T12:17:25.500307Z",
     "shell.execute_reply": "2025-10-18T12:17:25.499752Z"
    },
    "papermill": {
     "duration": 1.354575,
     "end_time": "2025-10-18T12:17:25.501437",
     "exception": false,
     "start_time": "2025-10-18T12:17:24.146862",
     "status": "completed"
    },
    "tags": []
   },
   "outputs": [
    {
     "name": "stdout",
     "output_type": "stream",
     "text": [
      "\u001b[1m313/313\u001b[0m \u001b[32m━━━━━━━━━━━━━━━━━━━━\u001b[0m\u001b[37m\u001b[0m \u001b[1m1s\u001b[0m 2ms/step - accuracy: 0.9821 - loss: 0.0548\n"
     ]
    }
   ],
   "source": [
    "#evaluate the model\n",
    "loss,acc=model.evaluate(X_test_scaled,y_test_onehot)"
   ]
  },
  {
   "cell_type": "code",
   "execution_count": 13,
   "id": "b29f38e0",
   "metadata": {
    "execution": {
     "iopub.execute_input": "2025-10-18T12:17:25.537268Z",
     "iopub.status.busy": "2025-10-18T12:17:25.537048Z",
     "iopub.status.idle": "2025-10-18T12:17:25.818101Z",
     "shell.execute_reply": "2025-10-18T12:17:25.817315Z"
    },
    "papermill": {
     "duration": 0.30002,
     "end_time": "2025-10-18T12:17:25.819302",
     "exception": false,
     "start_time": "2025-10-18T12:17:25.519282",
     "status": "completed"
    },
    "tags": []
   },
   "outputs": [
    {
     "data": {
      "image/png": "[encoded data removed]",
      "text/plain": [
       "<Figure size 1000x500 with 1 Axes>"
      ]
     },
     "metadata": {},
     "output_type": "display_data"
    }
   ],
   "source": [
    "#plotting learning_curves\n",
    "pd.DataFrame(history.history).plot(figsize=(10,5))\n",
    "plt.grid(True)\n",
    "plt.gca().set_ylim(0, 1)\n",
    "plt.show()"
   ]
  },
  {
   "cell_type": "code",
   "execution_count": 14,
   "id": "90d62045",
   "metadata": {
    "execution": {
     "iopub.execute_input": "2025-10-18T12:17:25.855205Z",
     "iopub.status.busy": "2025-10-18T12:17:25.854927Z",
     "iopub.status.idle": "2025-10-18T12:17:26.013133Z",
     "shell.execute_reply": "2025-10-18T12:17:26.012402Z"
    },
    "papermill": {
     "duration": 0.177325,
     "end_time": "2025-10-18T12:17:26.014407",
     "exception": false,
     "start_time": "2025-10-18T12:17:25.837082",
     "status": "completed"
    },
    "tags": []
   },
   "outputs": [
    {
     "data": {
      "text/plain": [
       "<matplotlib.image.AxesImage at 0x79c12c15f350>"
      ]
     },
     "execution_count": 14,
     "metadata": {},
     "output_type": "execute_result"
    },
    {
     "data": {
      "image/png": "[encoded data removed]",
      "text/plain": [
       "<Figure size 640x480 with 1 Axes>"
      ]
     },
     "metadata": {},
     "output_type": "display_data"
    }
   ],
   "source": [
    "# Plot the Image\n",
    "image_index = 1437\n",
    "plt.imshow(X_test[image_index], cmap='Greys')"
   ]
  },
  {
   "cell_type": "code",
   "execution_count": 15,
   "id": "469a82f5",
   "metadata": {
    "execution": {
     "iopub.execute_input": "2025-10-18T12:17:26.072553Z",
     "iopub.status.busy": "2025-10-18T12:17:26.072188Z",
     "iopub.status.idle": "2025-10-18T12:17:26.639130Z",
     "shell.execute_reply": "2025-10-18T12:17:26.638164Z"
    },
    "papermill": {
     "duration": 0.592907,
     "end_time": "2025-10-18T12:17:26.640413",
     "exception": false,
     "start_time": "2025-10-18T12:17:26.047506",
     "status": "completed"
    },
    "tags": []
   },
   "outputs": [
    {
     "name": "stdout",
     "output_type": "stream",
     "text": [
      "\u001b[1m1/1\u001b[0m \u001b[32m━━━━━━━━━━━━━━━━━━━━\u001b[0m\u001b[37m\u001b[0m \u001b[1m1s\u001b[0m 519ms/step\n",
      "4\n"
     ]
    }
   ],
   "source": [
    "# Make Prediction\n",
    "pred = model.predict(X_test_scaled[image_index].reshape(1,32,32,1))\n",
    "print(pred.argmax())"
   ]
  },
  {
   "cell_type": "code",
   "execution_count": null,
   "id": "0ed60760",
   "metadata": {
    "papermill": {
     "duration": 0.017478,
     "end_time": "2025-10-18T12:17:26.678248",
     "exception": false,
     "start_time": "2025-10-18T12:17:26.660770",
     "status": "completed"
    },
    "tags": []
   },
   "outputs": [],
   "source": []
  }
 ],
 "metadata": {
  "kaggle": {
   "accelerator": "nvidiaTeslaT4",
   "dataSources": [],
   "dockerImageVersionId": 31154,
   "isGpuEnabled": true,
   "isInternetEnabled": true,
   "language": "python",
   "sourceType": "notebook"
  },
  "kernelspec": {
   "display_name": "Python 3",
   "language": "python",
   "name": "python3"
  },
  "language_info": {
   "codemirror_mode": {
    "name": "ipython",
    "version": 3
   },
   "file_extension": ".py",
   "mimetype": "text/x-python",
   "name": "python",
   "nbconvert_exporter": "python",
   "pygments_lexer": "ipython3",
   "version": "3.11.13"
  },
  "papermill": {
   "default_parameters": {},
   "duration": 57.066046,
   "end_time": "2025-10-18T12:17:29.924220",
   "environment_variables": {},
   "exception": null,
   "input_path": "__notebook__.ipynb",
   "output_path": "__notebook__.ipynb",
   "parameters": {},
   "start_time": "2025-10-18T12:16:32.858174",
   "version": "2.6.0"
  }
 },
 "nbformat": 4,
 "nbformat_minor": 5
}
